{
  "cells": [
    {
      "cell_type": "markdown",
      "metadata": {
        "id": "view-in-github",
        "colab_type": "text"
      },
      "source": [
        "<a href=\"https://colab.research.google.com/github/sankalpbhatia2003/Speech-Emotion-Analyzer/blob/master/emotion_speech_recognition.ipynb\" target=\"_parent\"><img src=\"https://colab.research.google.com/assets/colab-badge.svg\" alt=\"Open In Colab\"/></a>"
      ]
    },
    {
      "cell_type": "code",
      "execution_count": 68,
      "metadata": {
        "colab": {
          "base_uri": "https://localhost:8080/"
        },
        "id": "FxBxxX26tIlI",
        "outputId": "01adcaeb-4375-4b4f-87a1-f6b3ee6d1851"
      },
      "outputs": [
        {
          "output_type": "stream",
          "name": "stdout",
          "text": [
            "Looking in indexes: https://pypi.org/simple, https://us-python.pkg.dev/colab-wheels/public/simple/\n",
            "Requirement already satisfied: keras in /usr/local/lib/python3.8/dist-packages (2.11.0)\n"
          ]
        }
      ],
      "source": [
        "pip install keras"
      ]
    },
    {
      "cell_type": "code",
      "execution_count": 69,
      "metadata": {
        "colab": {
          "base_uri": "https://localhost:8080/"
        },
        "id": "kZfaG6AFtPxn",
        "outputId": "bc7b7a69-18a8-4083-c39a-e87983cd7d85"
      },
      "outputs": [
        {
          "output_type": "stream",
          "name": "stdout",
          "text": [
            "Looking in indexes: https://pypi.org/simple, https://us-python.pkg.dev/colab-wheels/public/simple/\n",
            "Requirement already satisfied: scikit-learn in /usr/local/lib/python3.8/dist-packages (1.0.2)\n",
            "Requirement already satisfied: scipy>=1.1.0 in /usr/local/lib/python3.8/dist-packages (from scikit-learn) (1.7.3)\n",
            "Requirement already satisfied: threadpoolctl>=2.0.0 in /usr/local/lib/python3.8/dist-packages (from scikit-learn) (3.1.0)\n",
            "Requirement already satisfied: numpy>=1.14.6 in /usr/local/lib/python3.8/dist-packages (from scikit-learn) (1.21.6)\n",
            "Requirement already satisfied: joblib>=0.11 in /usr/local/lib/python3.8/dist-packages (from scikit-learn) (1.2.0)\n"
          ]
        }
      ],
      "source": [
        "pip install scikit-learn"
      ]
    },
    {
      "cell_type": "code",
      "execution_count": 70,
      "metadata": {
        "colab": {
          "base_uri": "https://localhost:8080/"
        },
        "id": "PwGoTImXvtB3",
        "outputId": "2b43d7f3-7159-47b4-e856-9523c2a91132"
      },
      "outputs": [
        {
          "output_type": "stream",
          "name": "stdout",
          "text": [
            "Drive already mounted at /content/drive; to attempt to forcibly remount, call drive.mount(\"/content/drive\", force_remount=True).\n"
          ]
        }
      ],
      "source": [
        "from google.colab import drive\n",
        "drive.mount('/content/drive')"
      ]
    },
    {
      "cell_type": "code",
      "execution_count": 71,
      "metadata": {
        "id": "_ie5Qud8rmb3"
      },
      "outputs": [],
      "source": [
        "import librosa\n",
        "import librosa.display\n",
        "import numpy as np\n",
        "import pandas as pd\n",
        "import matplotlib.pyplot as plt\n",
        "import tensorflow as tf\n",
        "from matplotlib.pyplot import specgram\n",
        "import keras\n",
        "from keras.preprocessing import sequence\n",
        "from keras.models import Sequential\n",
        "from keras.layers import Dense, Embedding\n",
        "from keras.layers import LSTM\n",
        "from keras.preprocessing.text import Tokenizer\n",
        "#from keras.preprocessing.sequence import pad_sequences\n",
        "from tensorflow.keras.preprocessing.sequence import pad_sequences\n",
        "from keras.utils import to_categorical\n",
        "from keras.layers import Input, Flatten, Dropout, Activation\n",
        "from keras.layers import Conv1D, MaxPooling1D, AveragePooling1D\n",
        "from keras.models import Model\n",
        "from keras.callbacks import ModelCheckpoint\n",
        "from sklearn.metrics import confusion_matrix"
      ]
    },
    {
      "cell_type": "code",
      "execution_count": 72,
      "metadata": {
        "id": "VMMV60U3s-QL"
      },
      "outputs": [],
      "source": [
        "from keras import regularizers"
      ]
    },
    {
      "cell_type": "code",
      "execution_count": 73,
      "metadata": {
        "id": "fy91cZMWt3mZ"
      },
      "outputs": [],
      "source": [
        "import os"
      ]
    },
    {
      "cell_type": "code",
      "execution_count": 74,
      "metadata": {
        "id": "yvsw2iCdtsax"
      },
      "outputs": [],
      "source": [
        "# Path to RAVDESS Dataset\n",
        "Ravdess = \"/content/drive/MyDrive/Voice Training Data /audio_speech_actors_01-24\" #\"/content/drive/MyDrive/Voice Training Data /audio_speech_actors_01-24\" "
      ]
    },
    {
      "cell_type": "code",
      "execution_count": 75,
      "metadata": {
        "id": "uAc_jpTWw4aS"
      },
      "outputs": [],
      "source": [
        "mylist= os.listdir(Ravdess)"
      ]
    },
    {
      "cell_type": "markdown",
      "metadata": {
        "id": "II0hXwpJt6Xo"
      },
      "source": [
        "**Plotting the audio file's waveform and spectograph**"
      ]
    },
    {
      "cell_type": "code",
      "execution_count": 76,
      "metadata": {
        "id": "hSUkKGg3t_pC"
      },
      "outputs": [],
      "source": [
        "data, sampling_rate = librosa.load(\"/content/drive/MyDrive/Sun Life Financial Audio Files/November '22/Manjit Singh/audio_1.wav\")"
      ]
    },
    {
      "cell_type": "code",
      "execution_count": 77,
      "metadata": {
        "colab": {
          "base_uri": "https://localhost:8080/",
          "height": 368
        },
        "id": "NhiBq2ONwQP-",
        "outputId": "6d447692-bd48-450d-8153-388d7cbff657"
      },
      "outputs": [
        {
          "output_type": "execute_result",
          "data": {
            "text/plain": [
              "<matplotlib.collections.PolyCollection at 0x7f86b359b370>"
            ]
          },
          "metadata": {},
          "execution_count": 77
        },
        {
          "output_type": "display_data",
          "data": {
            "text/plain": [
              "<Figure size 1080x360 with 1 Axes>"
            ],
            "image/png": "[encoded data removed]"
          },
          "metadata": {
            "needs_background": "light"
          }
        }
      ],
      "source": [
        "#% pylab inline\n",
        "import os\n",
        "import pandas as pd\n",
        "import librosa\n",
        "import glob \n",
        "\n",
        "plt.figure(figsize=(15, 5))\n",
        "plt.title('Sun Life Financials - Manjit Singh\\'s Audio November 2022')\n",
        "librosa.display.waveplot(data, sr=sampling_rate)"
      ]
    },
    {
      "cell_type": "markdown",
      "metadata": {
        "id": "gP-rzGOArMj6"
      },
      "source": [
        "**Creating a Spectogram**"
      ]
    },
    {
      "cell_type": "code",
      "execution_count": 78,
      "metadata": {
        "id": "HM6a5sWfrP94"
      },
      "outputs": [],
      "source": [
        "def create_spectrogram(data, sr):\n",
        "    # stft function converts the data into short term fourier transform\n",
        "    X = librosa.stft(data)\n",
        "    Xdb = librosa.amplitude_to_db(abs(X))\n",
        "    plt.figure(figsize=(12, 3))\n",
        "    librosa.display.specshow(Xdb, sr=sr, x_axis='time', y_axis='hz')   \n",
        "    #librosa.display.specshow(Xdb, sr=sr, x_axis='time', y_axis='log')\n",
        "    plt.colorbar()"
      ]
    },
    {
      "cell_type": "code",
      "execution_count": 79,
      "metadata": {
        "colab": {
          "base_uri": "https://localhost:8080/",
          "height": 225
        },
        "id": "-xDaBEfyrctN",
        "outputId": "89810b36-e45f-463b-bf80-4aa6eb024ba5"
      },
      "outputs": [
        {
          "output_type": "display_data",
          "data": {
            "text/plain": [
              "<Figure size 864x216 with 2 Axes>"
            ],
            "image/png": "[encoded data removed]"
          },
          "metadata": {
            "needs_background": "light"
          }
        }
      ],
      "source": [
        "data, sampling_rate = librosa.load(\"/content/drive/MyDrive/Sun Life Financial Audio Files/November '22/Manjit Singh/audio_1.wav\")\n",
        "create_spectrogram(data, sampling_rate)"
      ]
    },
    {
      "cell_type": "markdown",
      "metadata": {
        "id": "5XWr3YJuwphW"
      },
      "source": [
        "**Setting the labels**"
      ]
    },
    {
      "cell_type": "code",
      "execution_count": 80,
      "metadata": {
        "colab": {
          "base_uri": "https://localhost:8080/",
          "height": 1000
        },
        "id": "hcptxgEOt1mw",
        "outputId": "1c088f49-fd67-498b-ee2c-f3e80c59d7df"
      },
      "outputs": [
        {
          "output_type": "stream",
          "name": "stdout",
          "text": [
            "/content/drive/MyDrive/Voice Training Data /audio_speech_actors_01-24/Actor_21\n",
            "/content/drive/MyDrive/Voice Training Data /audio_speech_actors_01-24/Actor_04\n",
            "/content/drive/MyDrive/Voice Training Data /audio_speech_actors_01-24/Actor_19\n",
            "/content/drive/MyDrive/Voice Training Data /audio_speech_actors_01-24/Actor_03\n",
            "/content/drive/MyDrive/Voice Training Data /audio_speech_actors_01-24/Actor_17\n",
            "/content/drive/MyDrive/Voice Training Data /audio_speech_actors_01-24/Actor_18\n",
            "/content/drive/MyDrive/Voice Training Data /audio_speech_actors_01-24/Actor_20\n",
            "/content/drive/MyDrive/Voice Training Data /audio_speech_actors_01-24/Actor_16\n",
            "/content/drive/MyDrive/Voice Training Data /audio_speech_actors_01-24/Actor_11\n",
            "/content/drive/MyDrive/Voice Training Data /audio_speech_actors_01-24/Actor_10\n",
            "/content/drive/MyDrive/Voice Training Data /audio_speech_actors_01-24/Actor_15\n",
            "/content/drive/MyDrive/Voice Training Data /audio_speech_actors_01-24/Actor_13\n",
            "/content/drive/MyDrive/Voice Training Data /audio_speech_actors_01-24/Actor_12\n",
            "/content/drive/MyDrive/Voice Training Data /audio_speech_actors_01-24/Actor_02\n",
            "/content/drive/MyDrive/Voice Training Data /audio_speech_actors_01-24/Actor_22\n",
            "/content/drive/MyDrive/Voice Training Data /audio_speech_actors_01-24/Actor_14\n",
            "/content/drive/MyDrive/Voice Training Data /audio_speech_actors_01-24/Actor_05\n",
            "/content/drive/MyDrive/Voice Training Data /audio_speech_actors_01-24/Actor_23\n",
            "/content/drive/MyDrive/Voice Training Data /audio_speech_actors_01-24/Actor_24\n",
            "/content/drive/MyDrive/Voice Training Data /audio_speech_actors_01-24/Actor_09\n",
            "/content/drive/MyDrive/Voice Training Data /audio_speech_actors_01-24/Actor_07\n",
            "/content/drive/MyDrive/Voice Training Data /audio_speech_actors_01-24/Actor_01\n",
            "/content/drive/MyDrive/Voice Training Data /audio_speech_actors_01-24/Actor_06\n",
            "/content/drive/MyDrive/Voice Training Data /audio_speech_actors_01-24/Actor_08\n"
          ]
        },
        {
          "output_type": "execute_result",
          "data": {
            "text/plain": [
              "    Emotions                                               Path\n",
              "0    neutral  /content/drive/MyDrive/Voice Training Data /au...\n",
              "1    neutral  /content/drive/MyDrive/Voice Training Data /au...\n",
              "2       calm  /content/drive/MyDrive/Voice Training Data /au...\n",
              "3       calm  /content/drive/MyDrive/Voice Training Data /au...\n",
              "4    neutral  /content/drive/MyDrive/Voice Training Data /au...\n",
              "5    neutral  /content/drive/MyDrive/Voice Training Data /au...\n",
              "6       calm  /content/drive/MyDrive/Voice Training Data /au...\n",
              "7       calm  /content/drive/MyDrive/Voice Training Data /au...\n",
              "8       calm  /content/drive/MyDrive/Voice Training Data /au...\n",
              "9    disgust  /content/drive/MyDrive/Voice Training Data /au...\n",
              "10     happy  /content/drive/MyDrive/Voice Training Data /au...\n",
              "11     angry  /content/drive/MyDrive/Voice Training Data /au...\n",
              "12  surprise  /content/drive/MyDrive/Voice Training Data /au...\n",
              "13       sad  /content/drive/MyDrive/Voice Training Data /au...\n",
              "14       sad  /content/drive/MyDrive/Voice Training Data /au...\n",
              "15      fear  /content/drive/MyDrive/Voice Training Data /au...\n",
              "16     happy  /content/drive/MyDrive/Voice Training Data /au...\n",
              "17     happy  /content/drive/MyDrive/Voice Training Data /au...\n",
              "18     happy  /content/drive/MyDrive/Voice Training Data /au...\n",
              "19     angry  /content/drive/MyDrive/Voice Training Data /au...\n",
              "20      calm  /content/drive/MyDrive/Voice Training Data /au...\n",
              "21   disgust  /content/drive/MyDrive/Voice Training Data /au...\n",
              "22     angry  /content/drive/MyDrive/Voice Training Data /au...\n",
              "23  surprise  /content/drive/MyDrive/Voice Training Data /au...\n",
              "24       sad  /content/drive/MyDrive/Voice Training Data /au...\n",
              "25     angry  /content/drive/MyDrive/Voice Training Data /au...\n",
              "26     happy  /content/drive/MyDrive/Voice Training Data /au...\n",
              "27       sad  /content/drive/MyDrive/Voice Training Data /au...\n",
              "28      calm  /content/drive/MyDrive/Voice Training Data /au...\n",
              "29      calm  /content/drive/MyDrive/Voice Training Data /au...\n",
              "30      fear  /content/drive/MyDrive/Voice Training Data /au...\n",
              "31     angry  /content/drive/MyDrive/Voice Training Data /au...\n",
              "32   disgust  /content/drive/MyDrive/Voice Training Data /au...\n",
              "33      fear  /content/drive/MyDrive/Voice Training Data /au...\n",
              "34     angry  /content/drive/MyDrive/Voice Training Data /au...\n",
              "35   disgust  /content/drive/MyDrive/Voice Training Data /au...\n",
              "36     happy  /content/drive/MyDrive/Voice Training Data /au...\n",
              "37   disgust  /content/drive/MyDrive/Voice Training Data /au...\n",
              "38   disgust  /content/drive/MyDrive/Voice Training Data /au...\n",
              "39     angry  /content/drive/MyDrive/Voice Training Data /au...\n",
              "40  surprise  /content/drive/MyDrive/Voice Training Data /au...\n",
              "41       sad  /content/drive/MyDrive/Voice Training Data /au...\n",
              "42      fear  /content/drive/MyDrive/Voice Training Data /au...\n",
              "43  surprise  /content/drive/MyDrive/Voice Training Data /au...\n",
              "44     happy  /content/drive/MyDrive/Voice Training Data /au...\n",
              "45       sad  /content/drive/MyDrive/Voice Training Data /au...\n",
              "46      fear  /content/drive/MyDrive/Voice Training Data /au...\n",
              "47  surprise  /content/drive/MyDrive/Voice Training Data /au...\n",
              "48   disgust  /content/drive/MyDrive/Voice Training Data /au...\n",
              "49  surprise  /content/drive/MyDrive/Voice Training Data /au..."
            ],
            "text/html": [
              "\n",
              "  <div id=\"df-daa64769-17da-4014-8543-4111a00650e8\">\n",
              "    <div class=\"colab-df-container\">\n",
              "      <div>\n",
              "<style scoped>\n",
              "    .dataframe tbody tr th:only-of-type {\n",
              "        vertical-align: middle;\n",
              "    }\n",
              "\n",
              "    .dataframe tbody tr th {\n",
              "        vertical-align: top;\n",
              "    }\n",
              "\n",
              "    .dataframe thead th {\n",
              "        text-align: right;\n",
              "    }\n",
              "</style>\n",
              "<table border=\"1\" class=\"dataframe\">\n",
              "  <thead>\n",
              "    <tr style=\"text-align: right;\">\n",
              "      <th></th>\n",
              "      <th>Emotions</th>\n",
              "      <th>Path</th>\n",
              "    </tr>\n",
              "  </thead>\n",
              "  <tbody>\n",
              "    <tr>\n",
              "      <th>0</th>\n",
              "      <td>neutral</td>\n",
              "      <td>/content/drive/MyDrive/Voice Training Data /au...</td>\n",
              "    </tr>\n",
              "    <tr>\n",
              "      <th>1</th>\n",
              "      <td>neutral</td>\n",
              "      <td>/content/drive/MyDrive/Voice Training Data /au...</td>\n",
              "    </tr>\n",
              "    <tr>\n",
              "      <th>2</th>\n",
              "      <td>calm</td>\n",
              "      <td>/content/drive/MyDrive/Voice Training Data /au...</td>\n",
              "    </tr>\n",
              "    <tr>\n",
              "      <th>3</th>\n",
              "      <td>calm</td>\n",
              "      <td>/content/drive/MyDrive/Voice Training Data /au...</td>\n",
              "    </tr>\n",
              "    <tr>\n",
              "      <th>4</th>\n",
              "      <td>neutral</td>\n",
              "      <td>/content/drive/MyDrive/Voice Training Data /au...</td>\n",
              "    </tr>\n",
              "    <tr>\n",
              "      <th>5</th>\n",
              "      <td>neutral</td>\n",
              "      <td>/content/drive/MyDrive/Voice Training Data /au...</td>\n",
              "    </tr>\n",
              "    <tr>\n",
              "      <th>6</th>\n",
              "      <td>calm</td>\n",
              "      <td>/content/drive/MyDrive/Voice Training Data /au...</td>\n",
              "    </tr>\n",
              "    <tr>\n",
              "      <th>7</th>\n",
              "      <td>calm</td>\n",
              "      <td>/content/drive/MyDrive/Voice Training Data /au...</td>\n",
              "    </tr>\n",
              "    <tr>\n",
              "      <th>8</th>\n",
              "      <td>calm</td>\n",
              "      <td>/content/drive/MyDrive/Voice Training Data /au...</td>\n",
              "    </tr>\n",
              "    <tr>\n",
              "      <th>9</th>\n",
              "      <td>disgust</td>\n",
              "      <td>/content/drive/MyDrive/Voice Training Data /au...</td>\n",
              "    </tr>\n",
              "    <tr>\n",
              "      <th>10</th>\n",
              "      <td>happy</td>\n",
              "      <td>/content/drive/MyDrive/Voice Training Data /au...</td>\n",
              "    </tr>\n",
              "    <tr>\n",
              "      <th>11</th>\n",
              "      <td>angry</td>\n",
              "      <td>/content/drive/MyDrive/Voice Training Data /au...</td>\n",
              "    </tr>\n",
              "    <tr>\n",
              "      <th>12</th>\n",
              "      <td>surprise</td>\n",
              "      <td>/content/drive/MyDrive/Voice Training Data /au...</td>\n",
              "    </tr>\n",
              "    <tr>\n",
              "      <th>13</th>\n",
              "      <td>sad</td>\n",
              "      <td>/content/drive/MyDrive/Voice Training Data /au...</td>\n",
              "    </tr>\n",
              "    <tr>\n",
              "      <th>14</th>\n",
              "      <td>sad</td>\n",
              "      <td>/content/drive/MyDrive/Voice Training Data /au...</td>\n",
              "    </tr>\n",
              "    <tr>\n",
              "      <th>15</th>\n",
              "      <td>fear</td>\n",
              "      <td>/content/drive/MyDrive/Voice Training Data /au...</td>\n",
              "    </tr>\n",
              "    <tr>\n",
              "      <th>16</th>\n",
              "      <td>happy</td>\n",
              "      <td>/content/drive/MyDrive/Voice Training Data /au...</td>\n",
              "    </tr>\n",
              "    <tr>\n",
              "      <th>17</th>\n",
              "      <td>happy</td>\n",
              "      <td>/content/drive/MyDrive/Voice Training Data /au...</td>\n",
              "    </tr>\n",
              "    <tr>\n",
              "      <th>18</th>\n",
              "      <td>happy</td>\n",
              "      <td>/content/drive/MyDrive/Voice Training Data /au...</td>\n",
              "    </tr>\n",
              "    <tr>\n",
              "      <th>19</th>\n",
              "      <td>angry</td>\n",
              "      <td>/content/drive/MyDrive/Voice Training Data /au...</td>\n",
              "    </tr>\n",
              "    <tr>\n",
              "      <th>20</th>\n",
              "      <td>calm</td>\n",
              "      <td>/content/drive/MyDrive/Voice Training Data /au...</td>\n",
              "    </tr>\n",
              "    <tr>\n",
              "      <th>21</th>\n",
              "      <td>disgust</td>\n",
              "      <td>/content/drive/MyDrive/Voice Training Data /au...</td>\n",
              "    </tr>\n",
              "    <tr>\n",
              "      <th>22</th>\n",
              "      <td>angry</td>\n",
              "      <td>/content/drive/MyDrive/Voice Training Data /au...</td>\n",
              "    </tr>\n",
              "    <tr>\n",
              "      <th>23</th>\n",
              "      <td>surprise</td>\n",
              "      <td>/content/drive/MyDrive/Voice Training Data /au...</td>\n",
              "    </tr>\n",
              "    <tr>\n",
              "      <th>24</th>\n",
              "      <td>sad</td>\n",
              "      <td>/content/drive/MyDrive/Voice Training Data /au...</td>\n",
              "    </tr>\n",
              "    <tr>\n",
              "      <th>25</th>\n",
              "      <td>angry</td>\n",
              "      <td>/content/drive/MyDrive/Voice Training Data /au...</td>\n",
              "    </tr>\n",
              "    <tr>\n",
              "      <th>26</th>\n",
              "      <td>happy</td>\n",
              "      <td>/content/drive/MyDrive/Voice Training Data /au...</td>\n",
              "    </tr>\n",
              "    <tr>\n",
              "      <th>27</th>\n",
              "      <td>sad</td>\n",
              "      <td>/content/drive/MyDrive/Voice Training Data /au...</td>\n",
              "    </tr>\n",
              "    <tr>\n",
              "      <th>28</th>\n",
              "      <td>calm</td>\n",
              "      <td>/content/drive/MyDrive/Voice Training Data /au...</td>\n",
              "    </tr>\n",
              "    <tr>\n",
              "      <th>29</th>\n",
              "      <td>calm</td>\n",
              "      <td>/content/drive/MyDrive/Voice Training Data /au...</td>\n",
              "    </tr>\n",
              "    <tr>\n",
              "      <th>30</th>\n",
              "      <td>fear</td>\n",
              "      <td>/content/drive/MyDrive/Voice Training Data /au...</td>\n",
              "    </tr>\n",
              "    <tr>\n",
              "      <th>31</th>\n",
              "      <td>angry</td>\n",
              "      <td>/content/drive/MyDrive/Voice Training Data /au...</td>\n",
              "    </tr>\n",
              "    <tr>\n",
              "      <th>32</th>\n",
              "      <td>disgust</td>\n",
              "      <td>/content/drive/MyDrive/Voice Training Data /au...</td>\n",
              "    </tr>\n",
              "    <tr>\n",
              "      <th>33</th>\n",
              "      <td>fear</td>\n",
              "      <td>/content/drive/MyDrive/Voice Training Data /au...</td>\n",
              "    </tr>\n",
              "    <tr>\n",
              "      <th>34</th>\n",
              "      <td>angry</td>\n",
              "      <td>/content/drive/MyDrive/Voice Training Data /au...</td>\n",
              "    </tr>\n",
              "    <tr>\n",
              "      <th>35</th>\n",
              "      <td>disgust</td>\n",
              "      <td>/content/drive/MyDrive/Voice Training Data /au...</td>\n",
              "    </tr>\n",
              "    <tr>\n",
              "      <th>36</th>\n",
              "      <td>happy</td>\n",
              "      <td>/content/drive/MyDrive/Voice Training Data /au...</td>\n",
              "    </tr>\n",
              "    <tr>\n",
              "      <th>37</th>\n",
              "      <td>disgust</td>\n",
              "      <td>/content/drive/MyDrive/Voice Training Data /au...</td>\n",
              "    </tr>\n",
              "    <tr>\n",
              "      <th>38</th>\n",
              "      <td>disgust</td>\n",
              "      <td>/content/drive/MyDrive/Voice Training Data /au...</td>\n",
              "    </tr>\n",
              "    <tr>\n",
              "      <th>39</th>\n",
              "      <td>angry</td>\n",
              "      <td>/content/drive/MyDrive/Voice Training Data /au...</td>\n",
              "    </tr>\n",
              "    <tr>\n",
              "      <th>40</th>\n",
              "      <td>surprise</td>\n",
              "      <td>/content/drive/MyDrive/Voice Training Data /au...</td>\n",
              "    </tr>\n",
              "    <tr>\n",
              "      <th>41</th>\n",
              "      <td>sad</td>\n",
              "      <td>/content/drive/MyDrive/Voice Training Data /au...</td>\n",
              "    </tr>\n",
              "    <tr>\n",
              "      <th>42</th>\n",
              "      <td>fear</td>\n",
              "      <td>/content/drive/MyDrive/Voice Training Data /au...</td>\n",
              "    </tr>\n",
              "    <tr>\n",
              "      <th>43</th>\n",
              "      <td>surprise</td>\n",
              "      <td>/content/drive/MyDrive/Voice Training Data /au...</td>\n",
              "    </tr>\n",
              "    <tr>\n",
              "      <th>44</th>\n",
              "      <td>happy</td>\n",
              "      <td>/content/drive/MyDrive/Voice Training Data /au...</td>\n",
              "    </tr>\n",
              "    <tr>\n",
              "      <th>45</th>\n",
              "      <td>sad</td>\n",
              "      <td>/content/drive/MyDrive/Voice Training Data /au...</td>\n",
              "    </tr>\n",
              "    <tr>\n",
              "      <th>46</th>\n",
              "      <td>fear</td>\n",
              "      <td>/content/drive/MyDrive/Voice Training Data /au...</td>\n",
              "    </tr>\n",
              "    <tr>\n",
              "      <th>47</th>\n",
              "      <td>surprise</td>\n",
              "      <td>/content/drive/MyDrive/Voice Training Data /au...</td>\n",
              "    </tr>\n",
              "    <tr>\n",
              "      <th>48</th>\n",
              "      <td>disgust</td>\n",
              "      <td>/content/drive/MyDrive/Voice Training Data /au...</td>\n",
              "    </tr>\n",
              "    <tr>\n",
              "      <th>49</th>\n",
              "      <td>surprise</td>\n",
              "      <td>/content/drive/MyDrive/Voice Training Data /au...</td>\n",
              "    </tr>\n",
              "  </tbody>\n",
              "</table>\n",
              "</div>\n",
              "      <button class=\"colab-df-convert\" onclick=\"convertToInteractive('df-daa64769-17da-4014-8543-4111a00650e8')\"\n",
              "              title=\"Convert this dataframe to an interactive table.\"\n",
              "              style=\"display:none;\">\n",
              "        \n",
              "  <svg xmlns=\"http://www.w3.org/2000/svg\" height=\"24px\"viewBox=\"0 0 24 24\"\n",
              "       width=\"24px\">\n",
              "    <path d=\"M0 0h24v24H0V0z\" fill=\"none\"/>\n",
              "    <path d=\"M18.56 5.44l.94 2.06.94-2.06 2.06-.94-2.06-.94-.94-2.06-.94 2.06-2.06.94zm-11 1L8.5 8.5l.94-2.06 2.06-.94-2.06-.94L8.5 2.5l-.94 2.06-2.06.94zm10 10l.94 2.06.94-2.06 2.06-.94-2.06-.94-.94-2.06-.94 2.06-2.06.94z\"/><path d=\"M17.41 7.96l-1.37-1.37c-.4-.4-.92-.59-1.43-.59-.52 0-1.04.2-1.43.59L10.3 9.45l-7.72 7.72c-.78.78-.78 2.05 0 2.83L4 21.41c.39.39.9.59 1.41.59.51 0 1.02-.2 1.41-.59l7.78-7.78 2.81-2.81c.8-.78.8-2.07 0-2.86zM5.41 20L4 18.59l7.72-7.72 1.47 1.35L5.41 20z\"/>\n",
              "  </svg>\n",
              "      </button>\n",
              "      \n",
              "  <style>\n",
              "    .colab-df-container {\n",
              "      display:flex;\n",
              "      flex-wrap:wrap;\n",
              "      gap: 12px;\n",
              "    }\n",
              "\n",
              "    .colab-df-convert {\n",
              "      background-color: #E8F0FE;\n",
              "      border: none;\n",
              "      border-radius: 50%;\n",
              "      cursor: pointer;\n",
              "      display: none;\n",
              "      fill: #1967D2;\n",
              "      height: 32px;\n",
              "      padding: 0 0 0 0;\n",
              "      width: 32px;\n",
              "    }\n",
              "\n",
              "    .colab-df-convert:hover {\n",
              "      background-color: #E2EBFA;\n",
              "      box-shadow: 0px 1px 2px rgba(60, 64, 67, 0.3), 0px 1px 3px 1px rgba(60, 64, 67, 0.15);\n",
              "      fill: #174EA6;\n",
              "    }\n",
              "\n",
              "    [theme=dark] .colab-df-convert {\n",
              "      background-color: #3B4455;\n",
              "      fill: #D2E3FC;\n",
              "    }\n",
              "\n",
              "    [theme=dark] .colab-df-convert:hover {\n",
              "      background-color: #434B5C;\n",
              "      box-shadow: 0px 1px 3px 1px rgba(0, 0, 0, 0.15);\n",
              "      filter: drop-shadow(0px 1px 2px rgba(0, 0, 0, 0.3));\n",
              "      fill: #FFFFFF;\n",
              "    }\n",
              "  </style>\n",
              "\n",
              "      <script>\n",
              "        const buttonEl =\n",
              "          document.querySelector('#df-daa64769-17da-4014-8543-4111a00650e8 button.colab-df-convert');\n",
              "        buttonEl.style.display =\n",
              "          google.colab.kernel.accessAllowed ? 'block' : 'none';\n",
              "\n",
              "        async function convertToInteractive(key) {\n",
              "          const element = document.querySelector('#df-daa64769-17da-4014-8543-4111a00650e8');\n",
              "          const dataTable =\n",
              "            await google.colab.kernel.invokeFunction('convertToInteractive',\n",
              "                                                     [key], {});\n",
              "          if (!dataTable) return;\n",
              "\n",
              "          const docLinkHtml = 'Like what you see? Visit the ' +\n",
              "            '<a target=\"_blank\" href=https://colab.research.google.com/notebooks/data_table.ipynb>data table notebook</a>'\n",
              "            + ' to learn more about interactive tables.';\n",
              "          element.innerHTML = '';\n",
              "          dataTable['output_type'] = 'display_data';\n",
              "          await google.colab.output.renderOutput(dataTable, element);\n",
              "          const docLink = document.createElement('div');\n",
              "          docLink.innerHTML = docLinkHtml;\n",
              "          element.appendChild(docLink);\n",
              "        }\n",
              "      </script>\n",
              "    </div>\n",
              "  </div>\n",
              "  "
            ]
          },
          "metadata": {},
          "execution_count": 80
        }
      ],
      "source": [
        "Ravdess = \"/content/drive/MyDrive/Voice Training Data /audio_speech_actors_01-24\"\n",
        "\n",
        "ravdess_directory_list = os.listdir(Ravdess)\n",
        "\n",
        "file_emotion = []\n",
        "file_path = []\n",
        "for dir in ravdess_directory_list:\n",
        "    # as their are 20 different actors in our previous directory we need to extract files for each actor.\n",
        "    #print(str(Ravdess) + str(dir))\n",
        "    print(str(Ravdess) + '/' + str(dir))\n",
        "    actor = os.listdir(Ravdess + '/' + dir)\n",
        "    for file in actor:\n",
        "        part = file.split('.')[0]\n",
        "        part = part.split('-')\n",
        "        # third part in each file represents the emotion associated to that file.\n",
        "        #print(part[2])\n",
        "        #print(file)\n",
        "        file_emotion.append(int(part[2]))\n",
        "        file_path.append(Ravdess + '/' + dir + '/' + file)\n",
        "        \n",
        "#/content/drive/MyDrive/Voice Training Data /Actor_01/03-01-01-01-01-01-01.wav\n",
        "# dataframe for emotion of files\n",
        "emotion_df = pd.DataFrame(file_emotion, columns=['Emotions'])\n",
        "\n",
        "# dataframe for path of files.\n",
        "path_df = pd.DataFrame(file_path, columns=['Path'])\n",
        "Ravdess_df = pd.concat([emotion_df, path_df], axis=1)\n",
        "\n",
        "# changing integers to actual emotions.\n",
        "Ravdess_df.Emotions.replace({1:'neutral', 2:'calm', 3:'happy', 4:'sad', 5:'angry', 6:'fear', 7:'disgust', 8:'surprise'}, inplace=True)\n",
        "Ravdess_df.head(50)"
      ]
    },
    {
      "cell_type": "code",
      "execution_count": 81,
      "metadata": {
        "colab": {
          "base_uri": "https://localhost:8080/"
        },
        "id": "rSU5Hj-1ytzn",
        "outputId": "6144a5b3-ddfa-48e2-c3ba-ad37cc982e61"
      },
      "outputs": [
        {
          "output_type": "stream",
          "name": "stdout",
          "text": [
            "      Emotions                                               Path\n",
            "0      neutral  /content/drive/MyDrive/Voice Training Data /au...\n",
            "1      neutral  /content/drive/MyDrive/Voice Training Data /au...\n",
            "2         calm  /content/drive/MyDrive/Voice Training Data /au...\n",
            "3         calm  /content/drive/MyDrive/Voice Training Data /au...\n",
            "4      neutral  /content/drive/MyDrive/Voice Training Data /au...\n",
            "...        ...                                                ...\n",
            "1435  surprise  /content/drive/MyDrive/Voice Training Data /au...\n",
            "1436   disgust  /content/drive/MyDrive/Voice Training Data /au...\n",
            "1437   disgust  /content/drive/MyDrive/Voice Training Data /au...\n",
            "1438  surprise  /content/drive/MyDrive/Voice Training Data /au...\n",
            "1439      fear  /content/drive/MyDrive/Voice Training Data /au...\n",
            "\n",
            "[1440 rows x 2 columns]\n"
          ]
        }
      ],
      "source": [
        "# Saving the above dataframe as data_path\n",
        "data_path = Ravdess_df\n",
        "print(data_path)"
      ]
    },
    {
      "cell_type": "markdown",
      "metadata": {
        "id": "9tDqR9Q4yZY0"
      },
      "source": [
        "**Data Augmentation**"
      ]
    },
    {
      "cell_type": "code",
      "execution_count": 82,
      "metadata": {
        "colab": {
          "base_uri": "https://localhost:8080/"
        },
        "id": "1LAFg3eXyY0o",
        "outputId": "19e89d44-5a61-43f3-8b78-ba9e4423398a"
      },
      "outputs": [
        {
          "output_type": "stream",
          "name": "stdout",
          "text": [
            "/content/drive/MyDrive/Voice Training Data /audio_speech_actors_01-24/Actor_21/03-01-01-01-02-02-21.wav\n"
          ]
        }
      ],
      "source": [
        "def noise(data):\n",
        "    noise_amp = 0.035*np.random.uniform()*np.amax(data)\n",
        "    data = data + noise_amp*np.random.normal(size=data.shape[0])\n",
        "    return data\n",
        "\n",
        "def stretch(data, rate=0.8):\n",
        "    return librosa.effects.time_stretch(data, rate)\n",
        "\n",
        "def shift(data):\n",
        "    shift_range = int(np.random.uniform(low=-5, high = 5)*1000)\n",
        "    return np.roll(data, shift_range)\n",
        "\n",
        "def pitch(data, sampling_rate, pitch_factor=0.7):\n",
        "    return librosa.effects.pitch_shift(data, sampling_rate, pitch_factor)\n",
        "\n",
        "# taking any example and checking for techniques.\n",
        "path = np.array(data_path.Path)[1]\n",
        "print(path)\n",
        "data, sample_rate = librosa.load(path)\n",
        "\n",
        "#/content/drive/MyDrive/Voice Training Data /audio_speech_actors_01-24/Actor_21/03-01-01-01-02-02-21.wav"
      ]
    },
    {
      "cell_type": "markdown",
      "metadata": {
        "id": "RXZnxLBWyJwm"
      },
      "source": [
        "**Feature Extraction**"
      ]
    },
    {
      "cell_type": "code",
      "execution_count": 83,
      "metadata": {
        "id": "Q_CSeckvyLxv"
      },
      "outputs": [],
      "source": [
        "def extract_features(data):\n",
        "    # ZCR\n",
        "    result = np.array([])\n",
        "    zcr = np.mean(librosa.feature.zero_crossing_rate(y=data).T, axis=0)\n",
        "    result=np.hstack((result, zcr)) # stacking horizontally\n",
        "\n",
        "    # Chroma_stft\n",
        "    stft = np.abs(librosa.stft(data))\n",
        "    chroma_stft = np.mean(librosa.feature.chroma_stft(S=stft, sr=sample_rate).T, axis=0)\n",
        "    result = np.hstack((result, chroma_stft)) # stacking horizontally\n",
        "\n",
        "    # MFCC\n",
        "    mfcc = np.mean(librosa.feature.mfcc(y=data, sr=sample_rate).T, axis=0)\n",
        "    result = np.hstack((result, mfcc)) # stacking horizontally\n",
        "\n",
        "    # Root Mean Square Value\n",
        "    rms = np.mean(librosa.feature.rms(y=data).T, axis=0)\n",
        "    result = np.hstack((result, rms)) # stacking horizontally\n",
        "\n",
        "    # MelSpectogram\n",
        "    mel = np.mean(librosa.feature.melspectrogram(y=data, sr=sample_rate).T, axis=0)\n",
        "    result = np.hstack((result, mel)) # stacking horizontally\n",
        "    \n",
        "    return result\n",
        "\n",
        "def get_features(path):\n",
        "    # duration and offset are used to take care of the no audio in start and the ending of each audio files as seen above.\n",
        "    data, sample_rate = librosa.load(path, duration=2.5, offset=0.6)\n",
        "    \n",
        "    # without augmentation\n",
        "    res1 = extract_features(data)\n",
        "    result = np.array(res1)\n",
        "    \n",
        "    # data with noise\n",
        "    noise_data = noise(data)\n",
        "    res2 = extract_features(noise_data)\n",
        "    result = np.vstack((result, res2)) # stacking vertically\n",
        "    \n",
        "    # data with stretching and pitching\n",
        "    new_data = stretch(data)\n",
        "    data_stretch_pitch = pitch(new_data, sample_rate)\n",
        "    res3 = extract_features(data_stretch_pitch)\n",
        "    result = np.vstack((result, res3)) # stacking vertically\n",
        "    \n",
        "    return result"
      ]
    },
    {
      "cell_type": "code",
      "execution_count": 66,
      "metadata": {
        "id": "zGqBRCfo2PZh"
      },
      "outputs": [],
      "source": [
        "X, Y = [], []\n",
        "for path, emotion in zip(data_path.Path, data_path.Emotions):\n",
        "    feature = get_features(path)\n",
        "    for ele in feature:\n",
        "        X.append(ele)\n",
        "        # appending emotion 3 times as we have made 3 augmentation techniques on each audio file.\n",
        "        Y.append(emotion)"
      ]
    },
    {
      "cell_type": "code",
      "execution_count": 94,
      "metadata": {
        "colab": {
          "base_uri": "https://localhost:8080/"
        },
        "id": "sSFPMUgF2Rvx",
        "outputId": "da705633-5288-419e-f99d-e416158e8cc3"
      },
      "outputs": [
        {
          "output_type": "execute_result",
          "data": {
            "text/plain": [
              "(4320, 4320, (1440,))"
            ]
          },
          "metadata": {},
          "execution_count": 94
        }
      ],
      "source": [
        "len(X), len(Y), data_path.Path.shape"
      ]
    },
    {
      "cell_type": "code",
      "execution_count": 95,
      "metadata": {
        "colab": {
          "base_uri": "https://localhost:8080/",
          "height": 442
        },
        "id": "xq02y1WU2U18",
        "outputId": "b16713ed-26a4-4436-c0b4-6fd7699d14c4"
      },
      "outputs": [
        {
          "output_type": "error",
          "ename": "ValueError",
          "evalue": "ignored",
          "traceback": [
            "\u001b[0;31m---------------------------------------------------------------------------\u001b[0m",
            "\u001b[0;31mKeyError\u001b[0m                                  Traceback (most recent call last)",
            "\u001b[0;32m/usr/local/lib/python3.8/dist-packages/pandas/core/frame.py\u001b[0m in \u001b[0;36m_set_item_mgr\u001b[0;34m(self, key, value)\u001b[0m\n\u001b[1;32m   3750\u001b[0m         \u001b[0;32mtry\u001b[0m\u001b[0;34m:\u001b[0m\u001b[0;34m\u001b[0m\u001b[0;34m\u001b[0m\u001b[0m\n\u001b[0;32m-> 3751\u001b[0;31m             \u001b[0mloc\u001b[0m \u001b[0;34m=\u001b[0m \u001b[0mself\u001b[0m\u001b[0;34m.\u001b[0m\u001b[0m_info_axis\u001b[0m\u001b[0;34m.\u001b[0m\u001b[0mget_loc\u001b[0m\u001b[0;34m(\u001b[0m\u001b[0mkey\u001b[0m\u001b[0;34m)\u001b[0m\u001b[0;34m\u001b[0m\u001b[0;34m\u001b[0m\u001b[0m\n\u001b[0m\u001b[1;32m   3752\u001b[0m         \u001b[0;32mexcept\u001b[0m \u001b[0mKeyError\u001b[0m\u001b[0;34m:\u001b[0m\u001b[0;34m\u001b[0m\u001b[0;34m\u001b[0m\u001b[0m\n",
            "\u001b[0;32m/usr/local/lib/python3.8/dist-packages/pandas/core/indexes/range.py\u001b[0m in \u001b[0;36mget_loc\u001b[0;34m(self, key, method, tolerance)\u001b[0m\n\u001b[1;32m    387\u001b[0m                     \u001b[0;32mraise\u001b[0m \u001b[0mKeyError\u001b[0m\u001b[0;34m(\u001b[0m\u001b[0mkey\u001b[0m\u001b[0;34m)\u001b[0m \u001b[0;32mfrom\u001b[0m \u001b[0merr\u001b[0m\u001b[0;34m\u001b[0m\u001b[0;34m\u001b[0m\u001b[0m\n\u001b[0;32m--> 388\u001b[0;31m             \u001b[0;32mraise\u001b[0m \u001b[0mKeyError\u001b[0m\u001b[0;34m(\u001b[0m\u001b[0mkey\u001b[0m\u001b[0;34m)\u001b[0m\u001b[0;34m\u001b[0m\u001b[0;34m\u001b[0m\u001b[0m\n\u001b[0m\u001b[1;32m    389\u001b[0m         \u001b[0;32mreturn\u001b[0m \u001b[0msuper\u001b[0m\u001b[0;34m(\u001b[0m\u001b[0;34m)\u001b[0m\u001b[0;34m.\u001b[0m\u001b[0mget_loc\u001b[0m\u001b[0;34m(\u001b[0m\u001b[0mkey\u001b[0m\u001b[0;34m,\u001b[0m \u001b[0mmethod\u001b[0m\u001b[0;34m=\u001b[0m\u001b[0mmethod\u001b[0m\u001b[0;34m,\u001b[0m \u001b[0mtolerance\u001b[0m\u001b[0;34m=\u001b[0m\u001b[0mtolerance\u001b[0m\u001b[0;34m)\u001b[0m\u001b[0;34m\u001b[0m\u001b[0;34m\u001b[0m\u001b[0m\n",
            "\u001b[0;31mKeyError\u001b[0m: 'labels'",
            "\nDuring handling of the above exception, another exception occurred:\n",
            "\u001b[0;31mValueError\u001b[0m                                Traceback (most recent call last)",
            "\u001b[0;32m<ipython-input-95-5a3c236a051c>\u001b[0m in \u001b[0;36m<module>\u001b[0;34m\u001b[0m\n\u001b[1;32m      1\u001b[0m \u001b[0mFeatures\u001b[0m \u001b[0;34m=\u001b[0m \u001b[0mpd\u001b[0m\u001b[0;34m.\u001b[0m\u001b[0mDataFrame\u001b[0m\u001b[0;34m(\u001b[0m\u001b[0mX\u001b[0m\u001b[0;34m)\u001b[0m\u001b[0;34m\u001b[0m\u001b[0;34m\u001b[0m\u001b[0m\n\u001b[0;32m----> 2\u001b[0;31m \u001b[0mFeatures\u001b[0m\u001b[0;34m[\u001b[0m\u001b[0;34m'labels'\u001b[0m\u001b[0;34m]\u001b[0m \u001b[0;34m=\u001b[0m \u001b[0mY\u001b[0m\u001b[0;34m\u001b[0m\u001b[0;34m\u001b[0m\u001b[0m\n\u001b[0m\u001b[1;32m      3\u001b[0m \u001b[0mFeatures\u001b[0m\u001b[0;34m.\u001b[0m\u001b[0mto_csv\u001b[0m\u001b[0;34m(\u001b[0m\u001b[0;34m'features.csv'\u001b[0m\u001b[0;34m,\u001b[0m \u001b[0mindex\u001b[0m\u001b[0;34m=\u001b[0m\u001b[0;32mFalse\u001b[0m\u001b[0;34m)\u001b[0m\u001b[0;34m\u001b[0m\u001b[0;34m\u001b[0m\u001b[0m\n\u001b[1;32m      4\u001b[0m \u001b[0mFeatures\u001b[0m\u001b[0;34m.\u001b[0m\u001b[0mhead\u001b[0m\u001b[0;34m(\u001b[0m\u001b[0;34m)\u001b[0m\u001b[0;34m\u001b[0m\u001b[0;34m\u001b[0m\u001b[0m\n",
            "\u001b[0;32m/usr/local/lib/python3.8/dist-packages/pandas/core/frame.py\u001b[0m in \u001b[0;36m__setitem__\u001b[0;34m(self, key, value)\u001b[0m\n\u001b[1;32m   3610\u001b[0m         \u001b[0;32melse\u001b[0m\u001b[0;34m:\u001b[0m\u001b[0;34m\u001b[0m\u001b[0;34m\u001b[0m\u001b[0m\n\u001b[1;32m   3611\u001b[0m             \u001b[0;31m# set column\u001b[0m\u001b[0;34m\u001b[0m\u001b[0;34m\u001b[0m\u001b[0;34m\u001b[0m\u001b[0m\n\u001b[0;32m-> 3612\u001b[0;31m             \u001b[0mself\u001b[0m\u001b[0;34m.\u001b[0m\u001b[0m_set_item\u001b[0m\u001b[0;34m(\u001b[0m\u001b[0mkey\u001b[0m\u001b[0;34m,\u001b[0m \u001b[0mvalue\u001b[0m\u001b[0;34m)\u001b[0m\u001b[0;34m\u001b[0m\u001b[0;34m\u001b[0m\u001b[0m\n\u001b[0m\u001b[1;32m   3613\u001b[0m \u001b[0;34m\u001b[0m\u001b[0m\n\u001b[1;32m   3614\u001b[0m     \u001b[0;32mdef\u001b[0m \u001b[0m_setitem_slice\u001b[0m\u001b[0;34m(\u001b[0m\u001b[0mself\u001b[0m\u001b[0;34m,\u001b[0m \u001b[0mkey\u001b[0m\u001b[0;34m:\u001b[0m \u001b[0mslice\u001b[0m\u001b[0;34m,\u001b[0m \u001b[0mvalue\u001b[0m\u001b[0;34m)\u001b[0m\u001b[0;34m:\u001b[0m\u001b[0;34m\u001b[0m\u001b[0;34m\u001b[0m\u001b[0m\n",
            "\u001b[0;32m/usr/local/lib/python3.8/dist-packages/pandas/core/frame.py\u001b[0m in \u001b[0;36m_set_item\u001b[0;34m(self, key, value)\u001b[0m\n\u001b[1;32m   3795\u001b[0m                     \u001b[0mvalue\u001b[0m \u001b[0;34m=\u001b[0m \u001b[0mnp\u001b[0m\u001b[0;34m.\u001b[0m\u001b[0mtile\u001b[0m\u001b[0;34m(\u001b[0m\u001b[0mvalue\u001b[0m\u001b[0;34m,\u001b[0m \u001b[0;34m(\u001b[0m\u001b[0mlen\u001b[0m\u001b[0;34m(\u001b[0m\u001b[0mexisting_piece\u001b[0m\u001b[0;34m.\u001b[0m\u001b[0mcolumns\u001b[0m\u001b[0;34m)\u001b[0m\u001b[0;34m,\u001b[0m \u001b[0;36m1\u001b[0m\u001b[0;34m)\u001b[0m\u001b[0;34m)\u001b[0m\u001b[0;34m.\u001b[0m\u001b[0mT\u001b[0m\u001b[0;34m\u001b[0m\u001b[0;34m\u001b[0m\u001b[0m\n\u001b[1;32m   3796\u001b[0m \u001b[0;34m\u001b[0m\u001b[0m\n\u001b[0;32m-> 3797\u001b[0;31m         \u001b[0mself\u001b[0m\u001b[0;34m.\u001b[0m\u001b[0m_set_item_mgr\u001b[0m\u001b[0;34m(\u001b[0m\u001b[0mkey\u001b[0m\u001b[0;34m,\u001b[0m \u001b[0mvalue\u001b[0m\u001b[0;34m)\u001b[0m\u001b[0;34m\u001b[0m\u001b[0;34m\u001b[0m\u001b[0m\n\u001b[0m\u001b[1;32m   3798\u001b[0m \u001b[0;34m\u001b[0m\u001b[0m\n\u001b[1;32m   3799\u001b[0m     def _set_value(\n",
            "\u001b[0;32m/usr/local/lib/python3.8/dist-packages/pandas/core/frame.py\u001b[0m in \u001b[0;36m_set_item_mgr\u001b[0;34m(self, key, value)\u001b[0m\n\u001b[1;32m   3752\u001b[0m         \u001b[0;32mexcept\u001b[0m \u001b[0mKeyError\u001b[0m\u001b[0;34m:\u001b[0m\u001b[0;34m\u001b[0m\u001b[0;34m\u001b[0m\u001b[0m\n\u001b[1;32m   3753\u001b[0m             \u001b[0;31m# This item wasn't present, just insert at end\u001b[0m\u001b[0;34m\u001b[0m\u001b[0;34m\u001b[0m\u001b[0;34m\u001b[0m\u001b[0m\n\u001b[0;32m-> 3754\u001b[0;31m             \u001b[0mself\u001b[0m\u001b[0;34m.\u001b[0m\u001b[0m_mgr\u001b[0m\u001b[0;34m.\u001b[0m\u001b[0minsert\u001b[0m\u001b[0;34m(\u001b[0m\u001b[0mlen\u001b[0m\u001b[0;34m(\u001b[0m\u001b[0mself\u001b[0m\u001b[0;34m.\u001b[0m\u001b[0m_info_axis\u001b[0m\u001b[0;34m)\u001b[0m\u001b[0;34m,\u001b[0m \u001b[0mkey\u001b[0m\u001b[0;34m,\u001b[0m \u001b[0mvalue\u001b[0m\u001b[0;34m)\u001b[0m\u001b[0;34m\u001b[0m\u001b[0;34m\u001b[0m\u001b[0m\n\u001b[0m\u001b[1;32m   3755\u001b[0m         \u001b[0;32melse\u001b[0m\u001b[0;34m:\u001b[0m\u001b[0;34m\u001b[0m\u001b[0;34m\u001b[0m\u001b[0m\n\u001b[1;32m   3756\u001b[0m             \u001b[0mself\u001b[0m\u001b[0;34m.\u001b[0m\u001b[0m_iset_item_mgr\u001b[0m\u001b[0;34m(\u001b[0m\u001b[0mloc\u001b[0m\u001b[0;34m,\u001b[0m \u001b[0mvalue\u001b[0m\u001b[0;34m)\u001b[0m\u001b[0;34m\u001b[0m\u001b[0;34m\u001b[0m\u001b[0m\n",
            "\u001b[0;32m/usr/local/lib/python3.8/dist-packages/pandas/core/internals/managers.py\u001b[0m in \u001b[0;36minsert\u001b[0;34m(self, loc, item, value)\u001b[0m\n\u001b[1;32m   1160\u001b[0m             \u001b[0mvalue\u001b[0m \u001b[0;34m=\u001b[0m \u001b[0mensure_block_shape\u001b[0m\u001b[0;34m(\u001b[0m\u001b[0mvalue\u001b[0m\u001b[0;34m,\u001b[0m \u001b[0mndim\u001b[0m\u001b[0;34m=\u001b[0m\u001b[0mself\u001b[0m\u001b[0;34m.\u001b[0m\u001b[0mndim\u001b[0m\u001b[0;34m)\u001b[0m\u001b[0;34m\u001b[0m\u001b[0;34m\u001b[0m\u001b[0m\n\u001b[1;32m   1161\u001b[0m \u001b[0;34m\u001b[0m\u001b[0m\n\u001b[0;32m-> 1162\u001b[0;31m         \u001b[0mblock\u001b[0m \u001b[0;34m=\u001b[0m \u001b[0mnew_block\u001b[0m\u001b[0;34m(\u001b[0m\u001b[0mvalues\u001b[0m\u001b[0;34m=\u001b[0m\u001b[0mvalue\u001b[0m\u001b[0;34m,\u001b[0m \u001b[0mndim\u001b[0m\u001b[0;34m=\u001b[0m\u001b[0mself\u001b[0m\u001b[0;34m.\u001b[0m\u001b[0mndim\u001b[0m\u001b[0;34m,\u001b[0m \u001b[0mplacement\u001b[0m\u001b[0;34m=\u001b[0m\u001b[0mslice\u001b[0m\u001b[0;34m(\u001b[0m\u001b[0mloc\u001b[0m\u001b[0;34m,\u001b[0m \u001b[0mloc\u001b[0m \u001b[0;34m+\u001b[0m \u001b[0;36m1\u001b[0m\u001b[0;34m)\u001b[0m\u001b[0;34m)\u001b[0m\u001b[0;34m\u001b[0m\u001b[0;34m\u001b[0m\u001b[0m\n\u001b[0m\u001b[1;32m   1163\u001b[0m \u001b[0;34m\u001b[0m\u001b[0m\n\u001b[1;32m   1164\u001b[0m         \u001b[0;32mfor\u001b[0m \u001b[0mblkno\u001b[0m\u001b[0;34m,\u001b[0m \u001b[0mcount\u001b[0m \u001b[0;32min\u001b[0m \u001b[0m_fast_count_smallints\u001b[0m\u001b[0;34m(\u001b[0m\u001b[0mself\u001b[0m\u001b[0;34m.\u001b[0m\u001b[0mblknos\u001b[0m\u001b[0;34m[\u001b[0m\u001b[0mloc\u001b[0m\u001b[0;34m:\u001b[0m\u001b[0;34m]\u001b[0m\u001b[0;34m)\u001b[0m\u001b[0;34m:\u001b[0m\u001b[0;34m\u001b[0m\u001b[0;34m\u001b[0m\u001b[0m\n",
            "\u001b[0;32m/usr/local/lib/python3.8/dist-packages/pandas/core/internals/blocks.py\u001b[0m in \u001b[0;36mnew_block\u001b[0;34m(values, placement, ndim, klass)\u001b[0m\n\u001b[1;32m   1935\u001b[0m \u001b[0;34m\u001b[0m\u001b[0m\n\u001b[1;32m   1936\u001b[0m     \u001b[0mvalues\u001b[0m\u001b[0;34m,\u001b[0m \u001b[0m_\u001b[0m \u001b[0;34m=\u001b[0m \u001b[0mextract_pandas_array\u001b[0m\u001b[0;34m(\u001b[0m\u001b[0mvalues\u001b[0m\u001b[0;34m,\u001b[0m \u001b[0;32mNone\u001b[0m\u001b[0;34m,\u001b[0m \u001b[0mndim\u001b[0m\u001b[0;34m)\u001b[0m\u001b[0;34m\u001b[0m\u001b[0;34m\u001b[0m\u001b[0m\n\u001b[0;32m-> 1937\u001b[0;31m     \u001b[0mcheck_ndim\u001b[0m\u001b[0;34m(\u001b[0m\u001b[0mvalues\u001b[0m\u001b[0;34m,\u001b[0m \u001b[0mplacement\u001b[0m\u001b[0;34m,\u001b[0m \u001b[0mndim\u001b[0m\u001b[0;34m)\u001b[0m\u001b[0;34m\u001b[0m\u001b[0;34m\u001b[0m\u001b[0m\n\u001b[0m\u001b[1;32m   1938\u001b[0m \u001b[0;34m\u001b[0m\u001b[0m\n\u001b[1;32m   1939\u001b[0m     \u001b[0;32mif\u001b[0m \u001b[0mklass\u001b[0m \u001b[0;32mis\u001b[0m \u001b[0;32mNone\u001b[0m\u001b[0;34m:\u001b[0m\u001b[0;34m\u001b[0m\u001b[0;34m\u001b[0m\u001b[0m\n",
            "\u001b[0;32m/usr/local/lib/python3.8/dist-packages/pandas/core/internals/blocks.py\u001b[0m in \u001b[0;36mcheck_ndim\u001b[0;34m(values, placement, ndim)\u001b[0m\n\u001b[1;32m   1977\u001b[0m             )\n\u001b[1;32m   1978\u001b[0m         \u001b[0;32mif\u001b[0m \u001b[0mlen\u001b[0m\u001b[0;34m(\u001b[0m\u001b[0mplacement\u001b[0m\u001b[0;34m)\u001b[0m \u001b[0;34m!=\u001b[0m \u001b[0mlen\u001b[0m\u001b[0;34m(\u001b[0m\u001b[0mvalues\u001b[0m\u001b[0;34m)\u001b[0m\u001b[0;34m:\u001b[0m\u001b[0;34m\u001b[0m\u001b[0;34m\u001b[0m\u001b[0m\n\u001b[0;32m-> 1979\u001b[0;31m             raise ValueError(\n\u001b[0m\u001b[1;32m   1980\u001b[0m                 \u001b[0;34mf\"Wrong number of items passed {len(values)}, \"\u001b[0m\u001b[0;34m\u001b[0m\u001b[0;34m\u001b[0m\u001b[0m\n\u001b[1;32m   1981\u001b[0m                 \u001b[0;34mf\"placement implies {len(placement)}\"\u001b[0m\u001b[0;34m\u001b[0m\u001b[0;34m\u001b[0m\u001b[0m\n",
            "\u001b[0;31mValueError\u001b[0m: Wrong number of items passed 8, placement implies 1"
          ]
        }
      ],
      "source": [
        "Features = pd.DataFrame(X)\n",
        "Features['labels'] = Y\n",
        "Features.to_csv('features.csv', index=False)\n",
        "Features.head()"
      ]
    },
    {
      "cell_type": "markdown",
      "metadata": {
        "id": "P8jcZ5Dl7L3g"
      },
      "source": [
        "**Data Preparation**"
      ]
    },
    {
      "cell_type": "code",
      "execution_count": 96,
      "metadata": {
        "id": "aVDCdKZj7Ndf",
        "colab": {
          "base_uri": "https://localhost:8080/",
          "height": 336
        },
        "outputId": "fad4562d-ed0e-4ed4-e0f4-6784b14b2e6d"
      },
      "outputs": [
        {
          "output_type": "error",
          "ename": "KeyError",
          "evalue": "ignored",
          "traceback": [
            "\u001b[0;31m---------------------------------------------------------------------------\u001b[0m",
            "\u001b[0;31mKeyError\u001b[0m                                  Traceback (most recent call last)",
            "\u001b[0;32m<ipython-input-96-8555ae757946>\u001b[0m in \u001b[0;36m<module>\u001b[0;34m\u001b[0m\n\u001b[1;32m      1\u001b[0m \u001b[0mX\u001b[0m \u001b[0;34m=\u001b[0m \u001b[0mFeatures\u001b[0m\u001b[0;34m.\u001b[0m\u001b[0miloc\u001b[0m\u001b[0;34m[\u001b[0m\u001b[0;34m:\u001b[0m \u001b[0;34m,\u001b[0m\u001b[0;34m:\u001b[0m\u001b[0;34m-\u001b[0m\u001b[0;36m1\u001b[0m\u001b[0;34m]\u001b[0m\u001b[0;34m.\u001b[0m\u001b[0mvalues\u001b[0m\u001b[0;34m\u001b[0m\u001b[0;34m\u001b[0m\u001b[0m\n\u001b[0;32m----> 2\u001b[0;31m \u001b[0mY\u001b[0m \u001b[0;34m=\u001b[0m \u001b[0mFeatures\u001b[0m\u001b[0;34m[\u001b[0m\u001b[0;34m'labels'\u001b[0m\u001b[0;34m]\u001b[0m\u001b[0;34m.\u001b[0m\u001b[0mvalues\u001b[0m\u001b[0;34m\u001b[0m\u001b[0;34m\u001b[0m\u001b[0m\n\u001b[0m",
            "\u001b[0;32m/usr/local/lib/python3.8/dist-packages/pandas/core/frame.py\u001b[0m in \u001b[0;36m__getitem__\u001b[0;34m(self, key)\u001b[0m\n\u001b[1;32m   3456\u001b[0m             \u001b[0;32mif\u001b[0m \u001b[0mself\u001b[0m\u001b[0;34m.\u001b[0m\u001b[0mcolumns\u001b[0m\u001b[0;34m.\u001b[0m\u001b[0mnlevels\u001b[0m \u001b[0;34m>\u001b[0m \u001b[0;36m1\u001b[0m\u001b[0;34m:\u001b[0m\u001b[0;34m\u001b[0m\u001b[0;34m\u001b[0m\u001b[0m\n\u001b[1;32m   3457\u001b[0m                 \u001b[0;32mreturn\u001b[0m \u001b[0mself\u001b[0m\u001b[0;34m.\u001b[0m\u001b[0m_getitem_multilevel\u001b[0m\u001b[0;34m(\u001b[0m\u001b[0mkey\u001b[0m\u001b[0;34m)\u001b[0m\u001b[0;34m\u001b[0m\u001b[0;34m\u001b[0m\u001b[0m\n\u001b[0;32m-> 3458\u001b[0;31m             \u001b[0mindexer\u001b[0m \u001b[0;34m=\u001b[0m \u001b[0mself\u001b[0m\u001b[0;34m.\u001b[0m\u001b[0mcolumns\u001b[0m\u001b[0;34m.\u001b[0m\u001b[0mget_loc\u001b[0m\u001b[0;34m(\u001b[0m\u001b[0mkey\u001b[0m\u001b[0;34m)\u001b[0m\u001b[0;34m\u001b[0m\u001b[0;34m\u001b[0m\u001b[0m\n\u001b[0m\u001b[1;32m   3459\u001b[0m             \u001b[0;32mif\u001b[0m \u001b[0mis_integer\u001b[0m\u001b[0;34m(\u001b[0m\u001b[0mindexer\u001b[0m\u001b[0;34m)\u001b[0m\u001b[0;34m:\u001b[0m\u001b[0;34m\u001b[0m\u001b[0;34m\u001b[0m\u001b[0m\n\u001b[1;32m   3460\u001b[0m                 \u001b[0mindexer\u001b[0m \u001b[0;34m=\u001b[0m \u001b[0;34m[\u001b[0m\u001b[0mindexer\u001b[0m\u001b[0;34m]\u001b[0m\u001b[0;34m\u001b[0m\u001b[0;34m\u001b[0m\u001b[0m\n",
            "\u001b[0;32m/usr/local/lib/python3.8/dist-packages/pandas/core/indexes/range.py\u001b[0m in \u001b[0;36mget_loc\u001b[0;34m(self, key, method, tolerance)\u001b[0m\n\u001b[1;32m    386\u001b[0m                 \u001b[0;32mexcept\u001b[0m \u001b[0mValueError\u001b[0m \u001b[0;32mas\u001b[0m \u001b[0merr\u001b[0m\u001b[0;34m:\u001b[0m\u001b[0;34m\u001b[0m\u001b[0;34m\u001b[0m\u001b[0m\n\u001b[1;32m    387\u001b[0m                     \u001b[0;32mraise\u001b[0m \u001b[0mKeyError\u001b[0m\u001b[0;34m(\u001b[0m\u001b[0mkey\u001b[0m\u001b[0;34m)\u001b[0m \u001b[0;32mfrom\u001b[0m \u001b[0merr\u001b[0m\u001b[0;34m\u001b[0m\u001b[0;34m\u001b[0m\u001b[0m\n\u001b[0;32m--> 388\u001b[0;31m             \u001b[0;32mraise\u001b[0m \u001b[0mKeyError\u001b[0m\u001b[0;34m(\u001b[0m\u001b[0mkey\u001b[0m\u001b[0;34m)\u001b[0m\u001b[0;34m\u001b[0m\u001b[0;34m\u001b[0m\u001b[0m\n\u001b[0m\u001b[1;32m    389\u001b[0m         \u001b[0;32mreturn\u001b[0m \u001b[0msuper\u001b[0m\u001b[0;34m(\u001b[0m\u001b[0;34m)\u001b[0m\u001b[0;34m.\u001b[0m\u001b[0mget_loc\u001b[0m\u001b[0;34m(\u001b[0m\u001b[0mkey\u001b[0m\u001b[0;34m,\u001b[0m \u001b[0mmethod\u001b[0m\u001b[0;34m=\u001b[0m\u001b[0mmethod\u001b[0m\u001b[0;34m,\u001b[0m \u001b[0mtolerance\u001b[0m\u001b[0;34m=\u001b[0m\u001b[0mtolerance\u001b[0m\u001b[0;34m)\u001b[0m\u001b[0;34m\u001b[0m\u001b[0;34m\u001b[0m\u001b[0m\n\u001b[1;32m    390\u001b[0m \u001b[0;34m\u001b[0m\u001b[0m\n",
            "\u001b[0;31mKeyError\u001b[0m: 'labels'"
          ]
        }
      ],
      "source": [
        "X = Features.iloc[: ,:-1].values\n",
        "Y = Features['labels'].values"
      ]
    },
    {
      "cell_type": "code",
      "execution_count": null,
      "metadata": {
        "id": "WmoQ0tAf7O9u"
      },
      "outputs": [],
      "source": [
        "from sklearn.preprocessing import OneHotEncoder\n",
        "\n",
        "# As this is a multiclass classification problem onehotencoding our Y.\n",
        "encoder = OneHotEncoder()\n",
        "Y = encoder.fit_transform(np.array(Y).reshape(-1,1)).toarray()"
      ]
    },
    {
      "cell_type": "code",
      "execution_count": null,
      "metadata": {
        "id": "FSk_O7rx7Qqs"
      },
      "outputs": [],
      "source": [
        "from sklearn.model_selection import train_test_split\n",
        "\n",
        "# splitting data\n",
        "x_train, x_test, y_train, y_test = train_test_split(X, Y, random_state=0, shuffle=True)\n",
        "x_train.shape, y_train.shape, x_test.shape, y_test.shape"
      ]
    },
    {
      "cell_type": "code",
      "execution_count": null,
      "metadata": {
        "id": "xpnYfmoF7SPy"
      },
      "outputs": [],
      "source": [
        "from sklearn.preprocessing import StandardScaler\n",
        "\n",
        "# scaling our data with sklearn's Standard scaler\n",
        "scaler = StandardScaler()\n",
        "x_train = scaler.fit_transform(x_train)\n",
        "x_test = scaler.transform(x_test)\n",
        "x_train.shape, y_train.shape, x_test.shape, y_test.shape"
      ]
    },
    {
      "cell_type": "code",
      "execution_count": 97,
      "metadata": {
        "colab": {
          "base_uri": "https://localhost:8080/"
        },
        "id": "Jlmj8p_o7Tvh",
        "outputId": "7d9d3987-8506-4db7-8e5a-abd975ad7238"
      },
      "outputs": [
        {
          "output_type": "execute_result",
          "data": {
            "text/plain": [
              "((3240, 162, 1, 1), (3240, 8), (1080, 162, 1, 1), (1080, 8))"
            ]
          },
          "metadata": {},
          "execution_count": 97
        }
      ],
      "source": [
        "# making our data compatible to model.\n",
        "x_train = np.expand_dims(x_train, axis=2)\n",
        "x_test = np.expand_dims(x_test, axis=2)\n",
        "x_train.shape, y_train.shape, x_test.shape, y_test.shape"
      ]
    },
    {
      "cell_type": "markdown",
      "metadata": {
        "id": "vSbPvKK57WVe"
      },
      "source": [
        "**Modelling**"
      ]
    },
    {
      "cell_type": "code",
      "execution_count": 98,
      "metadata": {
        "colab": {
          "base_uri": "https://localhost:8080/"
        },
        "id": "Xz1q2EsH7VX7",
        "outputId": "329b022c-868d-40b9-92eb-a0765bb2e6a7"
      },
      "outputs": [
        {
          "output_type": "stream",
          "name": "stdout",
          "text": [
            "Model: \"sequential_7\"\n",
            "_________________________________________________________________\n",
            " Layer (type)                Output Shape              Param #   \n",
            "=================================================================\n",
            " conv1d_29 (Conv1D)          (None, 162, 256)          1536      \n",
            "                                                                 \n",
            " max_pooling1d_29 (MaxPoolin  (None, 81, 256)          0         \n",
            " g1D)                                                            \n",
            "                                                                 \n",
            " conv1d_30 (Conv1D)          (None, 81, 256)           327936    \n",
            "                                                                 \n",
            " max_pooling1d_30 (MaxPoolin  (None, 41, 256)          0         \n",
            " g1D)                                                            \n",
            "                                                                 \n",
            " conv1d_31 (Conv1D)          (None, 41, 128)           163968    \n",
            "                                                                 \n",
            " max_pooling1d_31 (MaxPoolin  (None, 21, 128)          0         \n",
            " g1D)                                                            \n",
            "                                                                 \n",
            " dropout_14 (Dropout)        (None, 21, 128)           0         \n",
            "                                                                 \n",
            " conv1d_32 (Conv1D)          (None, 21, 64)            41024     \n",
            "                                                                 \n",
            " max_pooling1d_32 (MaxPoolin  (None, 11, 64)           0         \n",
            " g1D)                                                            \n",
            "                                                                 \n",
            " flatten_7 (Flatten)         (None, 704)               0         \n",
            "                                                                 \n",
            " dense_14 (Dense)            (None, 32)                22560     \n",
            "                                                                 \n",
            " dropout_15 (Dropout)        (None, 32)                0         \n",
            "                                                                 \n",
            " dense_15 (Dense)            (None, 8)                 264       \n",
            "                                                                 \n",
            "=================================================================\n",
            "Total params: 557,288\n",
            "Trainable params: 557,288\n",
            "Non-trainable params: 0\n",
            "_________________________________________________________________\n"
          ]
        },
        {
          "output_type": "stream",
          "name": "stderr",
          "text": [
            "/usr/local/lib/python3.8/dist-packages/keras/optimizers/optimizer_v2/adam.py:117: UserWarning: The `lr` argument is deprecated, use `learning_rate` instead.\n",
            "  super().__init__(name, **kwargs)\n"
          ]
        }
      ],
      "source": [
        "from keras.optimizers import Adam\n",
        "\n",
        "model=Sequential()\n",
        "model.add(Conv1D(256, kernel_size=5, strides=1, padding='same', activation='relu', input_shape=(x_train.shape[1], 1)))\n",
        "model.add(MaxPooling1D(pool_size=5, strides = 2, padding = 'same'))\n",
        "\n",
        "model.add(Conv1D(256, kernel_size=5, strides=1, padding='same', activation='relu'))\n",
        "model.add(MaxPooling1D(pool_size=5, strides = 2, padding = 'same'))\n",
        "\n",
        "# REMOVE THIS ADDITION IF REQUIRED\n",
        "\n",
        "model.add(Conv1D(128, kernel_size=5, strides=1, padding='same', activation='relu'))\n",
        "model.add(MaxPooling1D(pool_size=5, strides = 2, padding = 'same'))\n",
        "model.add(Dropout(0.2))\n",
        "\n",
        "model.add(Conv1D(64, kernel_size=5, strides=1, padding='same', activation='relu'))\n",
        "model.add(MaxPooling1D(pool_size=5, strides = 2, padding = 'same'))\n",
        "\n",
        "model.add(Flatten())\n",
        "model.add(Dense(units=32, activation='relu'))\n",
        "model.add(Dropout(0.3))\n",
        "\n",
        "model.add(Dense(units=8, activation='softmax'))\n",
        "#optimizer = Adam(lr=0.001)\n",
        "# optimizer = 'adam' (earlier)\n",
        "model.compile(optimizer = Adam(lr=0.001) , loss = 'categorical_crossentropy' , metrics = ['accuracy'])\n",
        "\n",
        "model.summary()"
      ]
    },
    {
      "cell_type": "code",
      "execution_count": 99,
      "metadata": {
        "colab": {
          "base_uri": "https://localhost:8080/"
        },
        "id": "yCKJDztL7b8H",
        "outputId": "49a3d39f-7f7e-4c15-9988-6c6ba79ef383"
      },
      "outputs": [
        {
          "output_type": "stream",
          "name": "stdout",
          "text": [
            "Epoch 1/50\n",
            "203/203 [==============================] - 2s 8ms/step - loss: 1.9845 - accuracy: 0.2031 - val_loss: 1.9742 - val_accuracy: 0.1657 - lr: 0.0010\n",
            "Epoch 2/50\n",
            "203/203 [==============================] - 1s 6ms/step - loss: 1.8933 - accuracy: 0.2525 - val_loss: 1.7483 - val_accuracy: 0.3167 - lr: 0.0010\n",
            "Epoch 3/50\n",
            "203/203 [==============================] - 1s 6ms/step - loss: 1.8131 - accuracy: 0.2846 - val_loss: 1.7608 - val_accuracy: 0.3009 - lr: 0.0010\n",
            "Epoch 4/50\n",
            "203/203 [==============================] - 1s 7ms/step - loss: 1.7301 - accuracy: 0.3302 - val_loss: 1.6746 - val_accuracy: 0.3426 - lr: 0.0010\n",
            "Epoch 5/50\n",
            "203/203 [==============================] - 1s 6ms/step - loss: 1.6898 - accuracy: 0.3420 - val_loss: 1.6432 - val_accuracy: 0.3556 - lr: 0.0010\n",
            "Epoch 6/50\n",
            "203/203 [==============================] - 1s 7ms/step - loss: 1.6477 - accuracy: 0.3596 - val_loss: 1.6145 - val_accuracy: 0.3667 - lr: 0.0010\n",
            "Epoch 7/50\n",
            "203/203 [==============================] - 1s 7ms/step - loss: 1.6086 - accuracy: 0.3731 - val_loss: 1.5954 - val_accuracy: 0.3657 - lr: 0.0010\n",
            "Epoch 8/50\n",
            "203/203 [==============================] - 2s 9ms/step - loss: 1.5737 - accuracy: 0.3910 - val_loss: 1.5429 - val_accuracy: 0.4083 - lr: 0.0010\n",
            "Epoch 9/50\n",
            "203/203 [==============================] - 2s 8ms/step - loss: 1.5307 - accuracy: 0.4040 - val_loss: 1.5324 - val_accuracy: 0.4019 - lr: 0.0010\n",
            "Epoch 10/50\n",
            "203/203 [==============================] - 1s 7ms/step - loss: 1.4898 - accuracy: 0.4250 - val_loss: 1.5281 - val_accuracy: 0.4222 - lr: 0.0010\n",
            "Epoch 11/50\n",
            "203/203 [==============================] - 1s 7ms/step - loss: 1.4479 - accuracy: 0.4386 - val_loss: 1.5669 - val_accuracy: 0.4130 - lr: 0.0010\n",
            "Epoch 12/50\n",
            "203/203 [==============================] - 1s 6ms/step - loss: 1.4062 - accuracy: 0.4605 - val_loss: 1.4588 - val_accuracy: 0.4417 - lr: 0.0010\n",
            "Epoch 13/50\n",
            "203/203 [==============================] - 1s 7ms/step - loss: 1.3719 - accuracy: 0.4815 - val_loss: 1.4393 - val_accuracy: 0.4713 - lr: 0.0010\n",
            "Epoch 14/50\n",
            "203/203 [==============================] - 1s 7ms/step - loss: 1.3377 - accuracy: 0.4833 - val_loss: 1.4222 - val_accuracy: 0.4519 - lr: 0.0010\n",
            "Epoch 15/50\n",
            "203/203 [==============================] - 1s 6ms/step - loss: 1.2869 - accuracy: 0.5086 - val_loss: 1.3650 - val_accuracy: 0.4843 - lr: 0.0010\n",
            "Epoch 16/50\n",
            "203/203 [==============================] - 1s 6ms/step - loss: 1.2389 - accuracy: 0.5231 - val_loss: 1.3840 - val_accuracy: 0.4824 - lr: 0.0010\n",
            "Epoch 17/50\n",
            "203/203 [==============================] - 2s 8ms/step - loss: 1.2295 - accuracy: 0.5392 - val_loss: 1.4043 - val_accuracy: 0.4769 - lr: 0.0010\n",
            "Epoch 18/50\n",
            "203/203 [==============================] - 2s 9ms/step - loss: 1.1476 - accuracy: 0.5599 - val_loss: 1.3420 - val_accuracy: 0.4981 - lr: 0.0010\n",
            "Epoch 19/50\n",
            "203/203 [==============================] - 1s 7ms/step - loss: 1.1190 - accuracy: 0.5731 - val_loss: 1.3594 - val_accuracy: 0.5000 - lr: 0.0010\n",
            "Epoch 20/50\n",
            "203/203 [==============================] - 1s 7ms/step - loss: 1.0598 - accuracy: 0.5957 - val_loss: 1.3390 - val_accuracy: 0.5139 - lr: 0.0010\n",
            "Epoch 21/50\n",
            "203/203 [==============================] - 1s 6ms/step - loss: 1.0611 - accuracy: 0.5981 - val_loss: 1.3505 - val_accuracy: 0.5259 - lr: 0.0010\n",
            "Epoch 22/50\n",
            "203/203 [==============================] - 1s 6ms/step - loss: 1.0155 - accuracy: 0.6201 - val_loss: 1.3211 - val_accuracy: 0.5056 - lr: 0.0010\n",
            "Epoch 23/50\n",
            "203/203 [==============================] - 1s 6ms/step - loss: 0.9753 - accuracy: 0.6216 - val_loss: 1.2845 - val_accuracy: 0.5370 - lr: 0.0010\n",
            "Epoch 24/50\n",
            "203/203 [==============================] - 1s 6ms/step - loss: 0.9372 - accuracy: 0.6463 - val_loss: 1.3064 - val_accuracy: 0.5519 - lr: 0.0010\n",
            "Epoch 25/50\n",
            "203/203 [==============================] - 1s 7ms/step - loss: 0.9386 - accuracy: 0.6420 - val_loss: 1.3722 - val_accuracy: 0.5352 - lr: 0.0010\n",
            "Epoch 26/50\n",
            "203/203 [==============================] - 1s 7ms/step - loss: 0.8727 - accuracy: 0.6657 - val_loss: 1.3589 - val_accuracy: 0.5565 - lr: 0.0010\n",
            "Epoch 27/50\n",
            "203/203 [==============================] - 2s 9ms/step - loss: 0.8296 - accuracy: 0.6870 - val_loss: 1.2917 - val_accuracy: 0.5685 - lr: 0.0010\n",
            "Epoch 28/50\n",
            "203/203 [==============================] - 2s 8ms/step - loss: 0.8113 - accuracy: 0.6935 - val_loss: 1.2907 - val_accuracy: 0.5546 - lr: 0.0010\n",
            "Epoch 29/50\n",
            "203/203 [==============================] - 1s 7ms/step - loss: 0.7761 - accuracy: 0.7056 - val_loss: 1.3113 - val_accuracy: 0.5630 - lr: 0.0010\n",
            "Epoch 30/50\n",
            "203/203 [==============================] - 1s 6ms/step - loss: 0.7526 - accuracy: 0.7148 - val_loss: 1.3201 - val_accuracy: 0.5611 - lr: 0.0010\n",
            "Epoch 31/50\n",
            "203/203 [==============================] - 1s 6ms/step - loss: 0.7154 - accuracy: 0.7327 - val_loss: 1.3560 - val_accuracy: 0.5491 - lr: 0.0010\n",
            "Epoch 32/50\n",
            "203/203 [==============================] - 2s 9ms/step - loss: 0.7348 - accuracy: 0.7299 - val_loss: 1.4015 - val_accuracy: 0.5713 - lr: 0.0010\n",
            "Epoch 33/50\n",
            "203/203 [==============================] - 2s 9ms/step - loss: 0.6443 - accuracy: 0.7654 - val_loss: 1.4073 - val_accuracy: 0.5759 - lr: 0.0010\n",
            "Epoch 34/50\n",
            "203/203 [==============================] - 2s 9ms/step - loss: 0.6405 - accuracy: 0.7639 - val_loss: 1.4142 - val_accuracy: 0.5611 - lr: 0.0010\n",
            "Epoch 35/50\n",
            "203/203 [==============================] - 2s 9ms/step - loss: 0.5871 - accuracy: 0.7824 - val_loss: 1.2729 - val_accuracy: 0.5833 - lr: 0.0010\n",
            "Epoch 36/50\n",
            "203/203 [==============================] - 2s 9ms/step - loss: 0.5966 - accuracy: 0.7830 - val_loss: 1.3799 - val_accuracy: 0.5870 - lr: 0.0010\n",
            "Epoch 37/50\n",
            "203/203 [==============================] - 1s 7ms/step - loss: 0.6221 - accuracy: 0.7707 - val_loss: 1.5827 - val_accuracy: 0.5667 - lr: 0.0010\n",
            "Epoch 38/50\n",
            "203/203 [==============================] - 1s 7ms/step - loss: 0.5731 - accuracy: 0.7877 - val_loss: 1.4887 - val_accuracy: 0.5704 - lr: 0.0010\n",
            "Epoch 39/50\n",
            "203/203 [==============================] - 1s 6ms/step - loss: 0.5290 - accuracy: 0.8117 - val_loss: 1.4296 - val_accuracy: 0.5889 - lr: 0.0010\n",
            "Epoch 40/50\n",
            "203/203 [==============================] - 1s 6ms/step - loss: 0.4925 - accuracy: 0.8157 - val_loss: 1.6085 - val_accuracy: 0.5880 - lr: 0.0010\n",
            "Epoch 41/50\n",
            "203/203 [==============================] - 1s 7ms/step - loss: 0.5420 - accuracy: 0.8052 - val_loss: 1.4588 - val_accuracy: 0.5870 - lr: 0.0010\n",
            "Epoch 42/50\n",
            "203/203 [==============================] - 1s 7ms/step - loss: 0.4755 - accuracy: 0.8287 - val_loss: 1.6740 - val_accuracy: 0.5741 - lr: 0.0010\n",
            "Epoch 43/50\n",
            "203/203 [==============================] - 1s 6ms/step - loss: 0.5166 - accuracy: 0.8160 - val_loss: 1.5417 - val_accuracy: 0.5611 - lr: 0.0010\n",
            "Epoch 44/50\n",
            "203/203 [==============================] - 2s 8ms/step - loss: 0.4746 - accuracy: 0.8321 - val_loss: 1.6239 - val_accuracy: 0.5954 - lr: 0.0010\n",
            "Epoch 45/50\n",
            "203/203 [==============================] - 2s 9ms/step - loss: 0.4372 - accuracy: 0.8333 - val_loss: 1.5370 - val_accuracy: 0.5981 - lr: 0.0010\n",
            "Epoch 46/50\n",
            "203/203 [==============================] - 1s 7ms/step - loss: 0.4343 - accuracy: 0.8451 - val_loss: 1.5036 - val_accuracy: 0.5843 - lr: 0.0010\n",
            "Epoch 47/50\n",
            "203/203 [==============================] - 1s 6ms/step - loss: 0.4275 - accuracy: 0.8475 - val_loss: 1.6365 - val_accuracy: 0.5833 - lr: 0.0010\n",
            "Epoch 48/50\n",
            "203/203 [==============================] - 1s 6ms/step - loss: 0.4259 - accuracy: 0.8451 - val_loss: 1.7951 - val_accuracy: 0.5667 - lr: 0.0010\n",
            "Epoch 49/50\n",
            "203/203 [==============================] - 1s 7ms/step - loss: 0.3880 - accuracy: 0.8540 - val_loss: 1.5913 - val_accuracy: 0.6000 - lr: 0.0010\n",
            "Epoch 50/50\n",
            "203/203 [==============================] - 1s 7ms/step - loss: 0.3967 - accuracy: 0.8543 - val_loss: 1.7019 - val_accuracy: 0.6148 - lr: 0.0010\n"
          ]
        }
      ],
      "source": [
        "from keras.callbacks import ReduceLROnPlateau\n",
        "\n",
        "es = tf.keras.callbacks.EarlyStopping(\n",
        "    monitor= 'val_accuracy',\n",
        "    patience=5,\n",
        "    mode='max',\n",
        "    restore_best_weights=True, #False\n",
        "    start_from_epoch=10\n",
        ")\n",
        "\n",
        "rlrp = ReduceLROnPlateau(monitor='loss', factor=0.4, verbose=0, patience=5, min_lr=0.0000001)\n",
        "history=model.fit(x_train, y_train, batch_size=16, epochs=50, validation_data=(x_test, y_test), callbacks=[rlrp, es])"
      ]
    },
    {
      "cell_type": "code",
      "source": [
        "print(\"Accuracy of our model on test data : \" , model.evaluate(x_test,y_test)[1]*100 , \"%\")"
      ],
      "metadata": {
        "colab": {
          "base_uri": "https://localhost:8080/"
        },
        "id": "B-pUZmi7yaz7",
        "outputId": "9527e1a4-16fe-4235-f1ee-f542608732eb"
      },
      "execution_count": 100,
      "outputs": [
        {
          "output_type": "stream",
          "name": "stdout",
          "text": [
            "34/34 [==============================] - 0s 5ms/step - loss: 1.7019 - accuracy: 0.6148\n",
            "Accuracy of our model on test data :  61.4814817905426 %\n"
          ]
        }
      ]
    },
    {
      "cell_type": "code",
      "source": [
        "print(\"Actual number of epochs run: \", len(history.epoch))"
      ],
      "metadata": {
        "colab": {
          "base_uri": "https://localhost:8080/"
        },
        "id": "5mbJG_kF6XO3",
        "outputId": "87331f50-c6ff-4a80-a145-adc1b38fc6e7"
      },
      "execution_count": 101,
      "outputs": [
        {
          "output_type": "stream",
          "name": "stdout",
          "text": [
            "Actual number of epochs run:  50\n"
          ]
        }
      ]
    },
    {
      "cell_type": "code",
      "execution_count": 102,
      "metadata": {
        "colab": {
          "base_uri": "https://localhost:8080/",
          "height": 382
        },
        "id": "ui9Oti4K7eBh",
        "outputId": "926ec89e-c9cf-453a-c7d0-b75514a432c7"
      },
      "outputs": [
        {
          "output_type": "display_data",
          "data": {
            "text/plain": [
              "<Figure size 1440x432 with 2 Axes>"
            ],
            "image/png": "[encoded data removed]"
          },
          "metadata": {
            "needs_background": "light"
          }
        }
      ],
      "source": [
        "epochs = [i for i in range(len(history.epoch))]\n",
        "fig , ax = plt.subplots(1,2)\n",
        "train_acc = history.history['accuracy']\n",
        "train_loss = history.history['loss']\n",
        "test_acc = history.history['val_accuracy']\n",
        "test_loss = history.history['val_loss']\n",
        "\n",
        "fig.set_size_inches(20,6)\n",
        "ax[0].plot(epochs , train_loss , label = 'Training Loss')\n",
        "ax[0].plot(epochs , test_loss , label = 'Testing Loss')\n",
        "ax[0].set_title('Training & Testing Loss')\n",
        "ax[0].legend()\n",
        "ax[0].set_xlabel(\"Epochs\")\n",
        "\n",
        "ax[1].plot(epochs , train_acc , label = 'Training Accuracy')\n",
        "ax[1].plot(epochs , test_acc , label = 'Testing Accuracy')\n",
        "ax[1].set_title('Training & Testing Accuracy')\n",
        "ax[1].legend()\n",
        "ax[1].set_xlabel(\"Epochs\")\n",
        "plt.show()"
      ]
    },
    {
      "cell_type": "code",
      "execution_count": 103,
      "metadata": {
        "colab": {
          "base_uri": "https://localhost:8080/"
        },
        "id": "piDFD6ii7hcV",
        "outputId": "ebc0bd52-eff3-4db4-a3db-a599ab0bcb4e"
      },
      "outputs": [
        {
          "output_type": "stream",
          "name": "stdout",
          "text": [
            "34/34 [==============================] - 0s 4ms/step\n"
          ]
        }
      ],
      "source": [
        "# predicting on test data.\n",
        "pred_test = model.predict(x_test)\n",
        "y_pred = encoder.inverse_transform(pred_test)\n",
        "\n",
        "y_test = encoder.inverse_transform(y_test)"
      ]
    },
    {
      "cell_type": "code",
      "execution_count": 104,
      "metadata": {
        "colab": {
          "base_uri": "https://localhost:8080/",
          "height": 363
        },
        "id": "THbtcpd77jJP",
        "outputId": "c5c8dabd-0ed9-4561-8ac3-c7ddc2098e27"
      },
      "outputs": [
        {
          "output_type": "execute_result",
          "data": {
            "text/plain": [
              "  Predicted Labels Actual Labels\n",
              "0            angry         angry\n",
              "1          disgust         happy\n",
              "2          disgust       disgust\n",
              "3              sad           sad\n",
              "4             calm       neutral\n",
              "5         surprise      surprise\n",
              "6             calm          calm\n",
              "7          disgust       disgust\n",
              "8            happy       disgust\n",
              "9             calm          calm"
            ],
            "text/html": [
              "\n",
              "  <div id=\"df-aef103cc-d4cb-4fb7-9d75-76ac52eb779a\">\n",
              "    <div class=\"colab-df-container\">\n",
              "      <div>\n",
              "<style scoped>\n",
              "    .dataframe tbody tr th:only-of-type {\n",
              "        vertical-align: middle;\n",
              "    }\n",
              "\n",
              "    .dataframe tbody tr th {\n",
              "        vertical-align: top;\n",
              "    }\n",
              "\n",
              "    .dataframe thead th {\n",
              "        text-align: right;\n",
              "    }\n",
              "</style>\n",
              "<table border=\"1\" class=\"dataframe\">\n",
              "  <thead>\n",
              "    <tr style=\"text-align: right;\">\n",
              "      <th></th>\n",
              "      <th>Predicted Labels</th>\n",
              "      <th>Actual Labels</th>\n",
              "    </tr>\n",
              "  </thead>\n",
              "  <tbody>\n",
              "    <tr>\n",
              "      <th>0</th>\n",
              "      <td>angry</td>\n",
              "      <td>angry</td>\n",
              "    </tr>\n",
              "    <tr>\n",
              "      <th>1</th>\n",
              "      <td>disgust</td>\n",
              "      <td>happy</td>\n",
              "    </tr>\n",
              "    <tr>\n",
              "      <th>2</th>\n",
              "      <td>disgust</td>\n",
              "      <td>disgust</td>\n",
              "    </tr>\n",
              "    <tr>\n",
              "      <th>3</th>\n",
              "      <td>sad</td>\n",
              "      <td>sad</td>\n",
              "    </tr>\n",
              "    <tr>\n",
              "      <th>4</th>\n",
              "      <td>calm</td>\n",
              "      <td>neutral</td>\n",
              "    </tr>\n",
              "    <tr>\n",
              "      <th>5</th>\n",
              "      <td>surprise</td>\n",
              "      <td>surprise</td>\n",
              "    </tr>\n",
              "    <tr>\n",
              "      <th>6</th>\n",
              "      <td>calm</td>\n",
              "      <td>calm</td>\n",
              "    </tr>\n",
              "    <tr>\n",
              "      <th>7</th>\n",
              "      <td>disgust</td>\n",
              "      <td>disgust</td>\n",
              "    </tr>\n",
              "    <tr>\n",
              "      <th>8</th>\n",
              "      <td>happy</td>\n",
              "      <td>disgust</td>\n",
              "    </tr>\n",
              "    <tr>\n",
              "      <th>9</th>\n",
              "      <td>calm</td>\n",
              "      <td>calm</td>\n",
              "    </tr>\n",
              "  </tbody>\n",
              "</table>\n",
              "</div>\n",
              "      <button class=\"colab-df-convert\" onclick=\"convertToInteractive('df-aef103cc-d4cb-4fb7-9d75-76ac52eb779a')\"\n",
              "              title=\"Convert this dataframe to an interactive table.\"\n",
              "              style=\"display:none;\">\n",
              "        \n",
              "  <svg xmlns=\"http://www.w3.org/2000/svg\" height=\"24px\"viewBox=\"0 0 24 24\"\n",
              "       width=\"24px\">\n",
              "    <path d=\"M0 0h24v24H0V0z\" fill=\"none\"/>\n",
              "    <path d=\"M18.56 5.44l.94 2.06.94-2.06 2.06-.94-2.06-.94-.94-2.06-.94 2.06-2.06.94zm-11 1L8.5 8.5l.94-2.06 2.06-.94-2.06-.94L8.5 2.5l-.94 2.06-2.06.94zm10 10l.94 2.06.94-2.06 2.06-.94-2.06-.94-.94-2.06-.94 2.06-2.06.94z\"/><path d=\"M17.41 7.96l-1.37-1.37c-.4-.4-.92-.59-1.43-.59-.52 0-1.04.2-1.43.59L10.3 9.45l-7.72 7.72c-.78.78-.78 2.05 0 2.83L4 21.41c.39.39.9.59 1.41.59.51 0 1.02-.2 1.41-.59l7.78-7.78 2.81-2.81c.8-.78.8-2.07 0-2.86zM5.41 20L4 18.59l7.72-7.72 1.47 1.35L5.41 20z\"/>\n",
              "  </svg>\n",
              "      </button>\n",
              "      \n",
              "  <style>\n",
              "    .colab-df-container {\n",
              "      display:flex;\n",
              "      flex-wrap:wrap;\n",
              "      gap: 12px;\n",
              "    }\n",
              "\n",
              "    .colab-df-convert {\n",
              "      background-color: #E8F0FE;\n",
              "      border: none;\n",
              "      border-radius: 50%;\n",
              "      cursor: pointer;\n",
              "      display: none;\n",
              "      fill: #1967D2;\n",
              "      height: 32px;\n",
              "      padding: 0 0 0 0;\n",
              "      width: 32px;\n",
              "    }\n",
              "\n",
              "    .colab-df-convert:hover {\n",
              "      background-color: #E2EBFA;\n",
              "      box-shadow: 0px 1px 2px rgba(60, 64, 67, 0.3), 0px 1px 3px 1px rgba(60, 64, 67, 0.15);\n",
              "      fill: #174EA6;\n",
              "    }\n",
              "\n",
              "    [theme=dark] .colab-df-convert {\n",
              "      background-color: #3B4455;\n",
              "      fill: #D2E3FC;\n",
              "    }\n",
              "\n",
              "    [theme=dark] .colab-df-convert:hover {\n",
              "      background-color: #434B5C;\n",
              "      box-shadow: 0px 1px 3px 1px rgba(0, 0, 0, 0.15);\n",
              "      filter: drop-shadow(0px 1px 2px rgba(0, 0, 0, 0.3));\n",
              "      fill: #FFFFFF;\n",
              "    }\n",
              "  </style>\n",
              "\n",
              "      <script>\n",
              "        const buttonEl =\n",
              "          document.querySelector('#df-aef103cc-d4cb-4fb7-9d75-76ac52eb779a button.colab-df-convert');\n",
              "        buttonEl.style.display =\n",
              "          google.colab.kernel.accessAllowed ? 'block' : 'none';\n",
              "\n",
              "        async function convertToInteractive(key) {\n",
              "          const element = document.querySelector('#df-aef103cc-d4cb-4fb7-9d75-76ac52eb779a');\n",
              "          const dataTable =\n",
              "            await google.colab.kernel.invokeFunction('convertToInteractive',\n",
              "                                                     [key], {});\n",
              "          if (!dataTable) return;\n",
              "\n",
              "          const docLinkHtml = 'Like what you see? Visit the ' +\n",
              "            '<a target=\"_blank\" href=https://colab.research.google.com/notebooks/data_table.ipynb>data table notebook</a>'\n",
              "            + ' to learn more about interactive tables.';\n",
              "          element.innerHTML = '';\n",
              "          dataTable['output_type'] = 'display_data';\n",
              "          await google.colab.output.renderOutput(dataTable, element);\n",
              "          const docLink = document.createElement('div');\n",
              "          docLink.innerHTML = docLinkHtml;\n",
              "          element.appendChild(docLink);\n",
              "        }\n",
              "      </script>\n",
              "    </div>\n",
              "  </div>\n",
              "  "
            ]
          },
          "metadata": {},
          "execution_count": 104
        }
      ],
      "source": [
        "df = pd.DataFrame(columns=['Predicted Labels', 'Actual Labels'])\n",
        "df['Predicted Labels'] = y_pred.flatten()\n",
        "df['Actual Labels'] = y_test.flatten()\n",
        "\n",
        "df.head(10)"
      ]
    },
    {
      "cell_type": "code",
      "execution_count": 105,
      "metadata": {
        "colab": {
          "base_uri": "https://localhost:8080/",
          "height": 630
        },
        "id": "OkI7FHIg7kZk",
        "outputId": "7f8bde8b-be29-4c74-8dab-9bcd33f619a1"
      },
      "outputs": [
        {
          "output_type": "display_data",
          "data": {
            "text/plain": [
              "<Figure size 864x720 with 2 Axes>"
            ],
            "image/png": "[encoded data removed]"
          },
          "metadata": {
            "needs_background": "light"
          }
        }
      ],
      "source": [
        "import seaborn as sns\n",
        "\n",
        "cm = confusion_matrix(y_test, y_pred)\n",
        "plt.figure(figsize = (12, 10))\n",
        "cm = pd.DataFrame(cm , index = [i for i in encoder.categories_] , columns = [i for i in encoder.categories_])\n",
        "sns.heatmap(cm, linecolor='white', cmap='Blues', linewidth=1, annot=True, fmt='')\n",
        "plt.title('Confusion Matrix', size=20)\n",
        "plt.xlabel('Predicted Labels', size=14)\n",
        "plt.ylabel('Actual Labels', size=14)\n",
        "plt.show()"
      ]
    },
    {
      "cell_type": "code",
      "execution_count": 106,
      "metadata": {
        "colab": {
          "base_uri": "https://localhost:8080/"
        },
        "id": "9sSiKI2U7m63",
        "outputId": "0a599c17-5aaf-4247-f45a-2ac1e4519ed4"
      },
      "outputs": [
        {
          "output_type": "stream",
          "name": "stdout",
          "text": [
            "              precision    recall  f1-score   support\n",
            "\n",
            "       angry       0.77      0.70      0.73       138\n",
            "        calm       0.64      0.77      0.70       141\n",
            "     disgust       0.56      0.58      0.57       145\n",
            "        fear       0.67      0.67      0.67       131\n",
            "       happy       0.52      0.60      0.56       163\n",
            "     neutral       0.50      0.41      0.45        76\n",
            "         sad       0.59      0.51      0.55       146\n",
            "    surprise       0.67      0.60      0.63       140\n",
            "\n",
            "    accuracy                           0.61      1080\n",
            "   macro avg       0.61      0.60      0.61      1080\n",
            "weighted avg       0.62      0.61      0.61      1080\n",
            "\n"
          ]
        }
      ],
      "source": [
        "from sklearn.metrics import classification_report\n",
        "\n",
        "print(classification_report(y_test, y_pred))"
      ]
    },
    {
      "cell_type": "markdown",
      "metadata": {
        "id": "IVx97IInFBKf"
      },
      "source": [
        "**Saving the model**"
      ]
    },
    {
      "cell_type": "code",
      "execution_count": 107,
      "metadata": {
        "colab": {
          "base_uri": "https://localhost:8080/"
        },
        "id": "8EsiVah7FDFp",
        "outputId": "fb121765-64c2-4b8c-ada4-db46a2763594"
      },
      "outputs": [
        {
          "output_type": "stream",
          "name": "stdout",
          "text": [
            "Saved trained model at /content/saved_models/Emotion_Voice_Detection_Model_2.h5 \n"
          ]
        }
      ],
      "source": [
        "import os\n",
        "model_name = 'Emotion_Voice_Detection_Model_2.h5'\n",
        "save_dir = os.path.join(os.getcwd(), 'saved_models')\n",
        "# Save model and weights\n",
        "if not os.path.isdir(save_dir):\n",
        "    os.makedirs(save_dir)\n",
        "model_path = os.path.join(save_dir, model_name)\n",
        "model.save(model_path)\n",
        "print('Saved trained model at %s ' % model_path)"
      ]
    },
    {
      "cell_type": "code",
      "execution_count": 108,
      "metadata": {
        "id": "4TbO0YJJFE9M"
      },
      "outputs": [],
      "source": [
        "import json\n",
        "model_json = model.to_json()\n",
        "with open(\"model.json\", \"w\") as json_file:\n",
        "    json_file.write(model_json)"
      ]
    },
    {
      "cell_type": "markdown",
      "metadata": {
        "id": "CHOVLWdJ8BhY"
      },
      "source": [
        "**Passing new audio through the model**\n",
        "\n"
      ]
    },
    {
      "cell_type": "code",
      "execution_count": 109,
      "metadata": {
        "id": "YRyxe2bV7tUD"
      },
      "outputs": [],
      "source": [
        "data, sampling_rate = librosa.load(\"/content/drive/MyDrive/Sun Life Financial Audio Files/November '22/Manjit Singh/audio_1.wav\")"
      ]
    },
    {
      "cell_type": "code",
      "execution_count": 110,
      "metadata": {
        "id": "LFsOApBB8Ruv"
      },
      "outputs": [],
      "source": [
        "#livedf= pd.DataFrame(columns=['feature'])\n",
        "X, sample_rate = librosa.load(\"/content/drive/MyDrive/Sun Life Financial Audio Files/November '22/Manjit Singh/audio_1.wav\", res_type='kaiser_fast',duration=2.5,sr=22050*2,offset=0.5)\n",
        "sample_rate = np.array(sample_rate)\n",
        "mfccs = np.mean(librosa.feature.mfcc(y=X, sr=sample_rate, n_mfcc=13),axis=0)\n",
        "featurelive = mfccs\n",
        "livedf2 = featurelive"
      ]
    },
    {
      "cell_type": "code",
      "execution_count": 111,
      "metadata": {
        "colab": {
          "base_uri": "https://localhost:8080/"
        },
        "id": "ha3gnpBA8aqg",
        "outputId": "b3dae12a-dcd1-4d15-f60c-a906975762fe"
      },
      "outputs": [
        {
          "output_type": "execute_result",
          "data": {
            "text/plain": [
              "(216, 1)"
            ]
          },
          "metadata": {},
          "execution_count": 111
        }
      ],
      "source": [
        "livedf2= pd.DataFrame(data=livedf2)\n",
        "livedf2.shape"
      ]
    },
    {
      "cell_type": "code",
      "execution_count": 112,
      "metadata": {
        "id": "3ZYcF72V8caO"
      },
      "outputs": [],
      "source": [
        "livedf2 = livedf2.stack().to_frame().T"
      ]
    },
    {
      "cell_type": "code",
      "execution_count": 113,
      "metadata": {
        "colab": {
          "base_uri": "https://localhost:8080/"
        },
        "id": "4C4dXyiU8eDr",
        "outputId": "bb9c2e73-dd3a-4c61-c7e8-04ac45d5418f"
      },
      "outputs": [
        {
          "output_type": "stream",
          "name": "stdout",
          "text": [
            "(1, 216)\n"
          ]
        }
      ],
      "source": [
        "livedf2\n",
        "print((livedf2).shape)"
      ]
    },
    {
      "cell_type": "code",
      "execution_count": 114,
      "metadata": {
        "id": "TUig94hN8hBA"
      },
      "outputs": [],
      "source": [
        "twodim_old= np.expand_dims(livedf2, axis=2)"
      ]
    },
    {
      "cell_type": "markdown",
      "source": [
        "Extra editing"
      ],
      "metadata": {
        "id": "2HCunc0hCDPm"
      }
    },
    {
      "cell_type": "code",
      "source": [
        "print(twodim_old.shape)"
      ],
      "metadata": {
        "colab": {
          "base_uri": "https://localhost:8080/"
        },
        "id": "_a-A2CagEi5F",
        "outputId": "f3c83a68-b17a-4e2d-f534-50366b637b89"
      },
      "execution_count": 115,
      "outputs": [
        {
          "output_type": "stream",
          "name": "stdout",
          "text": [
            "(1, 216, 1)\n"
          ]
        }
      ]
    },
    {
      "cell_type": "code",
      "source": [
        "twodim = twodim_old[:, :162, :]"
      ],
      "metadata": {
        "id": "jmCI1y0aCFA3"
      },
      "execution_count": 116,
      "outputs": []
    },
    {
      "cell_type": "code",
      "source": [
        "print(twodim.shape)"
      ],
      "metadata": {
        "colab": {
          "base_uri": "https://localhost:8080/"
        },
        "id": "mHdb0ZEdEld6",
        "outputId": "11d391f0-27ce-4e8a-b8b3-d1ac57afdb3c"
      },
      "execution_count": 117,
      "outputs": [
        {
          "output_type": "stream",
          "name": "stdout",
          "text": [
            "(1, 162, 1)\n"
          ]
        }
      ]
    },
    {
      "cell_type": "markdown",
      "source": [
        "Loading Model"
      ],
      "metadata": {
        "id": "NKXUrIr1Fg_w"
      }
    },
    {
      "cell_type": "code",
      "execution_count": 118,
      "metadata": {
        "colab": {
          "base_uri": "https://localhost:8080/"
        },
        "id": "DA75Zse5FdEr",
        "outputId": "df144ee1-07d6-4b4e-e322-d1baf673ca2a"
      },
      "outputs": [
        {
          "output_type": "stream",
          "name": "stdout",
          "text": [
            "Loaded model from disk\n"
          ]
        }
      ],
      "source": [
        "# loading json and creating model\n",
        "from keras.models import model_from_json\n",
        "json_file = open('model.json', 'r')\n",
        "loaded_model_json = json_file.read()\n",
        "json_file.close()\n",
        "loaded_model = model_from_json(loaded_model_json)\n",
        "# load weights into new model\n",
        "loaded_model.load_weights(\"saved_models/Emotion_Voice_Detection_Model_2.h5\")\n",
        "print(\"Loaded model from disk\")"
      ]
    },
    {
      "cell_type": "code",
      "execution_count": 129,
      "metadata": {
        "colab": {
          "base_uri": "https://localhost:8080/"
        },
        "id": "9gCEG2NSCuOz",
        "outputId": "14b9b985-278b-439e-b96f-2dcc948e9eff"
      },
      "outputs": [
        {
          "output_type": "stream",
          "name": "stdout",
          "text": [
            "1/1 [==============================] - 0s 20ms/step\n"
          ]
        }
      ],
      "source": [
        "livepreds = loaded_model.predict(twodim, \n",
        "                         batch_size=32, \n",
        "                         verbose=1)"
      ]
    },
    {
      "cell_type": "code",
      "source": [
        "print(livepreds)"
      ],
      "metadata": {
        "colab": {
          "base_uri": "https://localhost:8080/"
        },
        "id": "UKKfen39EtBp",
        "outputId": "c7a05c72-0012-4958-c70f-4e1100eeb13c"
      },
      "execution_count": 130,
      "outputs": [
        {
          "output_type": "stream",
          "name": "stdout",
          "text": [
            "[[1.9699245e-27 0.0000000e+00 9.6356020e-30 0.0000000e+00 1.0000000e+00\n",
            "  0.0000000e+00 0.0000000e+00 0.0000000e+00]]\n"
          ]
        }
      ]
    },
    {
      "cell_type": "code",
      "source": [
        "livepreds1=livepreds.argmax(axis=1)"
      ],
      "metadata": {
        "id": "UD8k6LRSEwOp"
      },
      "execution_count": 131,
      "outputs": []
    },
    {
      "cell_type": "code",
      "source": [
        "liveabc = livepreds1.astype(int).flatten()"
      ],
      "metadata": {
        "id": "ssJ_IhbTE0qK"
      },
      "execution_count": 132,
      "outputs": []
    },
    {
      "cell_type": "code",
      "source": [
        "liveabc"
      ],
      "metadata": {
        "colab": {
          "base_uri": "https://localhost:8080/"
        },
        "id": "IdVQ6P1oF2o8",
        "outputId": "3a3f41ac-304c-41a6-ca60-c3855a9ec637"
      },
      "execution_count": 133,
      "outputs": [
        {
          "output_type": "execute_result",
          "data": {
            "text/plain": [
              "array([4])"
            ]
          },
          "metadata": {},
          "execution_count": 133
        }
      ]
    },
    {
      "cell_type": "code",
      "source": [
        "#from sklearn.preprocessing import LabelEncoder\n",
        "\n",
        "lb = encoder\n",
        "\n",
        "#liveabc = liveabc.reshape(1, -1)\n",
        "livepredictions = (lb.inverse_transform((livepreds)))"
      ],
      "metadata": {
        "id": "rZ8amksAE2TE"
      },
      "execution_count": 134,
      "outputs": []
    },
    {
      "cell_type": "code",
      "source": [
        "livepredictions"
      ],
      "metadata": {
        "colab": {
          "base_uri": "https://localhost:8080/"
        },
        "id": "4Nwzz8SuE4gj",
        "outputId": "d78cbec9-358e-49ae-f6fc-882211a9a289"
      },
      "execution_count": 135,
      "outputs": [
        {
          "output_type": "execute_result",
          "data": {
            "text/plain": [
              "array([['happy']], dtype=object)"
            ]
          },
          "metadata": {},
          "execution_count": 135
        }
      ]
    }
  ],
  "metadata": {
    "colab": {
      "provenance": [],
      "mount_file_id": "1cvPuDx4xBD3bCDEiQeewM45W5jGBG3SI",
      "authorship_tag": "ABX9TyPqYKXZl6vqn9vDpDHhlMAB",
      "include_colab_link": true
    },
    "kernelspec": {
      "display_name": "Python 3",
      "name": "python3"
    },
    "language_info": {
      "name": "python"
    },
    "accelerator": "GPU",
    "gpuClass": "standard"
  },
  "nbformat": 4,
  "nbformat_minor": 0
}