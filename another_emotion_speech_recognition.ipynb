{
  "nbformat": 4,
  "nbformat_minor": 0,
  "metadata": {
    "colab": {
      "provenance": [],
      "authorship_tag": "ABX9TyMkJ53ZqUExAKa2EErIMgGh",
      "include_colab_link": true
    },
    "kernelspec": {
      "name": "python3",
      "display_name": "Python 3"
    },
    "language_info": {
      "name": "python"
    }
  },
  "cells": [
    {
      "cell_type": "markdown",
      "metadata": {
        "id": "view-in-github",
        "colab_type": "text"
      },
      "source": [
        "<a href=\"https://colab.research.google.com/github/sankalpbhatia2003/Speech-Emotion-Analyzer/blob/master/another_emotion_speech_recognition.ipynb\" target=\"_parent\"><img src=\"https://colab.research.google.com/assets/colab-badge.svg\" alt=\"Open In Colab\"/></a>"
      ]
    },
    {
      "cell_type": "code",
      "source": [
        "pip install keras"
      ],
      "metadata": {
        "id": "SaF8QCgO87KS",
        "colab": {
          "base_uri": "https://localhost:8080/"
        },
        "outputId": "ec44fe04-b0f5-47fe-f210-6372c3c10d68"
      },
      "execution_count": 44,
      "outputs": [
        {
          "output_type": "stream",
          "name": "stdout",
          "text": [
            "Looking in indexes: https://pypi.org/simple, https://us-python.pkg.dev/colab-wheels/public/simple/\n",
            "Requirement already satisfied: keras in /usr/local/lib/python3.8/dist-packages (2.11.0)\n"
          ]
        }
      ]
    },
    {
      "cell_type": "code",
      "source": [
        "pip install tensorflow"
      ],
      "metadata": {
        "colab": {
          "base_uri": "https://localhost:8080/"
        },
        "id": "w17QMCZdTj42",
        "outputId": "10a98aca-46c1-496f-ffb3-fa2d97132688"
      },
      "execution_count": 45,
      "outputs": [
        {
          "output_type": "stream",
          "name": "stdout",
          "text": [
            "Looking in indexes: https://pypi.org/simple, https://us-python.pkg.dev/colab-wheels/public/simple/\n",
            "Requirement already satisfied: tensorflow in /usr/local/lib/python3.8/dist-packages (2.11.0)\n",
            "Requirement already satisfied: tensorboard<2.12,>=2.11 in /usr/local/lib/python3.8/dist-packages (from tensorflow) (2.11.2)\n",
            "Requirement already satisfied: termcolor>=1.1.0 in /usr/local/lib/python3.8/dist-packages (from tensorflow) (2.2.0)\n",
            "Requirement already satisfied: protobuf<3.20,>=3.9.2 in /usr/local/lib/python3.8/dist-packages (from tensorflow) (3.19.6)\n",
            "Requirement already satisfied: tensorflow-estimator<2.12,>=2.11.0 in /usr/local/lib/python3.8/dist-packages (from tensorflow) (2.11.0)\n",
            "Requirement already satisfied: absl-py>=1.0.0 in /usr/local/lib/python3.8/dist-packages (from tensorflow) (1.4.0)\n",
            "Requirement already satisfied: h5py>=2.9.0 in /usr/local/lib/python3.8/dist-packages (from tensorflow) (3.1.0)\n",
            "Requirement already satisfied: libclang>=13.0.0 in /usr/local/lib/python3.8/dist-packages (from tensorflow) (15.0.6.1)\n",
            "Requirement already satisfied: wrapt>=1.11.0 in /usr/local/lib/python3.8/dist-packages (from tensorflow) (1.14.1)\n",
            "Requirement already satisfied: gast<=0.4.0,>=0.2.1 in /usr/local/lib/python3.8/dist-packages (from tensorflow) (0.4.0)\n",
            "Requirement already satisfied: typing-extensions>=3.6.6 in /usr/local/lib/python3.8/dist-packages (from tensorflow) (4.4.0)\n",
            "Requirement already satisfied: packaging in /usr/local/lib/python3.8/dist-packages (from tensorflow) (23.0)\n",
            "Requirement already satisfied: grpcio<2.0,>=1.24.3 in /usr/local/lib/python3.8/dist-packages (from tensorflow) (1.51.1)\n",
            "Requirement already satisfied: six>=1.12.0 in /usr/local/lib/python3.8/dist-packages (from tensorflow) (1.15.0)\n",
            "Requirement already satisfied: keras<2.12,>=2.11.0 in /usr/local/lib/python3.8/dist-packages (from tensorflow) (2.11.0)\n",
            "Requirement already satisfied: setuptools in /usr/local/lib/python3.8/dist-packages (from tensorflow) (57.4.0)\n",
            "Requirement already satisfied: google-pasta>=0.1.1 in /usr/local/lib/python3.8/dist-packages (from tensorflow) (0.2.0)\n",
            "Requirement already satisfied: tensorflow-io-gcs-filesystem>=0.23.1 in /usr/local/lib/python3.8/dist-packages (from tensorflow) (0.30.0)\n",
            "Requirement already satisfied: numpy>=1.20 in /usr/local/lib/python3.8/dist-packages (from tensorflow) (1.21.6)\n",
            "Requirement already satisfied: opt-einsum>=2.3.2 in /usr/local/lib/python3.8/dist-packages (from tensorflow) (3.3.0)\n",
            "Requirement already satisfied: astunparse>=1.6.0 in /usr/local/lib/python3.8/dist-packages (from tensorflow) (1.6.3)\n",
            "Requirement already satisfied: flatbuffers>=2.0 in /usr/local/lib/python3.8/dist-packages (from tensorflow) (23.1.21)\n",
            "Requirement already satisfied: wheel<1.0,>=0.23.0 in /usr/local/lib/python3.8/dist-packages (from astunparse>=1.6.0->tensorflow) (0.38.4)\n",
            "Requirement already satisfied: markdown>=2.6.8 in /usr/local/lib/python3.8/dist-packages (from tensorboard<2.12,>=2.11->tensorflow) (3.4.1)\n",
            "Requirement already satisfied: tensorboard-data-server<0.7.0,>=0.6.0 in /usr/local/lib/python3.8/dist-packages (from tensorboard<2.12,>=2.11->tensorflow) (0.6.1)\n",
            "Requirement already satisfied: tensorboard-plugin-wit>=1.6.0 in /usr/local/lib/python3.8/dist-packages (from tensorboard<2.12,>=2.11->tensorflow) (1.8.1)\n",
            "Requirement already satisfied: requests<3,>=2.21.0 in /usr/local/lib/python3.8/dist-packages (from tensorboard<2.12,>=2.11->tensorflow) (2.25.1)\n",
            "Requirement already satisfied: google-auth<3,>=1.6.3 in /usr/local/lib/python3.8/dist-packages (from tensorboard<2.12,>=2.11->tensorflow) (2.16.0)\n",
            "Requirement already satisfied: werkzeug>=1.0.1 in /usr/local/lib/python3.8/dist-packages (from tensorboard<2.12,>=2.11->tensorflow) (1.0.1)\n",
            "Requirement already satisfied: google-auth-oauthlib<0.5,>=0.4.1 in /usr/local/lib/python3.8/dist-packages (from tensorboard<2.12,>=2.11->tensorflow) (0.4.6)\n",
            "Requirement already satisfied: pyasn1-modules>=0.2.1 in /usr/local/lib/python3.8/dist-packages (from google-auth<3,>=1.6.3->tensorboard<2.12,>=2.11->tensorflow) (0.2.8)\n",
            "Requirement already satisfied: cachetools<6.0,>=2.0.0 in /usr/local/lib/python3.8/dist-packages (from google-auth<3,>=1.6.3->tensorboard<2.12,>=2.11->tensorflow) (5.3.0)\n",
            "Requirement already satisfied: rsa<5,>=3.1.4 in /usr/local/lib/python3.8/dist-packages (from google-auth<3,>=1.6.3->tensorboard<2.12,>=2.11->tensorflow) (4.9)\n",
            "Requirement already satisfied: requests-oauthlib>=0.7.0 in /usr/local/lib/python3.8/dist-packages (from google-auth-oauthlib<0.5,>=0.4.1->tensorboard<2.12,>=2.11->tensorflow) (1.3.1)\n",
            "Requirement already satisfied: importlib-metadata>=4.4 in /usr/local/lib/python3.8/dist-packages (from markdown>=2.6.8->tensorboard<2.12,>=2.11->tensorflow) (6.0.0)\n",
            "Requirement already satisfied: chardet<5,>=3.0.2 in /usr/local/lib/python3.8/dist-packages (from requests<3,>=2.21.0->tensorboard<2.12,>=2.11->tensorflow) (4.0.0)\n",
            "Requirement already satisfied: certifi>=2017.4.17 in /usr/local/lib/python3.8/dist-packages (from requests<3,>=2.21.0->tensorboard<2.12,>=2.11->tensorflow) (2022.12.7)\n",
            "Requirement already satisfied: urllib3<1.27,>=1.21.1 in /usr/local/lib/python3.8/dist-packages (from requests<3,>=2.21.0->tensorboard<2.12,>=2.11->tensorflow) (1.24.3)\n",
            "Requirement already satisfied: idna<3,>=2.5 in /usr/local/lib/python3.8/dist-packages (from requests<3,>=2.21.0->tensorboard<2.12,>=2.11->tensorflow) (2.10)\n",
            "Requirement already satisfied: zipp>=0.5 in /usr/local/lib/python3.8/dist-packages (from importlib-metadata>=4.4->markdown>=2.6.8->tensorboard<2.12,>=2.11->tensorflow) (3.12.1)\n",
            "Requirement already satisfied: pyasn1<0.5.0,>=0.4.6 in /usr/local/lib/python3.8/dist-packages (from pyasn1-modules>=0.2.1->google-auth<3,>=1.6.3->tensorboard<2.12,>=2.11->tensorflow) (0.4.8)\n",
            "Requirement already satisfied: oauthlib>=3.0.0 in /usr/local/lib/python3.8/dist-packages (from requests-oauthlib>=0.7.0->google-auth-oauthlib<0.5,>=0.4.1->tensorboard<2.12,>=2.11->tensorflow) (3.2.2)\n"
          ]
        }
      ]
    },
    {
      "cell_type": "code",
      "source": [
        "from google.colab import drive\n",
        "drive.mount('/content/drive')"
      ],
      "metadata": {
        "id": "c-ldzAie9TNZ",
        "colab": {
          "base_uri": "https://localhost:8080/"
        },
        "outputId": "b5cef470-f744-4ff2-8f8d-25aae6e881f7"
      },
      "execution_count": 46,
      "outputs": [
        {
          "output_type": "stream",
          "name": "stdout",
          "text": [
            "Drive already mounted at /content/drive; to attempt to forcibly remount, call drive.mount(\"/content/drive\", force_remount=True).\n"
          ]
        }
      ]
    },
    {
      "cell_type": "code",
      "execution_count": 47,
      "metadata": {
        "id": "hMjRNWNh8OSD"
      },
      "outputs": [],
      "source": [
        "import librosa\n",
        "import librosa.display\n",
        "import numpy as np\n",
        "import matplotlib.pyplot as plt\n",
        "import tensorflow as tf\n",
        "from matplotlib.pyplot import specgram\n",
        "import keras\n",
        "from keras.preprocessing import sequence\n",
        "from keras.models import Sequential\n",
        "from keras.layers import Dense, Embedding\n",
        "from keras.layers import LSTM\n",
        "from keras.preprocessing.text import Tokenizer\n",
        "from tensorflow.keras.preprocessing.sequence import pad_sequences\n",
        "from keras.utils import to_categorical\n",
        "from keras.layers import Input, Flatten, Dropout, Activation\n",
        "from keras.layers import Conv1D, MaxPooling1D, AveragePooling1D\n",
        "from keras.models import Model\n",
        "from keras.callbacks import ModelCheckpoint\n",
        "from sklearn.metrics import confusion_matrix"
      ]
    },
    {
      "cell_type": "code",
      "source": [
        "from keras import regularizers\n",
        "import os"
      ],
      "metadata": {
        "id": "pz-y9XMR8Xqa"
      },
      "execution_count": 48,
      "outputs": []
    },
    {
      "cell_type": "code",
      "source": [
        "mylist= os.listdir(\"/content/drive/MyDrive/Voice Training Data /audio_speech_actors_01-24/Actor_01\")"
      ],
      "metadata": {
        "id": "0rQRlwgk8ZlI"
      },
      "execution_count": 49,
      "outputs": []
    },
    {
      "cell_type": "code",
      "source": [
        "type(mylist)"
      ],
      "metadata": {
        "colab": {
          "base_uri": "https://localhost:8080/"
        },
        "id": "HCBsz7Ha9bfH",
        "outputId": "37251100-ccba-40cf-ff6d-eb071b91eb62"
      },
      "execution_count": 50,
      "outputs": [
        {
          "output_type": "execute_result",
          "data": {
            "text/plain": [
              "list"
            ]
          },
          "metadata": {},
          "execution_count": 50
        }
      ]
    },
    {
      "cell_type": "code",
      "source": [
        "print(mylist)"
      ],
      "metadata": {
        "colab": {
          "base_uri": "https://localhost:8080/"
        },
        "id": "AClFj-pN9gEc",
        "outputId": "73250a80-d539-4cb8-eb56-bf4b9321f26d"
      },
      "execution_count": 51,
      "outputs": [
        {
          "output_type": "stream",
          "name": "stdout",
          "text": [
            "['03-01-06-01-01-01-01.wav', '03-01-03-01-01-02-01.wav', '03-01-04-01-02-02-01.wav', '03-01-05-01-01-01-01.wav', '03-01-01-01-01-01-01.wav', '03-01-05-02-01-02-01.wav', '03-01-05-02-02-01-01.wav', '03-01-05-02-02-02-01.wav', '03-01-02-01-01-02-01.wav', '03-01-05-01-01-02-01.wav', '03-01-02-01-01-01-01.wav', '03-01-04-01-01-01-01.wav', '03-01-04-01-02-01-01.wav', '03-01-01-01-01-02-01.wav', '03-01-03-01-02-01-01.wav', '03-01-06-01-01-02-01.wav', '03-01-04-02-01-02-01.wav', '03-01-04-01-01-02-01.wav', '03-01-02-02-02-01-01.wav', '03-01-05-01-02-01-01.wav', '03-01-06-01-02-02-01.wav', '03-01-02-02-01-01-01.wav', '03-01-03-01-02-02-01.wav', '03-01-02-02-01-02-01.wav', '03-01-01-01-02-01-01.wav', '03-01-03-02-01-02-01.wav', '03-01-06-01-02-01-01.wav', '03-01-04-02-02-02-01.wav', '03-01-01-01-02-02-01.wav', '03-01-03-02-02-02-01.wav', '03-01-02-01-02-01-01.wav', '03-01-05-01-02-02-01.wav', '03-01-04-02-02-01-01.wav', '03-01-03-02-02-01-01.wav', '03-01-03-02-01-01-01.wav', '03-01-04-02-01-01-01.wav', '03-01-02-02-02-02-01.wav', '03-01-05-02-01-01-01.wav', '03-01-02-01-02-02-01.wav', '03-01-03-01-01-01-01.wav', '03-01-07-02-01-01-01.wav', '03-01-07-02-02-01-01.wav', '03-01-08-02-02-01-01.wav', '03-01-07-01-01-01-01.wav', '03-01-06-02-01-02-01.wav', '03-01-06-02-01-01-01.wav', '03-01-08-02-02-02-01.wav', '03-01-08-01-01-01-01.wav', '03-01-08-01-02-01-01.wav', '03-01-07-01-02-01-01.wav', '03-01-06-02-02-02-01.wav', '03-01-08-01-01-02-01.wav', '03-01-08-02-01-01-01.wav', '03-01-07-02-01-02-01.wav', '03-01-07-02-02-02-01.wav', '03-01-08-01-02-02-01.wav', '03-01-07-01-02-02-01.wav', '03-01-06-02-02-01-01.wav', '03-01-08-02-01-02-01.wav', '03-01-07-01-01-02-01.wav']\n"
          ]
        }
      ]
    },
    {
      "cell_type": "code",
      "source": [
        "data, sampling_rate = librosa.load(\"/content/drive/MyDrive/Voice Training Data /audio_speech_actors_01-24/Actor_01/03-01-01-01-01-01-01.wav\")"
      ],
      "metadata": {
        "id": "UEL4G_UJ-sJ5"
      },
      "execution_count": 52,
      "outputs": []
    },
    {
      "cell_type": "code",
      "source": [
        "import os\n",
        "import pandas as pd\n",
        "import librosa\n",
        "import glob \n",
        "\n",
        "plt.figure(figsize=(15, 5))\n",
        "plt.title(\"Manjit Singh - Sun Life Financials Nov 2022\")\n",
        "librosa.display.waveplot(data, sr=sampling_rate)"
      ],
      "metadata": {
        "id": "WW_8MjQ4_QTF",
        "colab": {
          "base_uri": "https://localhost:8080/",
          "height": 368
        },
        "outputId": "d2e042e1-c46e-40e7-a63f-fa141f13f0d5"
      },
      "execution_count": 53,
      "outputs": [
        {
          "output_type": "execute_result",
          "data": {
            "text/plain": [
              "<matplotlib.collections.PolyCollection at 0x7fdca8340eb0>"
            ]
          },
          "metadata": {},
          "execution_count": 53
        },
        {
          "output_type": "display_data",
          "data": {
            "text/plain": [
              "<Figure size 1080x360 with 1 Axes>"
            ],
            "image/png": "[encoded data removed]"
          },
          "metadata": {
            "needs_background": "light"
          }
        }
      ]
    },
    {
      "cell_type": "code",
      "source": [
        "import matplotlib.pyplot as plt\n",
        "import scipy.io.wavfile\n",
        "import numpy as np\n",
        "import sys\n",
        "\n",
        "\n",
        "sr,x = scipy.io.wavfile.read(\"/content/drive/MyDrive/Voice Training Data /audio_speech_actors_01-24/Actor_01/03-01-01-01-01-01-01.wav\")\n",
        "\n",
        "## Parameters: 10ms step, 30ms window\n",
        "nstep = int(sr * 0.01)\n",
        "nwin  = int(sr * 0.03)\n",
        "nfft = nwin\n",
        "\n",
        "window = np.hamming(nwin)\n",
        "\n",
        "## will take windows x[n1:n2].  generate\n",
        "## and loop over n2 such that all frames\n",
        "## fit within the waveform\n",
        "nn = range(nwin, len(x), nstep)\n",
        "\n",
        "X = np.zeros( (len(nn), nfft//2) )\n",
        "\n",
        "for i,n in enumerate(nn):\n",
        "    xseg = x[n-nwin:n]\n",
        "    z = np.fft.fft(window * xseg, nfft)\n",
        "    X[i,:] = np.log(np.abs(z[:nfft//2]))\n",
        "\n",
        "plt.imshow(X.T, interpolation='nearest',\n",
        "    origin='lower',\n",
        "    aspect='auto')\n",
        "\n",
        "plt.show()"
      ],
      "metadata": {
        "colab": {
          "base_uri": "https://localhost:8080/",
          "height": 336
        },
        "id": "vbAGKl93TumO",
        "outputId": "fda17369-5c3c-44e8-8a19-57e5545f4641"
      },
      "execution_count": 54,
      "outputs": [
        {
          "output_type": "stream",
          "name": "stderr",
          "text": [
            "<ipython-input-54-a039fc7eaddb>:7: WavFileWarning: Chunk (non-data) not understood, skipping it.\n",
            "  sr,x = scipy.io.wavfile.read(\"/content/drive/MyDrive/Voice Training Data /audio_speech_actors_01-24/Actor_01/03-01-01-01-01-01-01.wav\")\n",
            "<ipython-input-54-a039fc7eaddb>:26: RuntimeWarning: divide by zero encountered in log\n",
            "  X[i,:] = np.log(np.abs(z[:nfft//2]))\n"
          ]
        },
        {
          "output_type": "display_data",
          "data": {
            "text/plain": [
              "<Figure size 432x288 with 1 Axes>"
            ],
            "image/png": "[encoded data removed]"
          },
          "metadata": {
            "needs_background": "light"
          }
        }
      ]
    },
    {
      "cell_type": "code",
      "source": [
        "feeling_list=[]\n",
        "for item in mylist:\n",
        "    if item[6:-16]=='02' and int(item[18:-4])%2==0:\n",
        "        feeling_list.append('female_calm')\n",
        "    elif item[6:-16]=='02' and int(item[18:-4])%2==1:\n",
        "        feeling_list.append('male_calm')\n",
        "    elif item[6:-16]=='03' and int(item[18:-4])%2==0:\n",
        "        feeling_list.append('female_happy')\n",
        "    elif item[6:-16]=='03' and int(item[18:-4])%2==1:\n",
        "        feeling_list.append('male_happy')\n",
        "    elif item[6:-16]=='04' and int(item[18:-4])%2==0:\n",
        "        feeling_list.append('female_sad')\n",
        "    elif item[6:-16]=='04' and int(item[18:-4])%2==1:\n",
        "        feeling_list.append('male_sad')\n",
        "    elif item[6:-16]=='05' and int(item[18:-4])%2==0:\n",
        "        feeling_list.append('female_angry')\n",
        "    elif item[6:-16]=='05' and int(item[18:-4])%2==1:\n",
        "        feeling_list.append('male_angry')\n",
        "    elif item[6:-16]=='06' and int(item[18:-4])%2==0:\n",
        "        feeling_list.append('female_fearful')\n",
        "    elif item[6:-16]=='06' and int(item[18:-4])%2==1:\n",
        "        feeling_list.append('male_fearful')\n",
        "    elif item[:1]=='a':\n",
        "        feeling_list.append('male_angry')\n",
        "    elif item[:1]=='f':\n",
        "        feeling_list.append('male_fearful')\n",
        "    elif item[:1]=='h':\n",
        "        feeling_list.append('male_happy')\n",
        "    #elif item[:1]=='n':\n",
        "        #feeling_list.append('neutral')\n",
        "    elif item[:2]=='sa':\n",
        "        feeling_list.append('male_sad')"
      ],
      "metadata": {
        "id": "PqRJx9iiTwrK"
      },
      "execution_count": 55,
      "outputs": []
    },
    {
      "cell_type": "code",
      "source": [
        "labels = pd.DataFrame(feeling_list)"
      ],
      "metadata": {
        "id": "oik3U7fLT3Mc"
      },
      "execution_count": 56,
      "outputs": []
    },
    {
      "cell_type": "code",
      "source": [
        "labels[:10]"
      ],
      "metadata": {
        "colab": {
          "base_uri": "https://localhost:8080/",
          "height": 363
        },
        "id": "royBUiZAT5rD",
        "outputId": "f0f5e409-2a77-4a08-dde5-67894667a787"
      },
      "execution_count": 57,
      "outputs": [
        {
          "output_type": "execute_result",
          "data": {
            "text/plain": [
              "              0\n",
              "0  male_fearful\n",
              "1    male_happy\n",
              "2      male_sad\n",
              "3    male_angry\n",
              "4    male_angry\n",
              "5    male_angry\n",
              "6    male_angry\n",
              "7     male_calm\n",
              "8    male_angry\n",
              "9     male_calm"
            ],
            "text/html": [
              "\n",
              "  <div id=\"df-8a6aac0d-ede7-4a91-a739-e5d758e84c2d\">\n",
              "    <div class=\"colab-df-container\">\n",
              "      <div>\n",
              "<style scoped>\n",
              "    .dataframe tbody tr th:only-of-type {\n",
              "        vertical-align: middle;\n",
              "    }\n",
              "\n",
              "    .dataframe tbody tr th {\n",
              "        vertical-align: top;\n",
              "    }\n",
              "\n",
              "    .dataframe thead th {\n",
              "        text-align: right;\n",
              "    }\n",
              "</style>\n",
              "<table border=\"1\" class=\"dataframe\">\n",
              "  <thead>\n",
              "    <tr style=\"text-align: right;\">\n",
              "      <th></th>\n",
              "      <th>0</th>\n",
              "    </tr>\n",
              "  </thead>\n",
              "  <tbody>\n",
              "    <tr>\n",
              "      <th>0</th>\n",
              "      <td>male_fearful</td>\n",
              "    </tr>\n",
              "    <tr>\n",
              "      <th>1</th>\n",
              "      <td>male_happy</td>\n",
              "    </tr>\n",
              "    <tr>\n",
              "      <th>2</th>\n",
              "      <td>male_sad</td>\n",
              "    </tr>\n",
              "    <tr>\n",
              "      <th>3</th>\n",
              "      <td>male_angry</td>\n",
              "    </tr>\n",
              "    <tr>\n",
              "      <th>4</th>\n",
              "      <td>male_angry</td>\n",
              "    </tr>\n",
              "    <tr>\n",
              "      <th>5</th>\n",
              "      <td>male_angry</td>\n",
              "    </tr>\n",
              "    <tr>\n",
              "      <th>6</th>\n",
              "      <td>male_angry</td>\n",
              "    </tr>\n",
              "    <tr>\n",
              "      <th>7</th>\n",
              "      <td>male_calm</td>\n",
              "    </tr>\n",
              "    <tr>\n",
              "      <th>8</th>\n",
              "      <td>male_angry</td>\n",
              "    </tr>\n",
              "    <tr>\n",
              "      <th>9</th>\n",
              "      <td>male_calm</td>\n",
              "    </tr>\n",
              "  </tbody>\n",
              "</table>\n",
              "</div>\n",
              "      <button class=\"colab-df-convert\" onclick=\"convertToInteractive('df-8a6aac0d-ede7-4a91-a739-e5d758e84c2d')\"\n",
              "              title=\"Convert this dataframe to an interactive table.\"\n",
              "              style=\"display:none;\">\n",
              "        \n",
              "  <svg xmlns=\"http://www.w3.org/2000/svg\" height=\"24px\"viewBox=\"0 0 24 24\"\n",
              "       width=\"24px\">\n",
              "    <path d=\"M0 0h24v24H0V0z\" fill=\"none\"/>\n",
              "    <path d=\"M18.56 5.44l.94 2.06.94-2.06 2.06-.94-2.06-.94-.94-2.06-.94 2.06-2.06.94zm-11 1L8.5 8.5l.94-2.06 2.06-.94-2.06-.94L8.5 2.5l-.94 2.06-2.06.94zm10 10l.94 2.06.94-2.06 2.06-.94-2.06-.94-.94-2.06-.94 2.06-2.06.94z\"/><path d=\"M17.41 7.96l-1.37-1.37c-.4-.4-.92-.59-1.43-.59-.52 0-1.04.2-1.43.59L10.3 9.45l-7.72 7.72c-.78.78-.78 2.05 0 2.83L4 21.41c.39.39.9.59 1.41.59.51 0 1.02-.2 1.41-.59l7.78-7.78 2.81-2.81c.8-.78.8-2.07 0-2.86zM5.41 20L4 18.59l7.72-7.72 1.47 1.35L5.41 20z\"/>\n",
              "  </svg>\n",
              "      </button>\n",
              "      \n",
              "  <style>\n",
              "    .colab-df-container {\n",
              "      display:flex;\n",
              "      flex-wrap:wrap;\n",
              "      gap: 12px;\n",
              "    }\n",
              "\n",
              "    .colab-df-convert {\n",
              "      background-color: #E8F0FE;\n",
              "      border: none;\n",
              "      border-radius: 50%;\n",
              "      cursor: pointer;\n",
              "      display: none;\n",
              "      fill: #1967D2;\n",
              "      height: 32px;\n",
              "      padding: 0 0 0 0;\n",
              "      width: 32px;\n",
              "    }\n",
              "\n",
              "    .colab-df-convert:hover {\n",
              "      background-color: #E2EBFA;\n",
              "      box-shadow: 0px 1px 2px rgba(60, 64, 67, 0.3), 0px 1px 3px 1px rgba(60, 64, 67, 0.15);\n",
              "      fill: #174EA6;\n",
              "    }\n",
              "\n",
              "    [theme=dark] .colab-df-convert {\n",
              "      background-color: #3B4455;\n",
              "      fill: #D2E3FC;\n",
              "    }\n",
              "\n",
              "    [theme=dark] .colab-df-convert:hover {\n",
              "      background-color: #434B5C;\n",
              "      box-shadow: 0px 1px 3px 1px rgba(0, 0, 0, 0.15);\n",
              "      filter: drop-shadow(0px 1px 2px rgba(0, 0, 0, 0.3));\n",
              "      fill: #FFFFFF;\n",
              "    }\n",
              "  </style>\n",
              "\n",
              "      <script>\n",
              "        const buttonEl =\n",
              "          document.querySelector('#df-8a6aac0d-ede7-4a91-a739-e5d758e84c2d button.colab-df-convert');\n",
              "        buttonEl.style.display =\n",
              "          google.colab.kernel.accessAllowed ? 'block' : 'none';\n",
              "\n",
              "        async function convertToInteractive(key) {\n",
              "          const element = document.querySelector('#df-8a6aac0d-ede7-4a91-a739-e5d758e84c2d');\n",
              "          const dataTable =\n",
              "            await google.colab.kernel.invokeFunction('convertToInteractive',\n",
              "                                                     [key], {});\n",
              "          if (!dataTable) return;\n",
              "\n",
              "          const docLinkHtml = 'Like what you see? Visit the ' +\n",
              "            '<a target=\"_blank\" href=https://colab.research.google.com/notebooks/data_table.ipynb>data table notebook</a>'\n",
              "            + ' to learn more about interactive tables.';\n",
              "          element.innerHTML = '';\n",
              "          dataTable['output_type'] = 'display_data';\n",
              "          await google.colab.output.renderOutput(dataTable, element);\n",
              "          const docLink = document.createElement('div');\n",
              "          docLink.innerHTML = docLinkHtml;\n",
              "          element.appendChild(docLink);\n",
              "        }\n",
              "      </script>\n",
              "    </div>\n",
              "  </div>\n",
              "  "
            ]
          },
          "metadata": {},
          "execution_count": 57
        }
      ]
    },
    {
      "cell_type": "code",
      "source": [
        "df = pd.DataFrame(columns=['feature'])\n",
        "bookmark=0\n",
        "for index,y in enumerate(mylist):\n",
        "    if mylist[index][6:-16]!='01' and mylist[index][6:-16]!='07' and mylist[index][6:-16]!='08' and mylist[index][:2]!='su' and mylist[index][:1]!='n' and mylist[index][:1]!='d':\n",
        "        X, sample_rate = librosa.load(\"/content/drive/MyDrive/Voice Training Data /audio_speech_actors_01-24/Actor_01/\"+y, res_type='kaiser_fast',duration=2.5,sr=22050*2,offset=0.5)\n",
        "        sample_rate = np.array(sample_rate)\n",
        "        mfccs = np.mean(librosa.feature.mfcc(y=X, \n",
        "                                            sr=sample_rate, \n",
        "                                            n_mfcc=13),\n",
        "                        axis=0)\n",
        "        feature = mfccs\n",
        "        #[float(i) for i in feature]\n",
        "        #feature1=feature[:135]\n",
        "        df.loc[bookmark] = [feature]\n",
        "        bookmark=bookmark+1        "
      ],
      "metadata": {
        "id": "Yp2fdIp7T685"
      },
      "execution_count": 58,
      "outputs": []
    },
    {
      "cell_type": "code",
      "source": [
        "df[:5]"
      ],
      "metadata": {
        "colab": {
          "base_uri": "https://localhost:8080/",
          "height": 206
        },
        "id": "LHRJ4-eST9vL",
        "outputId": "011e4411-c174-4b26-c5d8-a849a0f118c8"
      },
      "execution_count": 59,
      "outputs": [
        {
          "output_type": "execute_result",
          "data": {
            "text/plain": [
              "                                             feature\n",
              "0  [-45.032272, -46.783333, -47.775944, -45.63865...\n",
              "1  [-60.36923, -60.083897, -60.978966, -60.952496...\n",
              "2  [-68.0494, -68.0494, -68.0494, -68.0494, -68.0...\n",
              "3  [-55.507534, -55.729652, -55.71684, -55.83593,...\n",
              "4  [-42.10482, -42.230606, -44.16868, -43.173862,..."
            ],
            "text/html": [
              "\n",
              "  <div id=\"df-795265e2-1d38-4d6c-a0c3-12d0100f7aa4\">\n",
              "    <div class=\"colab-df-container\">\n",
              "      <div>\n",
              "<style scoped>\n",
              "    .dataframe tbody tr th:only-of-type {\n",
              "        vertical-align: middle;\n",
              "    }\n",
              "\n",
              "    .dataframe tbody tr th {\n",
              "        vertical-align: top;\n",
              "    }\n",
              "\n",
              "    .dataframe thead th {\n",
              "        text-align: right;\n",
              "    }\n",
              "</style>\n",
              "<table border=\"1\" class=\"dataframe\">\n",
              "  <thead>\n",
              "    <tr style=\"text-align: right;\">\n",
              "      <th></th>\n",
              "      <th>feature</th>\n",
              "    </tr>\n",
              "  </thead>\n",
              "  <tbody>\n",
              "    <tr>\n",
              "      <th>0</th>\n",
              "      <td>[-45.032272, -46.783333, -47.775944, -45.63865...</td>\n",
              "    </tr>\n",
              "    <tr>\n",
              "      <th>1</th>\n",
              "      <td>[-60.36923, -60.083897, -60.978966, -60.952496...</td>\n",
              "    </tr>\n",
              "    <tr>\n",
              "      <th>2</th>\n",
              "      <td>[-68.0494, -68.0494, -68.0494, -68.0494, -68.0...</td>\n",
              "    </tr>\n",
              "    <tr>\n",
              "      <th>3</th>\n",
              "      <td>[-55.507534, -55.729652, -55.71684, -55.83593,...</td>\n",
              "    </tr>\n",
              "    <tr>\n",
              "      <th>4</th>\n",
              "      <td>[-42.10482, -42.230606, -44.16868, -43.173862,...</td>\n",
              "    </tr>\n",
              "  </tbody>\n",
              "</table>\n",
              "</div>\n",
              "      <button class=\"colab-df-convert\" onclick=\"convertToInteractive('df-795265e2-1d38-4d6c-a0c3-12d0100f7aa4')\"\n",
              "              title=\"Convert this dataframe to an interactive table.\"\n",
              "              style=\"display:none;\">\n",
              "        \n",
              "  <svg xmlns=\"http://www.w3.org/2000/svg\" height=\"24px\"viewBox=\"0 0 24 24\"\n",
              "       width=\"24px\">\n",
              "    <path d=\"M0 0h24v24H0V0z\" fill=\"none\"/>\n",
              "    <path d=\"M18.56 5.44l.94 2.06.94-2.06 2.06-.94-2.06-.94-.94-2.06-.94 2.06-2.06.94zm-11 1L8.5 8.5l.94-2.06 2.06-.94-2.06-.94L8.5 2.5l-.94 2.06-2.06.94zm10 10l.94 2.06.94-2.06 2.06-.94-2.06-.94-.94-2.06-.94 2.06-2.06.94z\"/><path d=\"M17.41 7.96l-1.37-1.37c-.4-.4-.92-.59-1.43-.59-.52 0-1.04.2-1.43.59L10.3 9.45l-7.72 7.72c-.78.78-.78 2.05 0 2.83L4 21.41c.39.39.9.59 1.41.59.51 0 1.02-.2 1.41-.59l7.78-7.78 2.81-2.81c.8-.78.8-2.07 0-2.86zM5.41 20L4 18.59l7.72-7.72 1.47 1.35L5.41 20z\"/>\n",
              "  </svg>\n",
              "      </button>\n",
              "      \n",
              "  <style>\n",
              "    .colab-df-container {\n",
              "      display:flex;\n",
              "      flex-wrap:wrap;\n",
              "      gap: 12px;\n",
              "    }\n",
              "\n",
              "    .colab-df-convert {\n",
              "      background-color: #E8F0FE;\n",
              "      border: none;\n",
              "      border-radius: 50%;\n",
              "      cursor: pointer;\n",
              "      display: none;\n",
              "      fill: #1967D2;\n",
              "      height: 32px;\n",
              "      padding: 0 0 0 0;\n",
              "      width: 32px;\n",
              "    }\n",
              "\n",
              "    .colab-df-convert:hover {\n",
              "      background-color: #E2EBFA;\n",
              "      box-shadow: 0px 1px 2px rgba(60, 64, 67, 0.3), 0px 1px 3px 1px rgba(60, 64, 67, 0.15);\n",
              "      fill: #174EA6;\n",
              "    }\n",
              "\n",
              "    [theme=dark] .colab-df-convert {\n",
              "      background-color: #3B4455;\n",
              "      fill: #D2E3FC;\n",
              "    }\n",
              "\n",
              "    [theme=dark] .colab-df-convert:hover {\n",
              "      background-color: #434B5C;\n",
              "      box-shadow: 0px 1px 3px 1px rgba(0, 0, 0, 0.15);\n",
              "      filter: drop-shadow(0px 1px 2px rgba(0, 0, 0, 0.3));\n",
              "      fill: #FFFFFF;\n",
              "    }\n",
              "  </style>\n",
              "\n",
              "      <script>\n",
              "        const buttonEl =\n",
              "          document.querySelector('#df-795265e2-1d38-4d6c-a0c3-12d0100f7aa4 button.colab-df-convert');\n",
              "        buttonEl.style.display =\n",
              "          google.colab.kernel.accessAllowed ? 'block' : 'none';\n",
              "\n",
              "        async function convertToInteractive(key) {\n",
              "          const element = document.querySelector('#df-795265e2-1d38-4d6c-a0c3-12d0100f7aa4');\n",
              "          const dataTable =\n",
              "            await google.colab.kernel.invokeFunction('convertToInteractive',\n",
              "                                                     [key], {});\n",
              "          if (!dataTable) return;\n",
              "\n",
              "          const docLinkHtml = 'Like what you see? Visit the ' +\n",
              "            '<a target=\"_blank\" href=https://colab.research.google.com/notebooks/data_table.ipynb>data table notebook</a>'\n",
              "            + ' to learn more about interactive tables.';\n",
              "          element.innerHTML = '';\n",
              "          dataTable['output_type'] = 'display_data';\n",
              "          await google.colab.output.renderOutput(dataTable, element);\n",
              "          const docLink = document.createElement('div');\n",
              "          docLink.innerHTML = docLinkHtml;\n",
              "          element.appendChild(docLink);\n",
              "        }\n",
              "      </script>\n",
              "    </div>\n",
              "  </div>\n",
              "  "
            ]
          },
          "metadata": {},
          "execution_count": 59
        }
      ]
    },
    {
      "cell_type": "code",
      "source": [
        "df3 = pd.DataFrame(df['feature'].values.tolist())"
      ],
      "metadata": {
        "id": "eOGxzyj4UaE_"
      },
      "execution_count": 60,
      "outputs": []
    },
    {
      "cell_type": "code",
      "source": [
        "newdf = pd.concat([df3,labels], axis=1)"
      ],
      "metadata": {
        "id": "_4PbWxUpUbx-"
      },
      "execution_count": 61,
      "outputs": []
    },
    {
      "cell_type": "code",
      "source": [
        "rnewdf = newdf.rename(index=str, columns={\"0\": \"label\"})"
      ],
      "metadata": {
        "id": "BxiI6yOaUdag"
      },
      "execution_count": 62,
      "outputs": []
    },
    {
      "cell_type": "code",
      "source": [
        "rnewdf[:5]"
      ],
      "metadata": {
        "colab": {
          "base_uri": "https://localhost:8080/",
          "height": 299
        },
        "id": "hxgI7aCBUe3i",
        "outputId": "9793caaf-887b-4cdc-e8f0-98565b889c31"
      },
      "execution_count": 63,
      "outputs": [
        {
          "output_type": "execute_result",
          "data": {
            "text/plain": [
              "         0          1          2          3          4          5    \\\n",
              "0 -45.032272 -46.783333 -47.775944 -45.638657 -45.101887 -48.043533   \n",
              "1 -60.369228 -60.083897 -60.978966 -60.952496 -60.982536 -60.983990   \n",
              "2 -68.049400 -68.049400 -68.049400 -68.049400 -68.049400 -68.049400   \n",
              "3 -55.507534 -55.729652 -55.716839 -55.835930 -55.932114 -55.932114   \n",
              "4 -42.104820 -42.230606 -44.168678 -43.173862 -43.591530 -42.570889   \n",
              "\n",
              "         6          7          8          9    ...        207        208  \\\n",
              "0 -48.737442 -48.717079 -49.199280 -49.100506  ... -56.839233 -54.096859   \n",
              "1 -60.981300 -60.981300 -60.981300 -60.249794  ... -49.848812 -49.633385   \n",
              "2 -68.049400 -68.049400 -68.049400 -68.049400  ... -68.049400 -68.049400   \n",
              "3 -55.932114 -55.932114 -55.932114 -55.932114  ... -42.141296 -42.019539   \n",
              "4 -43.202145 -43.710678 -43.444180 -43.015846  ... -22.873741 -20.374416   \n",
              "\n",
              "         209        210        211        212        213        214  \\\n",
              "0 -53.427769 -59.046432 -57.350243 -58.454796 -59.379673 -60.010906   \n",
              "1 -55.103004 -55.482151 -52.952621 -51.402016 -54.073372 -52.639961   \n",
              "2 -68.049400 -68.049400 -68.049400 -68.049400 -68.049400 -68.049400   \n",
              "3 -41.471268 -42.716209 -45.725437 -47.005997 -48.263088 -51.830585   \n",
              "4 -17.856462 -16.366428 -14.621313 -18.455233 -21.158497 -10.561415   \n",
              "\n",
              "         215           0    \n",
              "0 -60.010906  male_fearful  \n",
              "1 -52.664593    male_happy  \n",
              "2 -68.049400      male_sad  \n",
              "3 -52.758736    male_angry  \n",
              "4  -3.888040    male_angry  \n",
              "\n",
              "[5 rows x 217 columns]"
            ],
            "text/html": [
              "\n",
              "  <div id=\"df-24b72226-8a3b-43ee-81fc-ffc1111dc02e\">\n",
              "    <div class=\"colab-df-container\">\n",
              "      <div>\n",
              "<style scoped>\n",
              "    .dataframe tbody tr th:only-of-type {\n",
              "        vertical-align: middle;\n",
              "    }\n",
              "\n",
              "    .dataframe tbody tr th {\n",
              "        vertical-align: top;\n",
              "    }\n",
              "\n",
              "    .dataframe thead th {\n",
              "        text-align: right;\n",
              "    }\n",
              "</style>\n",
              "<table border=\"1\" class=\"dataframe\">\n",
              "  <thead>\n",
              "    <tr style=\"text-align: right;\">\n",
              "      <th></th>\n",
              "      <th>0</th>\n",
              "      <th>1</th>\n",
              "      <th>2</th>\n",
              "      <th>3</th>\n",
              "      <th>4</th>\n",
              "      <th>5</th>\n",
              "      <th>6</th>\n",
              "      <th>7</th>\n",
              "      <th>8</th>\n",
              "      <th>9</th>\n",
              "      <th>...</th>\n",
              "      <th>207</th>\n",
              "      <th>208</th>\n",
              "      <th>209</th>\n",
              "      <th>210</th>\n",
              "      <th>211</th>\n",
              "      <th>212</th>\n",
              "      <th>213</th>\n",
              "      <th>214</th>\n",
              "      <th>215</th>\n",
              "      <th>0</th>\n",
              "    </tr>\n",
              "  </thead>\n",
              "  <tbody>\n",
              "    <tr>\n",
              "      <th>0</th>\n",
              "      <td>-45.032272</td>\n",
              "      <td>-46.783333</td>\n",
              "      <td>-47.775944</td>\n",
              "      <td>-45.638657</td>\n",
              "      <td>-45.101887</td>\n",
              "      <td>-48.043533</td>\n",
              "      <td>-48.737442</td>\n",
              "      <td>-48.717079</td>\n",
              "      <td>-49.199280</td>\n",
              "      <td>-49.100506</td>\n",
              "      <td>...</td>\n",
              "      <td>-56.839233</td>\n",
              "      <td>-54.096859</td>\n",
              "      <td>-53.427769</td>\n",
              "      <td>-59.046432</td>\n",
              "      <td>-57.350243</td>\n",
              "      <td>-58.454796</td>\n",
              "      <td>-59.379673</td>\n",
              "      <td>-60.010906</td>\n",
              "      <td>-60.010906</td>\n",
              "      <td>male_fearful</td>\n",
              "    </tr>\n",
              "    <tr>\n",
              "      <th>1</th>\n",
              "      <td>-60.369228</td>\n",
              "      <td>-60.083897</td>\n",
              "      <td>-60.978966</td>\n",
              "      <td>-60.952496</td>\n",
              "      <td>-60.982536</td>\n",
              "      <td>-60.983990</td>\n",
              "      <td>-60.981300</td>\n",
              "      <td>-60.981300</td>\n",
              "      <td>-60.981300</td>\n",
              "      <td>-60.249794</td>\n",
              "      <td>...</td>\n",
              "      <td>-49.848812</td>\n",
              "      <td>-49.633385</td>\n",
              "      <td>-55.103004</td>\n",
              "      <td>-55.482151</td>\n",
              "      <td>-52.952621</td>\n",
              "      <td>-51.402016</td>\n",
              "      <td>-54.073372</td>\n",
              "      <td>-52.639961</td>\n",
              "      <td>-52.664593</td>\n",
              "      <td>male_happy</td>\n",
              "    </tr>\n",
              "    <tr>\n",
              "      <th>2</th>\n",
              "      <td>-68.049400</td>\n",
              "      <td>-68.049400</td>\n",
              "      <td>-68.049400</td>\n",
              "      <td>-68.049400</td>\n",
              "      <td>-68.049400</td>\n",
              "      <td>-68.049400</td>\n",
              "      <td>-68.049400</td>\n",
              "      <td>-68.049400</td>\n",
              "      <td>-68.049400</td>\n",
              "      <td>-68.049400</td>\n",
              "      <td>...</td>\n",
              "      <td>-68.049400</td>\n",
              "      <td>-68.049400</td>\n",
              "      <td>-68.049400</td>\n",
              "      <td>-68.049400</td>\n",
              "      <td>-68.049400</td>\n",
              "      <td>-68.049400</td>\n",
              "      <td>-68.049400</td>\n",
              "      <td>-68.049400</td>\n",
              "      <td>-68.049400</td>\n",
              "      <td>male_sad</td>\n",
              "    </tr>\n",
              "    <tr>\n",
              "      <th>3</th>\n",
              "      <td>-55.507534</td>\n",
              "      <td>-55.729652</td>\n",
              "      <td>-55.716839</td>\n",
              "      <td>-55.835930</td>\n",
              "      <td>-55.932114</td>\n",
              "      <td>-55.932114</td>\n",
              "      <td>-55.932114</td>\n",
              "      <td>-55.932114</td>\n",
              "      <td>-55.932114</td>\n",
              "      <td>-55.932114</td>\n",
              "      <td>...</td>\n",
              "      <td>-42.141296</td>\n",
              "      <td>-42.019539</td>\n",
              "      <td>-41.471268</td>\n",
              "      <td>-42.716209</td>\n",
              "      <td>-45.725437</td>\n",
              "      <td>-47.005997</td>\n",
              "      <td>-48.263088</td>\n",
              "      <td>-51.830585</td>\n",
              "      <td>-52.758736</td>\n",
              "      <td>male_angry</td>\n",
              "    </tr>\n",
              "    <tr>\n",
              "      <th>4</th>\n",
              "      <td>-42.104820</td>\n",
              "      <td>-42.230606</td>\n",
              "      <td>-44.168678</td>\n",
              "      <td>-43.173862</td>\n",
              "      <td>-43.591530</td>\n",
              "      <td>-42.570889</td>\n",
              "      <td>-43.202145</td>\n",
              "      <td>-43.710678</td>\n",
              "      <td>-43.444180</td>\n",
              "      <td>-43.015846</td>\n",
              "      <td>...</td>\n",
              "      <td>-22.873741</td>\n",
              "      <td>-20.374416</td>\n",
              "      <td>-17.856462</td>\n",
              "      <td>-16.366428</td>\n",
              "      <td>-14.621313</td>\n",
              "      <td>-18.455233</td>\n",
              "      <td>-21.158497</td>\n",
              "      <td>-10.561415</td>\n",
              "      <td>-3.888040</td>\n",
              "      <td>male_angry</td>\n",
              "    </tr>\n",
              "  </tbody>\n",
              "</table>\n",
              "<p>5 rows × 217 columns</p>\n",
              "</div>\n",
              "      <button class=\"colab-df-convert\" onclick=\"convertToInteractive('df-24b72226-8a3b-43ee-81fc-ffc1111dc02e')\"\n",
              "              title=\"Convert this dataframe to an interactive table.\"\n",
              "              style=\"display:none;\">\n",
              "        \n",
              "  <svg xmlns=\"http://www.w3.org/2000/svg\" height=\"24px\"viewBox=\"0 0 24 24\"\n",
              "       width=\"24px\">\n",
              "    <path d=\"M0 0h24v24H0V0z\" fill=\"none\"/>\n",
              "    <path d=\"M18.56 5.44l.94 2.06.94-2.06 2.06-.94-2.06-.94-.94-2.06-.94 2.06-2.06.94zm-11 1L8.5 8.5l.94-2.06 2.06-.94-2.06-.94L8.5 2.5l-.94 2.06-2.06.94zm10 10l.94 2.06.94-2.06 2.06-.94-2.06-.94-.94-2.06-.94 2.06-2.06.94z\"/><path d=\"M17.41 7.96l-1.37-1.37c-.4-.4-.92-.59-1.43-.59-.52 0-1.04.2-1.43.59L10.3 9.45l-7.72 7.72c-.78.78-.78 2.05 0 2.83L4 21.41c.39.39.9.59 1.41.59.51 0 1.02-.2 1.41-.59l7.78-7.78 2.81-2.81c.8-.78.8-2.07 0-2.86zM5.41 20L4 18.59l7.72-7.72 1.47 1.35L5.41 20z\"/>\n",
              "  </svg>\n",
              "      </button>\n",
              "      \n",
              "  <style>\n",
              "    .colab-df-container {\n",
              "      display:flex;\n",
              "      flex-wrap:wrap;\n",
              "      gap: 12px;\n",
              "    }\n",
              "\n",
              "    .colab-df-convert {\n",
              "      background-color: #E8F0FE;\n",
              "      border: none;\n",
              "      border-radius: 50%;\n",
              "      cursor: pointer;\n",
              "      display: none;\n",
              "      fill: #1967D2;\n",
              "      height: 32px;\n",
              "      padding: 0 0 0 0;\n",
              "      width: 32px;\n",
              "    }\n",
              "\n",
              "    .colab-df-convert:hover {\n",
              "      background-color: #E2EBFA;\n",
              "      box-shadow: 0px 1px 2px rgba(60, 64, 67, 0.3), 0px 1px 3px 1px rgba(60, 64, 67, 0.15);\n",
              "      fill: #174EA6;\n",
              "    }\n",
              "\n",
              "    [theme=dark] .colab-df-convert {\n",
              "      background-color: #3B4455;\n",
              "      fill: #D2E3FC;\n",
              "    }\n",
              "\n",
              "    [theme=dark] .colab-df-convert:hover {\n",
              "      background-color: #434B5C;\n",
              "      box-shadow: 0px 1px 3px 1px rgba(0, 0, 0, 0.15);\n",
              "      filter: drop-shadow(0px 1px 2px rgba(0, 0, 0, 0.3));\n",
              "      fill: #FFFFFF;\n",
              "    }\n",
              "  </style>\n",
              "\n",
              "      <script>\n",
              "        const buttonEl =\n",
              "          document.querySelector('#df-24b72226-8a3b-43ee-81fc-ffc1111dc02e button.colab-df-convert');\n",
              "        buttonEl.style.display =\n",
              "          google.colab.kernel.accessAllowed ? 'block' : 'none';\n",
              "\n",
              "        async function convertToInteractive(key) {\n",
              "          const element = document.querySelector('#df-24b72226-8a3b-43ee-81fc-ffc1111dc02e');\n",
              "          const dataTable =\n",
              "            await google.colab.kernel.invokeFunction('convertToInteractive',\n",
              "                                                     [key], {});\n",
              "          if (!dataTable) return;\n",
              "\n",
              "          const docLinkHtml = 'Like what you see? Visit the ' +\n",
              "            '<a target=\"_blank\" href=https://colab.research.google.com/notebooks/data_table.ipynb>data table notebook</a>'\n",
              "            + ' to learn more about interactive tables.';\n",
              "          element.innerHTML = '';\n",
              "          dataTable['output_type'] = 'display_data';\n",
              "          await google.colab.output.renderOutput(dataTable, element);\n",
              "          const docLink = document.createElement('div');\n",
              "          docLink.innerHTML = docLinkHtml;\n",
              "          element.appendChild(docLink);\n",
              "        }\n",
              "      </script>\n",
              "    </div>\n",
              "  </div>\n",
              "  "
            ]
          },
          "metadata": {},
          "execution_count": 63
        }
      ]
    },
    {
      "cell_type": "code",
      "source": [
        "from sklearn.utils import shuffle\n",
        "rnewdf = shuffle(newdf)\n",
        "rnewdf[:10]"
      ],
      "metadata": {
        "colab": {
          "base_uri": "https://localhost:8080/",
          "height": 456
        },
        "id": "OYPvjXSOUg9H",
        "outputId": "ab7e75f8-faba-4cb8-d94f-6cbebf06d36f"
      },
      "execution_count": 64,
      "outputs": [
        {
          "output_type": "execute_result",
          "data": {
            "text/plain": [
              "          0          1          2          3          4          5    \\\n",
              "23 -59.449753 -60.976311 -62.336704 -62.336704 -62.336704 -61.445114   \n",
              "34 -69.051476 -69.051476 -69.051476 -69.051476 -69.051476 -68.755074   \n",
              "39 -37.498199 -40.120876 -41.299171 -42.205261 -42.010677 -42.346931   \n",
              "0  -45.032272 -46.783333 -47.775944 -45.638657 -45.101887 -48.043533   \n",
              "36 -43.197578 -44.238483 -43.996147 -44.132103 -44.267784 -44.346001   \n",
              "17 -55.663250 -56.170654 -56.158165 -54.663876 -55.167160 -56.157265   \n",
              "33 -42.992100 -42.992100 -42.846359 -42.268284 -40.690666 -40.163750   \n",
              "14 -62.104954 -62.104954 -62.104954 -62.038120 -62.104954 -62.104954   \n",
              "7  -67.557671 -67.557671 -67.557671 -67.557671 -67.557671 -67.557671   \n",
              "5  -49.198429 -48.963985 -49.051529 -49.020500 -49.043743 -49.089008   \n",
              "\n",
              "          6          7          8          9    ...        207        208  \\\n",
              "23 -62.336704 -62.336704 -62.336483 -62.336704  ... -61.328335 -61.667904   \n",
              "34 -69.051476 -69.051476 -69.051476 -68.359322  ... -57.682072 -56.301693   \n",
              "39 -41.992271 -40.100216 -38.743668 -38.762974  ... -23.336887 -23.642170   \n",
              "0  -48.737442 -48.717079 -49.199280 -49.100506  ... -56.839233 -54.096859   \n",
              "36 -44.142799 -44.255032 -43.666386 -43.591404  ... -33.477657 -33.367554   \n",
              "17 -56.157265 -56.157265 -56.157265 -56.157265  ... -56.157265 -56.157265   \n",
              "33 -40.072525 -42.604244 -41.733459 -41.411289  ... -28.351170 -25.096415   \n",
              "14 -62.104954 -62.104954 -62.104954 -62.104954  ... -60.358253 -61.090824   \n",
              "7  -65.240265 -65.536674 -67.557671 -67.557671  ... -57.271206 -56.744106   \n",
              "5  -47.905560 -47.956844 -48.153133 -48.783493  ... -19.783306 -19.593184   \n",
              "\n",
              "          209        210        211        212        213        214  \\\n",
              "23 -59.325424 -60.375389 -61.390007 -62.336704 -62.319641 -59.313339   \n",
              "34 -58.650566 -63.881496 -63.749794 -65.222809 -65.308594 -67.008865   \n",
              "39 -24.690920 -27.676052 -29.822895 -30.354042 -30.983870 -29.850712   \n",
              "0  -53.427769 -59.046432 -57.350243 -58.454796 -59.379673 -60.010906   \n",
              "36 -32.960381 -31.951490 -31.074728 -31.176338 -30.759197 -19.878183   \n",
              "17 -56.157265 -55.844578 -56.157265 -56.157265 -56.157265 -56.157265   \n",
              "33 -22.967365 -23.114470 -23.476543 -21.693007 -22.077486 -18.636705   \n",
              "14 -62.026714 -61.804924 -61.251534 -59.135971 -61.460106 -62.104954   \n",
              "7  -56.141361 -57.532471 -59.493530 -67.150169 -67.499031 -66.086861   \n",
              "5  -19.809538 -21.997786 -21.924906 -23.150219 -23.046072 -20.907570   \n",
              "\n",
              "          215           0    \n",
              "23 -60.265671  male_fearful  \n",
              "34 -68.636490     male_calm  \n",
              "39 -29.778206  male_fearful  \n",
              "0  -60.010906  male_fearful  \n",
              "36 -12.398180  male_fearful  \n",
              "17 -56.157265    male_angry  \n",
              "33 -16.158962    male_angry  \n",
              "14 -62.104954      male_sad  \n",
              "7  -66.205429     male_calm  \n",
              "5  -19.264782    male_angry  \n",
              "\n",
              "[10 rows x 217 columns]"
            ],
            "text/html": [
              "\n",
              "  <div id=\"df-8437ce4f-ba72-4ab2-9012-bf28fd611eb2\">\n",
              "    <div class=\"colab-df-container\">\n",
              "      <div>\n",
              "<style scoped>\n",
              "    .dataframe tbody tr th:only-of-type {\n",
              "        vertical-align: middle;\n",
              "    }\n",
              "\n",
              "    .dataframe tbody tr th {\n",
              "        vertical-align: top;\n",
              "    }\n",
              "\n",
              "    .dataframe thead th {\n",
              "        text-align: right;\n",
              "    }\n",
              "</style>\n",
              "<table border=\"1\" class=\"dataframe\">\n",
              "  <thead>\n",
              "    <tr style=\"text-align: right;\">\n",
              "      <th></th>\n",
              "      <th>0</th>\n",
              "      <th>1</th>\n",
              "      <th>2</th>\n",
              "      <th>3</th>\n",
              "      <th>4</th>\n",
              "      <th>5</th>\n",
              "      <th>6</th>\n",
              "      <th>7</th>\n",
              "      <th>8</th>\n",
              "      <th>9</th>\n",
              "      <th>...</th>\n",
              "      <th>207</th>\n",
              "      <th>208</th>\n",
              "      <th>209</th>\n",
              "      <th>210</th>\n",
              "      <th>211</th>\n",
              "      <th>212</th>\n",
              "      <th>213</th>\n",
              "      <th>214</th>\n",
              "      <th>215</th>\n",
              "      <th>0</th>\n",
              "    </tr>\n",
              "  </thead>\n",
              "  <tbody>\n",
              "    <tr>\n",
              "      <th>23</th>\n",
              "      <td>-59.449753</td>\n",
              "      <td>-60.976311</td>\n",
              "      <td>-62.336704</td>\n",
              "      <td>-62.336704</td>\n",
              "      <td>-62.336704</td>\n",
              "      <td>-61.445114</td>\n",
              "      <td>-62.336704</td>\n",
              "      <td>-62.336704</td>\n",
              "      <td>-62.336483</td>\n",
              "      <td>-62.336704</td>\n",
              "      <td>...</td>\n",
              "      <td>-61.328335</td>\n",
              "      <td>-61.667904</td>\n",
              "      <td>-59.325424</td>\n",
              "      <td>-60.375389</td>\n",
              "      <td>-61.390007</td>\n",
              "      <td>-62.336704</td>\n",
              "      <td>-62.319641</td>\n",
              "      <td>-59.313339</td>\n",
              "      <td>-60.265671</td>\n",
              "      <td>male_fearful</td>\n",
              "    </tr>\n",
              "    <tr>\n",
              "      <th>34</th>\n",
              "      <td>-69.051476</td>\n",
              "      <td>-69.051476</td>\n",
              "      <td>-69.051476</td>\n",
              "      <td>-69.051476</td>\n",
              "      <td>-69.051476</td>\n",
              "      <td>-68.755074</td>\n",
              "      <td>-69.051476</td>\n",
              "      <td>-69.051476</td>\n",
              "      <td>-69.051476</td>\n",
              "      <td>-68.359322</td>\n",
              "      <td>...</td>\n",
              "      <td>-57.682072</td>\n",
              "      <td>-56.301693</td>\n",
              "      <td>-58.650566</td>\n",
              "      <td>-63.881496</td>\n",
              "      <td>-63.749794</td>\n",
              "      <td>-65.222809</td>\n",
              "      <td>-65.308594</td>\n",
              "      <td>-67.008865</td>\n",
              "      <td>-68.636490</td>\n",
              "      <td>male_calm</td>\n",
              "    </tr>\n",
              "    <tr>\n",
              "      <th>39</th>\n",
              "      <td>-37.498199</td>\n",
              "      <td>-40.120876</td>\n",
              "      <td>-41.299171</td>\n",
              "      <td>-42.205261</td>\n",
              "      <td>-42.010677</td>\n",
              "      <td>-42.346931</td>\n",
              "      <td>-41.992271</td>\n",
              "      <td>-40.100216</td>\n",
              "      <td>-38.743668</td>\n",
              "      <td>-38.762974</td>\n",
              "      <td>...</td>\n",
              "      <td>-23.336887</td>\n",
              "      <td>-23.642170</td>\n",
              "      <td>-24.690920</td>\n",
              "      <td>-27.676052</td>\n",
              "      <td>-29.822895</td>\n",
              "      <td>-30.354042</td>\n",
              "      <td>-30.983870</td>\n",
              "      <td>-29.850712</td>\n",
              "      <td>-29.778206</td>\n",
              "      <td>male_fearful</td>\n",
              "    </tr>\n",
              "    <tr>\n",
              "      <th>0</th>\n",
              "      <td>-45.032272</td>\n",
              "      <td>-46.783333</td>\n",
              "      <td>-47.775944</td>\n",
              "      <td>-45.638657</td>\n",
              "      <td>-45.101887</td>\n",
              "      <td>-48.043533</td>\n",
              "      <td>-48.737442</td>\n",
              "      <td>-48.717079</td>\n",
              "      <td>-49.199280</td>\n",
              "      <td>-49.100506</td>\n",
              "      <td>...</td>\n",
              "      <td>-56.839233</td>\n",
              "      <td>-54.096859</td>\n",
              "      <td>-53.427769</td>\n",
              "      <td>-59.046432</td>\n",
              "      <td>-57.350243</td>\n",
              "      <td>-58.454796</td>\n",
              "      <td>-59.379673</td>\n",
              "      <td>-60.010906</td>\n",
              "      <td>-60.010906</td>\n",
              "      <td>male_fearful</td>\n",
              "    </tr>\n",
              "    <tr>\n",
              "      <th>36</th>\n",
              "      <td>-43.197578</td>\n",
              "      <td>-44.238483</td>\n",
              "      <td>-43.996147</td>\n",
              "      <td>-44.132103</td>\n",
              "      <td>-44.267784</td>\n",
              "      <td>-44.346001</td>\n",
              "      <td>-44.142799</td>\n",
              "      <td>-44.255032</td>\n",
              "      <td>-43.666386</td>\n",
              "      <td>-43.591404</td>\n",
              "      <td>...</td>\n",
              "      <td>-33.477657</td>\n",
              "      <td>-33.367554</td>\n",
              "      <td>-32.960381</td>\n",
              "      <td>-31.951490</td>\n",
              "      <td>-31.074728</td>\n",
              "      <td>-31.176338</td>\n",
              "      <td>-30.759197</td>\n",
              "      <td>-19.878183</td>\n",
              "      <td>-12.398180</td>\n",
              "      <td>male_fearful</td>\n",
              "    </tr>\n",
              "    <tr>\n",
              "      <th>17</th>\n",
              "      <td>-55.663250</td>\n",
              "      <td>-56.170654</td>\n",
              "      <td>-56.158165</td>\n",
              "      <td>-54.663876</td>\n",
              "      <td>-55.167160</td>\n",
              "      <td>-56.157265</td>\n",
              "      <td>-56.157265</td>\n",
              "      <td>-56.157265</td>\n",
              "      <td>-56.157265</td>\n",
              "      <td>-56.157265</td>\n",
              "      <td>...</td>\n",
              "      <td>-56.157265</td>\n",
              "      <td>-56.157265</td>\n",
              "      <td>-56.157265</td>\n",
              "      <td>-55.844578</td>\n",
              "      <td>-56.157265</td>\n",
              "      <td>-56.157265</td>\n",
              "      <td>-56.157265</td>\n",
              "      <td>-56.157265</td>\n",
              "      <td>-56.157265</td>\n",
              "      <td>male_angry</td>\n",
              "    </tr>\n",
              "    <tr>\n",
              "      <th>33</th>\n",
              "      <td>-42.992100</td>\n",
              "      <td>-42.992100</td>\n",
              "      <td>-42.846359</td>\n",
              "      <td>-42.268284</td>\n",
              "      <td>-40.690666</td>\n",
              "      <td>-40.163750</td>\n",
              "      <td>-40.072525</td>\n",
              "      <td>-42.604244</td>\n",
              "      <td>-41.733459</td>\n",
              "      <td>-41.411289</td>\n",
              "      <td>...</td>\n",
              "      <td>-28.351170</td>\n",
              "      <td>-25.096415</td>\n",
              "      <td>-22.967365</td>\n",
              "      <td>-23.114470</td>\n",
              "      <td>-23.476543</td>\n",
              "      <td>-21.693007</td>\n",
              "      <td>-22.077486</td>\n",
              "      <td>-18.636705</td>\n",
              "      <td>-16.158962</td>\n",
              "      <td>male_angry</td>\n",
              "    </tr>\n",
              "    <tr>\n",
              "      <th>14</th>\n",
              "      <td>-62.104954</td>\n",
              "      <td>-62.104954</td>\n",
              "      <td>-62.104954</td>\n",
              "      <td>-62.038120</td>\n",
              "      <td>-62.104954</td>\n",
              "      <td>-62.104954</td>\n",
              "      <td>-62.104954</td>\n",
              "      <td>-62.104954</td>\n",
              "      <td>-62.104954</td>\n",
              "      <td>-62.104954</td>\n",
              "      <td>...</td>\n",
              "      <td>-60.358253</td>\n",
              "      <td>-61.090824</td>\n",
              "      <td>-62.026714</td>\n",
              "      <td>-61.804924</td>\n",
              "      <td>-61.251534</td>\n",
              "      <td>-59.135971</td>\n",
              "      <td>-61.460106</td>\n",
              "      <td>-62.104954</td>\n",
              "      <td>-62.104954</td>\n",
              "      <td>male_sad</td>\n",
              "    </tr>\n",
              "    <tr>\n",
              "      <th>7</th>\n",
              "      <td>-67.557671</td>\n",
              "      <td>-67.557671</td>\n",
              "      <td>-67.557671</td>\n",
              "      <td>-67.557671</td>\n",
              "      <td>-67.557671</td>\n",
              "      <td>-67.557671</td>\n",
              "      <td>-65.240265</td>\n",
              "      <td>-65.536674</td>\n",
              "      <td>-67.557671</td>\n",
              "      <td>-67.557671</td>\n",
              "      <td>...</td>\n",
              "      <td>-57.271206</td>\n",
              "      <td>-56.744106</td>\n",
              "      <td>-56.141361</td>\n",
              "      <td>-57.532471</td>\n",
              "      <td>-59.493530</td>\n",
              "      <td>-67.150169</td>\n",
              "      <td>-67.499031</td>\n",
              "      <td>-66.086861</td>\n",
              "      <td>-66.205429</td>\n",
              "      <td>male_calm</td>\n",
              "    </tr>\n",
              "    <tr>\n",
              "      <th>5</th>\n",
              "      <td>-49.198429</td>\n",
              "      <td>-48.963985</td>\n",
              "      <td>-49.051529</td>\n",
              "      <td>-49.020500</td>\n",
              "      <td>-49.043743</td>\n",
              "      <td>-49.089008</td>\n",
              "      <td>-47.905560</td>\n",
              "      <td>-47.956844</td>\n",
              "      <td>-48.153133</td>\n",
              "      <td>-48.783493</td>\n",
              "      <td>...</td>\n",
              "      <td>-19.783306</td>\n",
              "      <td>-19.593184</td>\n",
              "      <td>-19.809538</td>\n",
              "      <td>-21.997786</td>\n",
              "      <td>-21.924906</td>\n",
              "      <td>-23.150219</td>\n",
              "      <td>-23.046072</td>\n",
              "      <td>-20.907570</td>\n",
              "      <td>-19.264782</td>\n",
              "      <td>male_angry</td>\n",
              "    </tr>\n",
              "  </tbody>\n",
              "</table>\n",
              "<p>10 rows × 217 columns</p>\n",
              "</div>\n",
              "      <button class=\"colab-df-convert\" onclick=\"convertToInteractive('df-8437ce4f-ba72-4ab2-9012-bf28fd611eb2')\"\n",
              "              title=\"Convert this dataframe to an interactive table.\"\n",
              "              style=\"display:none;\">\n",
              "        \n",
              "  <svg xmlns=\"http://www.w3.org/2000/svg\" height=\"24px\"viewBox=\"0 0 24 24\"\n",
              "       width=\"24px\">\n",
              "    <path d=\"M0 0h24v24H0V0z\" fill=\"none\"/>\n",
              "    <path d=\"M18.56 5.44l.94 2.06.94-2.06 2.06-.94-2.06-.94-.94-2.06-.94 2.06-2.06.94zm-11 1L8.5 8.5l.94-2.06 2.06-.94-2.06-.94L8.5 2.5l-.94 2.06-2.06.94zm10 10l.94 2.06.94-2.06 2.06-.94-2.06-.94-.94-2.06-.94 2.06-2.06.94z\"/><path d=\"M17.41 7.96l-1.37-1.37c-.4-.4-.92-.59-1.43-.59-.52 0-1.04.2-1.43.59L10.3 9.45l-7.72 7.72c-.78.78-.78 2.05 0 2.83L4 21.41c.39.39.9.59 1.41.59.51 0 1.02-.2 1.41-.59l7.78-7.78 2.81-2.81c.8-.78.8-2.07 0-2.86zM5.41 20L4 18.59l7.72-7.72 1.47 1.35L5.41 20z\"/>\n",
              "  </svg>\n",
              "      </button>\n",
              "      \n",
              "  <style>\n",
              "    .colab-df-container {\n",
              "      display:flex;\n",
              "      flex-wrap:wrap;\n",
              "      gap: 12px;\n",
              "    }\n",
              "\n",
              "    .colab-df-convert {\n",
              "      background-color: #E8F0FE;\n",
              "      border: none;\n",
              "      border-radius: 50%;\n",
              "      cursor: pointer;\n",
              "      display: none;\n",
              "      fill: #1967D2;\n",
              "      height: 32px;\n",
              "      padding: 0 0 0 0;\n",
              "      width: 32px;\n",
              "    }\n",
              "\n",
              "    .colab-df-convert:hover {\n",
              "      background-color: #E2EBFA;\n",
              "      box-shadow: 0px 1px 2px rgba(60, 64, 67, 0.3), 0px 1px 3px 1px rgba(60, 64, 67, 0.15);\n",
              "      fill: #174EA6;\n",
              "    }\n",
              "\n",
              "    [theme=dark] .colab-df-convert {\n",
              "      background-color: #3B4455;\n",
              "      fill: #D2E3FC;\n",
              "    }\n",
              "\n",
              "    [theme=dark] .colab-df-convert:hover {\n",
              "      background-color: #434B5C;\n",
              "      box-shadow: 0px 1px 3px 1px rgba(0, 0, 0, 0.15);\n",
              "      filter: drop-shadow(0px 1px 2px rgba(0, 0, 0, 0.3));\n",
              "      fill: #FFFFFF;\n",
              "    }\n",
              "  </style>\n",
              "\n",
              "      <script>\n",
              "        const buttonEl =\n",
              "          document.querySelector('#df-8437ce4f-ba72-4ab2-9012-bf28fd611eb2 button.colab-df-convert');\n",
              "        buttonEl.style.display =\n",
              "          google.colab.kernel.accessAllowed ? 'block' : 'none';\n",
              "\n",
              "        async function convertToInteractive(key) {\n",
              "          const element = document.querySelector('#df-8437ce4f-ba72-4ab2-9012-bf28fd611eb2');\n",
              "          const dataTable =\n",
              "            await google.colab.kernel.invokeFunction('convertToInteractive',\n",
              "                                                     [key], {});\n",
              "          if (!dataTable) return;\n",
              "\n",
              "          const docLinkHtml = 'Like what you see? Visit the ' +\n",
              "            '<a target=\"_blank\" href=https://colab.research.google.com/notebooks/data_table.ipynb>data table notebook</a>'\n",
              "            + ' to learn more about interactive tables.';\n",
              "          element.innerHTML = '';\n",
              "          dataTable['output_type'] = 'display_data';\n",
              "          await google.colab.output.renderOutput(dataTable, element);\n",
              "          const docLink = document.createElement('div');\n",
              "          docLink.innerHTML = docLinkHtml;\n",
              "          element.appendChild(docLink);\n",
              "        }\n",
              "      </script>\n",
              "    </div>\n",
              "  </div>\n",
              "  "
            ]
          },
          "metadata": {},
          "execution_count": 64
        }
      ]
    },
    {
      "cell_type": "code",
      "source": [
        "rnewdf=rnewdf.fillna(0)"
      ],
      "metadata": {
        "id": "EbGETToFUisV"
      },
      "execution_count": 65,
      "outputs": []
    },
    {
      "cell_type": "markdown",
      "source": [
        "**Dividing the data into test and train**"
      ],
      "metadata": {
        "id": "EnnrlEkLUnJQ"
      }
    },
    {
      "cell_type": "code",
      "source": [
        "newdf1 = np.random.rand(len(rnewdf)) < 0.8\n",
        "train = rnewdf[newdf1]\n",
        "test = rnewdf[~newdf1]"
      ],
      "metadata": {
        "id": "2xntDw4wUqvj"
      },
      "execution_count": 66,
      "outputs": []
    },
    {
      "cell_type": "code",
      "source": [
        "train.head(10)"
      ],
      "metadata": {
        "colab": {
          "base_uri": "https://localhost:8080/",
          "height": 456
        },
        "id": "Rk67CbTLWTNv",
        "outputId": "f3429a10-2c7f-4604-d384-164dff12a46d"
      },
      "execution_count": 67,
      "outputs": [
        {
          "output_type": "execute_result",
          "data": {
            "text/plain": [
              "          0          1          2          3          4          5    \\\n",
              "23 -59.449753 -60.976311 -62.336704 -62.336704 -62.336704 -61.445114   \n",
              "34 -69.051476 -69.051476 -69.051476 -69.051476 -69.051476 -68.755074   \n",
              "39 -37.498199 -40.120876 -41.299171 -42.205261 -42.010677 -42.346931   \n",
              "0  -45.032272 -46.783333 -47.775944 -45.638657 -45.101887 -48.043533   \n",
              "36 -43.197578 -44.238483 -43.996147 -44.132103 -44.267784 -44.346001   \n",
              "17 -55.663250 -56.170654 -56.158165 -54.663876 -55.167160 -56.157265   \n",
              "33 -42.992100 -42.992100 -42.846359 -42.268284 -40.690666 -40.163750   \n",
              "14 -62.104954 -62.104954 -62.104954 -62.038120 -62.104954 -62.104954   \n",
              "7  -67.557671 -67.557671 -67.557671 -67.557671 -67.557671 -67.557671   \n",
              "5  -49.198429 -48.963985 -49.051529 -49.020500 -49.043743 -49.089008   \n",
              "\n",
              "          6          7          8          9    ...        207        208  \\\n",
              "23 -62.336704 -62.336704 -62.336483 -62.336704  ... -61.328335 -61.667904   \n",
              "34 -69.051476 -69.051476 -69.051476 -68.359322  ... -57.682072 -56.301693   \n",
              "39 -41.992271 -40.100216 -38.743668 -38.762974  ... -23.336887 -23.642170   \n",
              "0  -48.737442 -48.717079 -49.199280 -49.100506  ... -56.839233 -54.096859   \n",
              "36 -44.142799 -44.255032 -43.666386 -43.591404  ... -33.477657 -33.367554   \n",
              "17 -56.157265 -56.157265 -56.157265 -56.157265  ... -56.157265 -56.157265   \n",
              "33 -40.072525 -42.604244 -41.733459 -41.411289  ... -28.351170 -25.096415   \n",
              "14 -62.104954 -62.104954 -62.104954 -62.104954  ... -60.358253 -61.090824   \n",
              "7  -65.240265 -65.536674 -67.557671 -67.557671  ... -57.271206 -56.744106   \n",
              "5  -47.905560 -47.956844 -48.153133 -48.783493  ... -19.783306 -19.593184   \n",
              "\n",
              "          209        210        211        212        213        214  \\\n",
              "23 -59.325424 -60.375389 -61.390007 -62.336704 -62.319641 -59.313339   \n",
              "34 -58.650566 -63.881496 -63.749794 -65.222809 -65.308594 -67.008865   \n",
              "39 -24.690920 -27.676052 -29.822895 -30.354042 -30.983870 -29.850712   \n",
              "0  -53.427769 -59.046432 -57.350243 -58.454796 -59.379673 -60.010906   \n",
              "36 -32.960381 -31.951490 -31.074728 -31.176338 -30.759197 -19.878183   \n",
              "17 -56.157265 -55.844578 -56.157265 -56.157265 -56.157265 -56.157265   \n",
              "33 -22.967365 -23.114470 -23.476543 -21.693007 -22.077486 -18.636705   \n",
              "14 -62.026714 -61.804924 -61.251534 -59.135971 -61.460106 -62.104954   \n",
              "7  -56.141361 -57.532471 -59.493530 -67.150169 -67.499031 -66.086861   \n",
              "5  -19.809538 -21.997786 -21.924906 -23.150219 -23.046072 -20.907570   \n",
              "\n",
              "          215           0    \n",
              "23 -60.265671  male_fearful  \n",
              "34 -68.636490     male_calm  \n",
              "39 -29.778206  male_fearful  \n",
              "0  -60.010906  male_fearful  \n",
              "36 -12.398180  male_fearful  \n",
              "17 -56.157265    male_angry  \n",
              "33 -16.158962    male_angry  \n",
              "14 -62.104954      male_sad  \n",
              "7  -66.205429     male_calm  \n",
              "5  -19.264782    male_angry  \n",
              "\n",
              "[10 rows x 217 columns]"
            ],
            "text/html": [
              "\n",
              "  <div id=\"df-a9e8e676-c94d-4f2c-b160-5d408cc3c51d\">\n",
              "    <div class=\"colab-df-container\">\n",
              "      <div>\n",
              "<style scoped>\n",
              "    .dataframe tbody tr th:only-of-type {\n",
              "        vertical-align: middle;\n",
              "    }\n",
              "\n",
              "    .dataframe tbody tr th {\n",
              "        vertical-align: top;\n",
              "    }\n",
              "\n",
              "    .dataframe thead th {\n",
              "        text-align: right;\n",
              "    }\n",
              "</style>\n",
              "<table border=\"1\" class=\"dataframe\">\n",
              "  <thead>\n",
              "    <tr style=\"text-align: right;\">\n",
              "      <th></th>\n",
              "      <th>0</th>\n",
              "      <th>1</th>\n",
              "      <th>2</th>\n",
              "      <th>3</th>\n",
              "      <th>4</th>\n",
              "      <th>5</th>\n",
              "      <th>6</th>\n",
              "      <th>7</th>\n",
              "      <th>8</th>\n",
              "      <th>9</th>\n",
              "      <th>...</th>\n",
              "      <th>207</th>\n",
              "      <th>208</th>\n",
              "      <th>209</th>\n",
              "      <th>210</th>\n",
              "      <th>211</th>\n",
              "      <th>212</th>\n",
              "      <th>213</th>\n",
              "      <th>214</th>\n",
              "      <th>215</th>\n",
              "      <th>0</th>\n",
              "    </tr>\n",
              "  </thead>\n",
              "  <tbody>\n",
              "    <tr>\n",
              "      <th>23</th>\n",
              "      <td>-59.449753</td>\n",
              "      <td>-60.976311</td>\n",
              "      <td>-62.336704</td>\n",
              "      <td>-62.336704</td>\n",
              "      <td>-62.336704</td>\n",
              "      <td>-61.445114</td>\n",
              "      <td>-62.336704</td>\n",
              "      <td>-62.336704</td>\n",
              "      <td>-62.336483</td>\n",
              "      <td>-62.336704</td>\n",
              "      <td>...</td>\n",
              "      <td>-61.328335</td>\n",
              "      <td>-61.667904</td>\n",
              "      <td>-59.325424</td>\n",
              "      <td>-60.375389</td>\n",
              "      <td>-61.390007</td>\n",
              "      <td>-62.336704</td>\n",
              "      <td>-62.319641</td>\n",
              "      <td>-59.313339</td>\n",
              "      <td>-60.265671</td>\n",
              "      <td>male_fearful</td>\n",
              "    </tr>\n",
              "    <tr>\n",
              "      <th>34</th>\n",
              "      <td>-69.051476</td>\n",
              "      <td>-69.051476</td>\n",
              "      <td>-69.051476</td>\n",
              "      <td>-69.051476</td>\n",
              "      <td>-69.051476</td>\n",
              "      <td>-68.755074</td>\n",
              "      <td>-69.051476</td>\n",
              "      <td>-69.051476</td>\n",
              "      <td>-69.051476</td>\n",
              "      <td>-68.359322</td>\n",
              "      <td>...</td>\n",
              "      <td>-57.682072</td>\n",
              "      <td>-56.301693</td>\n",
              "      <td>-58.650566</td>\n",
              "      <td>-63.881496</td>\n",
              "      <td>-63.749794</td>\n",
              "      <td>-65.222809</td>\n",
              "      <td>-65.308594</td>\n",
              "      <td>-67.008865</td>\n",
              "      <td>-68.636490</td>\n",
              "      <td>male_calm</td>\n",
              "    </tr>\n",
              "    <tr>\n",
              "      <th>39</th>\n",
              "      <td>-37.498199</td>\n",
              "      <td>-40.120876</td>\n",
              "      <td>-41.299171</td>\n",
              "      <td>-42.205261</td>\n",
              "      <td>-42.010677</td>\n",
              "      <td>-42.346931</td>\n",
              "      <td>-41.992271</td>\n",
              "      <td>-40.100216</td>\n",
              "      <td>-38.743668</td>\n",
              "      <td>-38.762974</td>\n",
              "      <td>...</td>\n",
              "      <td>-23.336887</td>\n",
              "      <td>-23.642170</td>\n",
              "      <td>-24.690920</td>\n",
              "      <td>-27.676052</td>\n",
              "      <td>-29.822895</td>\n",
              "      <td>-30.354042</td>\n",
              "      <td>-30.983870</td>\n",
              "      <td>-29.850712</td>\n",
              "      <td>-29.778206</td>\n",
              "      <td>male_fearful</td>\n",
              "    </tr>\n",
              "    <tr>\n",
              "      <th>0</th>\n",
              "      <td>-45.032272</td>\n",
              "      <td>-46.783333</td>\n",
              "      <td>-47.775944</td>\n",
              "      <td>-45.638657</td>\n",
              "      <td>-45.101887</td>\n",
              "      <td>-48.043533</td>\n",
              "      <td>-48.737442</td>\n",
              "      <td>-48.717079</td>\n",
              "      <td>-49.199280</td>\n",
              "      <td>-49.100506</td>\n",
              "      <td>...</td>\n",
              "      <td>-56.839233</td>\n",
              "      <td>-54.096859</td>\n",
              "      <td>-53.427769</td>\n",
              "      <td>-59.046432</td>\n",
              "      <td>-57.350243</td>\n",
              "      <td>-58.454796</td>\n",
              "      <td>-59.379673</td>\n",
              "      <td>-60.010906</td>\n",
              "      <td>-60.010906</td>\n",
              "      <td>male_fearful</td>\n",
              "    </tr>\n",
              "    <tr>\n",
              "      <th>36</th>\n",
              "      <td>-43.197578</td>\n",
              "      <td>-44.238483</td>\n",
              "      <td>-43.996147</td>\n",
              "      <td>-44.132103</td>\n",
              "      <td>-44.267784</td>\n",
              "      <td>-44.346001</td>\n",
              "      <td>-44.142799</td>\n",
              "      <td>-44.255032</td>\n",
              "      <td>-43.666386</td>\n",
              "      <td>-43.591404</td>\n",
              "      <td>...</td>\n",
              "      <td>-33.477657</td>\n",
              "      <td>-33.367554</td>\n",
              "      <td>-32.960381</td>\n",
              "      <td>-31.951490</td>\n",
              "      <td>-31.074728</td>\n",
              "      <td>-31.176338</td>\n",
              "      <td>-30.759197</td>\n",
              "      <td>-19.878183</td>\n",
              "      <td>-12.398180</td>\n",
              "      <td>male_fearful</td>\n",
              "    </tr>\n",
              "    <tr>\n",
              "      <th>17</th>\n",
              "      <td>-55.663250</td>\n",
              "      <td>-56.170654</td>\n",
              "      <td>-56.158165</td>\n",
              "      <td>-54.663876</td>\n",
              "      <td>-55.167160</td>\n",
              "      <td>-56.157265</td>\n",
              "      <td>-56.157265</td>\n",
              "      <td>-56.157265</td>\n",
              "      <td>-56.157265</td>\n",
              "      <td>-56.157265</td>\n",
              "      <td>...</td>\n",
              "      <td>-56.157265</td>\n",
              "      <td>-56.157265</td>\n",
              "      <td>-56.157265</td>\n",
              "      <td>-55.844578</td>\n",
              "      <td>-56.157265</td>\n",
              "      <td>-56.157265</td>\n",
              "      <td>-56.157265</td>\n",
              "      <td>-56.157265</td>\n",
              "      <td>-56.157265</td>\n",
              "      <td>male_angry</td>\n",
              "    </tr>\n",
              "    <tr>\n",
              "      <th>33</th>\n",
              "      <td>-42.992100</td>\n",
              "      <td>-42.992100</td>\n",
              "      <td>-42.846359</td>\n",
              "      <td>-42.268284</td>\n",
              "      <td>-40.690666</td>\n",
              "      <td>-40.163750</td>\n",
              "      <td>-40.072525</td>\n",
              "      <td>-42.604244</td>\n",
              "      <td>-41.733459</td>\n",
              "      <td>-41.411289</td>\n",
              "      <td>...</td>\n",
              "      <td>-28.351170</td>\n",
              "      <td>-25.096415</td>\n",
              "      <td>-22.967365</td>\n",
              "      <td>-23.114470</td>\n",
              "      <td>-23.476543</td>\n",
              "      <td>-21.693007</td>\n",
              "      <td>-22.077486</td>\n",
              "      <td>-18.636705</td>\n",
              "      <td>-16.158962</td>\n",
              "      <td>male_angry</td>\n",
              "    </tr>\n",
              "    <tr>\n",
              "      <th>14</th>\n",
              "      <td>-62.104954</td>\n",
              "      <td>-62.104954</td>\n",
              "      <td>-62.104954</td>\n",
              "      <td>-62.038120</td>\n",
              "      <td>-62.104954</td>\n",
              "      <td>-62.104954</td>\n",
              "      <td>-62.104954</td>\n",
              "      <td>-62.104954</td>\n",
              "      <td>-62.104954</td>\n",
              "      <td>-62.104954</td>\n",
              "      <td>...</td>\n",
              "      <td>-60.358253</td>\n",
              "      <td>-61.090824</td>\n",
              "      <td>-62.026714</td>\n",
              "      <td>-61.804924</td>\n",
              "      <td>-61.251534</td>\n",
              "      <td>-59.135971</td>\n",
              "      <td>-61.460106</td>\n",
              "      <td>-62.104954</td>\n",
              "      <td>-62.104954</td>\n",
              "      <td>male_sad</td>\n",
              "    </tr>\n",
              "    <tr>\n",
              "      <th>7</th>\n",
              "      <td>-67.557671</td>\n",
              "      <td>-67.557671</td>\n",
              "      <td>-67.557671</td>\n",
              "      <td>-67.557671</td>\n",
              "      <td>-67.557671</td>\n",
              "      <td>-67.557671</td>\n",
              "      <td>-65.240265</td>\n",
              "      <td>-65.536674</td>\n",
              "      <td>-67.557671</td>\n",
              "      <td>-67.557671</td>\n",
              "      <td>...</td>\n",
              "      <td>-57.271206</td>\n",
              "      <td>-56.744106</td>\n",
              "      <td>-56.141361</td>\n",
              "      <td>-57.532471</td>\n",
              "      <td>-59.493530</td>\n",
              "      <td>-67.150169</td>\n",
              "      <td>-67.499031</td>\n",
              "      <td>-66.086861</td>\n",
              "      <td>-66.205429</td>\n",
              "      <td>male_calm</td>\n",
              "    </tr>\n",
              "    <tr>\n",
              "      <th>5</th>\n",
              "      <td>-49.198429</td>\n",
              "      <td>-48.963985</td>\n",
              "      <td>-49.051529</td>\n",
              "      <td>-49.020500</td>\n",
              "      <td>-49.043743</td>\n",
              "      <td>-49.089008</td>\n",
              "      <td>-47.905560</td>\n",
              "      <td>-47.956844</td>\n",
              "      <td>-48.153133</td>\n",
              "      <td>-48.783493</td>\n",
              "      <td>...</td>\n",
              "      <td>-19.783306</td>\n",
              "      <td>-19.593184</td>\n",
              "      <td>-19.809538</td>\n",
              "      <td>-21.997786</td>\n",
              "      <td>-21.924906</td>\n",
              "      <td>-23.150219</td>\n",
              "      <td>-23.046072</td>\n",
              "      <td>-20.907570</td>\n",
              "      <td>-19.264782</td>\n",
              "      <td>male_angry</td>\n",
              "    </tr>\n",
              "  </tbody>\n",
              "</table>\n",
              "<p>10 rows × 217 columns</p>\n",
              "</div>\n",
              "      <button class=\"colab-df-convert\" onclick=\"convertToInteractive('df-a9e8e676-c94d-4f2c-b160-5d408cc3c51d')\"\n",
              "              title=\"Convert this dataframe to an interactive table.\"\n",
              "              style=\"display:none;\">\n",
              "        \n",
              "  <svg xmlns=\"http://www.w3.org/2000/svg\" height=\"24px\"viewBox=\"0 0 24 24\"\n",
              "       width=\"24px\">\n",
              "    <path d=\"M0 0h24v24H0V0z\" fill=\"none\"/>\n",
              "    <path d=\"M18.56 5.44l.94 2.06.94-2.06 2.06-.94-2.06-.94-.94-2.06-.94 2.06-2.06.94zm-11 1L8.5 8.5l.94-2.06 2.06-.94-2.06-.94L8.5 2.5l-.94 2.06-2.06.94zm10 10l.94 2.06.94-2.06 2.06-.94-2.06-.94-.94-2.06-.94 2.06-2.06.94z\"/><path d=\"M17.41 7.96l-1.37-1.37c-.4-.4-.92-.59-1.43-.59-.52 0-1.04.2-1.43.59L10.3 9.45l-7.72 7.72c-.78.78-.78 2.05 0 2.83L4 21.41c.39.39.9.59 1.41.59.51 0 1.02-.2 1.41-.59l7.78-7.78 2.81-2.81c.8-.78.8-2.07 0-2.86zM5.41 20L4 18.59l7.72-7.72 1.47 1.35L5.41 20z\"/>\n",
              "  </svg>\n",
              "      </button>\n",
              "      \n",
              "  <style>\n",
              "    .colab-df-container {\n",
              "      display:flex;\n",
              "      flex-wrap:wrap;\n",
              "      gap: 12px;\n",
              "    }\n",
              "\n",
              "    .colab-df-convert {\n",
              "      background-color: #E8F0FE;\n",
              "      border: none;\n",
              "      border-radius: 50%;\n",
              "      cursor: pointer;\n",
              "      display: none;\n",
              "      fill: #1967D2;\n",
              "      height: 32px;\n",
              "      padding: 0 0 0 0;\n",
              "      width: 32px;\n",
              "    }\n",
              "\n",
              "    .colab-df-convert:hover {\n",
              "      background-color: #E2EBFA;\n",
              "      box-shadow: 0px 1px 2px rgba(60, 64, 67, 0.3), 0px 1px 3px 1px rgba(60, 64, 67, 0.15);\n",
              "      fill: #174EA6;\n",
              "    }\n",
              "\n",
              "    [theme=dark] .colab-df-convert {\n",
              "      background-color: #3B4455;\n",
              "      fill: #D2E3FC;\n",
              "    }\n",
              "\n",
              "    [theme=dark] .colab-df-convert:hover {\n",
              "      background-color: #434B5C;\n",
              "      box-shadow: 0px 1px 3px 1px rgba(0, 0, 0, 0.15);\n",
              "      filter: drop-shadow(0px 1px 2px rgba(0, 0, 0, 0.3));\n",
              "      fill: #FFFFFF;\n",
              "    }\n",
              "  </style>\n",
              "\n",
              "      <script>\n",
              "        const buttonEl =\n",
              "          document.querySelector('#df-a9e8e676-c94d-4f2c-b160-5d408cc3c51d button.colab-df-convert');\n",
              "        buttonEl.style.display =\n",
              "          google.colab.kernel.accessAllowed ? 'block' : 'none';\n",
              "\n",
              "        async function convertToInteractive(key) {\n",
              "          const element = document.querySelector('#df-a9e8e676-c94d-4f2c-b160-5d408cc3c51d');\n",
              "          const dataTable =\n",
              "            await google.colab.kernel.invokeFunction('convertToInteractive',\n",
              "                                                     [key], {});\n",
              "          if (!dataTable) return;\n",
              "\n",
              "          const docLinkHtml = 'Like what you see? Visit the ' +\n",
              "            '<a target=\"_blank\" href=https://colab.research.google.com/notebooks/data_table.ipynb>data table notebook</a>'\n",
              "            + ' to learn more about interactive tables.';\n",
              "          element.innerHTML = '';\n",
              "          dataTable['output_type'] = 'display_data';\n",
              "          await google.colab.output.renderOutput(dataTable, element);\n",
              "          const docLink = document.createElement('div');\n",
              "          docLink.innerHTML = docLinkHtml;\n",
              "          element.appendChild(docLink);\n",
              "        }\n",
              "      </script>\n",
              "    </div>\n",
              "  </div>\n",
              "  "
            ]
          },
          "metadata": {},
          "execution_count": 67
        }
      ]
    },
    {
      "cell_type": "code",
      "source": [
        "test"
      ],
      "metadata": {
        "colab": {
          "base_uri": "https://localhost:8080/",
          "height": 299
        },
        "id": "PiG-zVwKbMq-",
        "outputId": "74f42dd5-f2be-46b7-9ae5-20f6c6be1f5d"
      },
      "execution_count": 68,
      "outputs": [
        {
          "output_type": "execute_result",
          "data": {
            "text/plain": [
              "          0          1          2          3          4          5    \\\n",
              "18 -63.523846 -63.523846 -63.523846 -63.523846 -63.523846 -63.377724   \n",
              "8  -55.624268 -55.624268 -55.570801 -53.939072 -52.901554 -54.381260   \n",
              "12 -65.427750 -65.427750 -65.262238 -65.427750 -65.427750 -65.427750   \n",
              "6  -40.796883 -40.789669 -40.808334 -40.876545 -40.619694 -40.420124   \n",
              "13 -61.087765 -61.579689 -61.581135 -61.288517 -61.081558 -60.592163   \n",
              "\n",
              "          6          7          8          9    ...        207        208  \\\n",
              "18 -61.596287 -63.160645 -63.523846 -63.523846  ... -39.848248 -40.466457   \n",
              "8  -54.381672 -55.479057 -55.612709 -55.889286  ... -31.432814 -33.775841   \n",
              "12 -65.028061 -65.404816 -65.427750 -58.999565  ... -60.775871 -64.037216   \n",
              "6  -40.692852 -40.931232 -40.967266 -40.788017  ... -21.875114 -24.762779   \n",
              "13 -59.902767 -59.478203 -60.251793 -61.044437  ... -53.662632 -53.637329   \n",
              "\n",
              "          209        210        211        212        213        214  \\\n",
              "18 -40.448551 -42.883549 -43.368042 -46.280754 -48.274254 -49.745644   \n",
              "8  -36.061859 -38.142685 -38.785854 -39.644894 -41.592964 -45.737263   \n",
              "12 -64.463974 -65.205452 -64.806198 -64.464417 -61.401047 -60.954880   \n",
              "6  -29.518728 -27.211124 -16.296978 -15.058404 -19.382408 -19.939528   \n",
              "13 -55.863945 -56.614754 -56.009781 -54.971310 -54.318119 -56.101624   \n",
              "\n",
              "          215           0    \n",
              "18 -50.473366  male_fearful  \n",
              "8  -42.882072    male_angry  \n",
              "12 -62.738766    male_happy  \n",
              "6  -16.054724    male_angry  \n",
              "13 -56.823063  male_fearful  \n",
              "\n",
              "[5 rows x 217 columns]"
            ],
            "text/html": [
              "\n",
              "  <div id=\"df-25259a70-6a15-4c83-835d-a1b4d1cb16c4\">\n",
              "    <div class=\"colab-df-container\">\n",
              "      <div>\n",
              "<style scoped>\n",
              "    .dataframe tbody tr th:only-of-type {\n",
              "        vertical-align: middle;\n",
              "    }\n",
              "\n",
              "    .dataframe tbody tr th {\n",
              "        vertical-align: top;\n",
              "    }\n",
              "\n",
              "    .dataframe thead th {\n",
              "        text-align: right;\n",
              "    }\n",
              "</style>\n",
              "<table border=\"1\" class=\"dataframe\">\n",
              "  <thead>\n",
              "    <tr style=\"text-align: right;\">\n",
              "      <th></th>\n",
              "      <th>0</th>\n",
              "      <th>1</th>\n",
              "      <th>2</th>\n",
              "      <th>3</th>\n",
              "      <th>4</th>\n",
              "      <th>5</th>\n",
              "      <th>6</th>\n",
              "      <th>7</th>\n",
              "      <th>8</th>\n",
              "      <th>9</th>\n",
              "      <th>...</th>\n",
              "      <th>207</th>\n",
              "      <th>208</th>\n",
              "      <th>209</th>\n",
              "      <th>210</th>\n",
              "      <th>211</th>\n",
              "      <th>212</th>\n",
              "      <th>213</th>\n",
              "      <th>214</th>\n",
              "      <th>215</th>\n",
              "      <th>0</th>\n",
              "    </tr>\n",
              "  </thead>\n",
              "  <tbody>\n",
              "    <tr>\n",
              "      <th>18</th>\n",
              "      <td>-63.523846</td>\n",
              "      <td>-63.523846</td>\n",
              "      <td>-63.523846</td>\n",
              "      <td>-63.523846</td>\n",
              "      <td>-63.523846</td>\n",
              "      <td>-63.377724</td>\n",
              "      <td>-61.596287</td>\n",
              "      <td>-63.160645</td>\n",
              "      <td>-63.523846</td>\n",
              "      <td>-63.523846</td>\n",
              "      <td>...</td>\n",
              "      <td>-39.848248</td>\n",
              "      <td>-40.466457</td>\n",
              "      <td>-40.448551</td>\n",
              "      <td>-42.883549</td>\n",
              "      <td>-43.368042</td>\n",
              "      <td>-46.280754</td>\n",
              "      <td>-48.274254</td>\n",
              "      <td>-49.745644</td>\n",
              "      <td>-50.473366</td>\n",
              "      <td>male_fearful</td>\n",
              "    </tr>\n",
              "    <tr>\n",
              "      <th>8</th>\n",
              "      <td>-55.624268</td>\n",
              "      <td>-55.624268</td>\n",
              "      <td>-55.570801</td>\n",
              "      <td>-53.939072</td>\n",
              "      <td>-52.901554</td>\n",
              "      <td>-54.381260</td>\n",
              "      <td>-54.381672</td>\n",
              "      <td>-55.479057</td>\n",
              "      <td>-55.612709</td>\n",
              "      <td>-55.889286</td>\n",
              "      <td>...</td>\n",
              "      <td>-31.432814</td>\n",
              "      <td>-33.775841</td>\n",
              "      <td>-36.061859</td>\n",
              "      <td>-38.142685</td>\n",
              "      <td>-38.785854</td>\n",
              "      <td>-39.644894</td>\n",
              "      <td>-41.592964</td>\n",
              "      <td>-45.737263</td>\n",
              "      <td>-42.882072</td>\n",
              "      <td>male_angry</td>\n",
              "    </tr>\n",
              "    <tr>\n",
              "      <th>12</th>\n",
              "      <td>-65.427750</td>\n",
              "      <td>-65.427750</td>\n",
              "      <td>-65.262238</td>\n",
              "      <td>-65.427750</td>\n",
              "      <td>-65.427750</td>\n",
              "      <td>-65.427750</td>\n",
              "      <td>-65.028061</td>\n",
              "      <td>-65.404816</td>\n",
              "      <td>-65.427750</td>\n",
              "      <td>-58.999565</td>\n",
              "      <td>...</td>\n",
              "      <td>-60.775871</td>\n",
              "      <td>-64.037216</td>\n",
              "      <td>-64.463974</td>\n",
              "      <td>-65.205452</td>\n",
              "      <td>-64.806198</td>\n",
              "      <td>-64.464417</td>\n",
              "      <td>-61.401047</td>\n",
              "      <td>-60.954880</td>\n",
              "      <td>-62.738766</td>\n",
              "      <td>male_happy</td>\n",
              "    </tr>\n",
              "    <tr>\n",
              "      <th>6</th>\n",
              "      <td>-40.796883</td>\n",
              "      <td>-40.789669</td>\n",
              "      <td>-40.808334</td>\n",
              "      <td>-40.876545</td>\n",
              "      <td>-40.619694</td>\n",
              "      <td>-40.420124</td>\n",
              "      <td>-40.692852</td>\n",
              "      <td>-40.931232</td>\n",
              "      <td>-40.967266</td>\n",
              "      <td>-40.788017</td>\n",
              "      <td>...</td>\n",
              "      <td>-21.875114</td>\n",
              "      <td>-24.762779</td>\n",
              "      <td>-29.518728</td>\n",
              "      <td>-27.211124</td>\n",
              "      <td>-16.296978</td>\n",
              "      <td>-15.058404</td>\n",
              "      <td>-19.382408</td>\n",
              "      <td>-19.939528</td>\n",
              "      <td>-16.054724</td>\n",
              "      <td>male_angry</td>\n",
              "    </tr>\n",
              "    <tr>\n",
              "      <th>13</th>\n",
              "      <td>-61.087765</td>\n",
              "      <td>-61.579689</td>\n",
              "      <td>-61.581135</td>\n",
              "      <td>-61.288517</td>\n",
              "      <td>-61.081558</td>\n",
              "      <td>-60.592163</td>\n",
              "      <td>-59.902767</td>\n",
              "      <td>-59.478203</td>\n",
              "      <td>-60.251793</td>\n",
              "      <td>-61.044437</td>\n",
              "      <td>...</td>\n",
              "      <td>-53.662632</td>\n",
              "      <td>-53.637329</td>\n",
              "      <td>-55.863945</td>\n",
              "      <td>-56.614754</td>\n",
              "      <td>-56.009781</td>\n",
              "      <td>-54.971310</td>\n",
              "      <td>-54.318119</td>\n",
              "      <td>-56.101624</td>\n",
              "      <td>-56.823063</td>\n",
              "      <td>male_fearful</td>\n",
              "    </tr>\n",
              "  </tbody>\n",
              "</table>\n",
              "<p>5 rows × 217 columns</p>\n",
              "</div>\n",
              "      <button class=\"colab-df-convert\" onclick=\"convertToInteractive('df-25259a70-6a15-4c83-835d-a1b4d1cb16c4')\"\n",
              "              title=\"Convert this dataframe to an interactive table.\"\n",
              "              style=\"display:none;\">\n",
              "        \n",
              "  <svg xmlns=\"http://www.w3.org/2000/svg\" height=\"24px\"viewBox=\"0 0 24 24\"\n",
              "       width=\"24px\">\n",
              "    <path d=\"M0 0h24v24H0V0z\" fill=\"none\"/>\n",
              "    <path d=\"M18.56 5.44l.94 2.06.94-2.06 2.06-.94-2.06-.94-.94-2.06-.94 2.06-2.06.94zm-11 1L8.5 8.5l.94-2.06 2.06-.94-2.06-.94L8.5 2.5l-.94 2.06-2.06.94zm10 10l.94 2.06.94-2.06 2.06-.94-2.06-.94-.94-2.06-.94 2.06-2.06.94z\"/><path d=\"M17.41 7.96l-1.37-1.37c-.4-.4-.92-.59-1.43-.59-.52 0-1.04.2-1.43.59L10.3 9.45l-7.72 7.72c-.78.78-.78 2.05 0 2.83L4 21.41c.39.39.9.59 1.41.59.51 0 1.02-.2 1.41-.59l7.78-7.78 2.81-2.81c.8-.78.8-2.07 0-2.86zM5.41 20L4 18.59l7.72-7.72 1.47 1.35L5.41 20z\"/>\n",
              "  </svg>\n",
              "      </button>\n",
              "      \n",
              "  <style>\n",
              "    .colab-df-container {\n",
              "      display:flex;\n",
              "      flex-wrap:wrap;\n",
              "      gap: 12px;\n",
              "    }\n",
              "\n",
              "    .colab-df-convert {\n",
              "      background-color: #E8F0FE;\n",
              "      border: none;\n",
              "      border-radius: 50%;\n",
              "      cursor: pointer;\n",
              "      display: none;\n",
              "      fill: #1967D2;\n",
              "      height: 32px;\n",
              "      padding: 0 0 0 0;\n",
              "      width: 32px;\n",
              "    }\n",
              "\n",
              "    .colab-df-convert:hover {\n",
              "      background-color: #E2EBFA;\n",
              "      box-shadow: 0px 1px 2px rgba(60, 64, 67, 0.3), 0px 1px 3px 1px rgba(60, 64, 67, 0.15);\n",
              "      fill: #174EA6;\n",
              "    }\n",
              "\n",
              "    [theme=dark] .colab-df-convert {\n",
              "      background-color: #3B4455;\n",
              "      fill: #D2E3FC;\n",
              "    }\n",
              "\n",
              "    [theme=dark] .colab-df-convert:hover {\n",
              "      background-color: #434B5C;\n",
              "      box-shadow: 0px 1px 3px 1px rgba(0, 0, 0, 0.15);\n",
              "      filter: drop-shadow(0px 1px 2px rgba(0, 0, 0, 0.3));\n",
              "      fill: #FFFFFF;\n",
              "    }\n",
              "  </style>\n",
              "\n",
              "      <script>\n",
              "        const buttonEl =\n",
              "          document.querySelector('#df-25259a70-6a15-4c83-835d-a1b4d1cb16c4 button.colab-df-convert');\n",
              "        buttonEl.style.display =\n",
              "          google.colab.kernel.accessAllowed ? 'block' : 'none';\n",
              "\n",
              "        async function convertToInteractive(key) {\n",
              "          const element = document.querySelector('#df-25259a70-6a15-4c83-835d-a1b4d1cb16c4');\n",
              "          const dataTable =\n",
              "            await google.colab.kernel.invokeFunction('convertToInteractive',\n",
              "                                                     [key], {});\n",
              "          if (!dataTable) return;\n",
              "\n",
              "          const docLinkHtml = 'Like what you see? Visit the ' +\n",
              "            '<a target=\"_blank\" href=https://colab.research.google.com/notebooks/data_table.ipynb>data table notebook</a>'\n",
              "            + ' to learn more about interactive tables.';\n",
              "          element.innerHTML = '';\n",
              "          dataTable['output_type'] = 'display_data';\n",
              "          await google.colab.output.renderOutput(dataTable, element);\n",
              "          const docLink = document.createElement('div');\n",
              "          docLink.innerHTML = docLinkHtml;\n",
              "          element.appendChild(docLink);\n",
              "        }\n",
              "      </script>\n",
              "    </div>\n",
              "  </div>\n",
              "  "
            ]
          },
          "metadata": {},
          "execution_count": 68
        }
      ]
    },
    {
      "cell_type": "code",
      "source": [
        "train[24:34] #Earlier 250:260"
      ],
      "metadata": {
        "colab": {
          "base_uri": "https://localhost:8080/",
          "height": 456
        },
        "id": "uehVdaysUqc5",
        "outputId": "1c7c30f9-7ce0-40e7-96e9-4b91c4c0798a"
      },
      "execution_count": 69,
      "outputs": [
        {
          "output_type": "execute_result",
          "data": {
            "text/plain": [
              "          0          1          2          3          4          5    \\\n",
              "22 -56.733604 -56.752377 -56.415298 -55.715714 -55.817928 -55.832840   \n",
              "38 -35.373291 -36.900837 -38.971413 -38.443699 -37.651573 -38.045456   \n",
              "15 -67.736496 -67.778366 -66.746597 -65.958344 -67.736496 -67.736496   \n",
              "37 -44.590401 -45.006592 -45.195656 -43.043945 -43.083050 -44.333244   \n",
              "19 -73.841858 -73.841858 -73.841858 -73.720078 -73.841858 -73.841858   \n",
              "20 -65.243805 -65.243805 -65.243805 -65.243805 -65.243805 -65.243805   \n",
              "24 -61.560810 -61.560810 -61.560810 -61.560810 -61.560810 -61.560810   \n",
              "2  -68.049400 -68.049400 -68.049400 -68.049400 -68.049400 -68.049400   \n",
              "3  -55.507534 -55.729652 -55.716839 -55.835930 -55.932114 -55.932114   \n",
              "1  -60.369228 -60.083897 -60.978966 -60.952496 -60.982536 -60.983990   \n",
              "\n",
              "          6          7          8          9    ...        207        208  \\\n",
              "22 -55.889671 -55.116646 -54.244915 -56.211960  ... -39.932251 -43.064877   \n",
              "38 -38.625210 -42.541420 -43.463486 -43.102806  ... -29.332130 -27.650618   \n",
              "15 -67.736496 -67.259155 -67.736496 -67.736496  ... -61.116722 -63.291748   \n",
              "37 -44.626606 -44.436020 -43.748173 -45.732674  ... -29.290974 -26.936699   \n",
              "19 -73.841858 -73.304192 -72.807358 -73.841858  ... -50.570267 -53.508461   \n",
              "20 -65.243805 -65.243805 -65.243805 -65.118050  ... -61.924801 -56.157463   \n",
              "24 -61.560810 -61.560810 -61.560810 -61.560810  ... -53.845036 -54.261051   \n",
              "2  -68.049400 -68.049400 -68.049400 -68.049400  ... -68.049400 -68.049400   \n",
              "3  -55.932114 -55.932114 -55.932114 -55.932114  ... -42.141296 -42.019539   \n",
              "1  -60.981300 -60.981300 -60.981300 -60.249794  ... -49.848812 -49.633385   \n",
              "\n",
              "          209        210        211        212        213        214  \\\n",
              "22 -46.631859 -48.998745 -46.068241 -45.294621 -47.657753 -51.417564   \n",
              "38 -31.415056 -34.811867 -34.607536 -35.441376 -35.538944 -36.478264   \n",
              "15 -65.844711 -65.121506 -59.515804 -59.591988 -66.712601 -67.736496   \n",
              "37 -26.975965 -27.146627 -26.252871 -26.814348 -26.261763 -12.775722   \n",
              "19 -54.224915 -51.547527 -52.576477 -54.788902 -56.346535 -57.509991   \n",
              "20 -55.678505 -61.118351 -58.569290 -57.137386 -58.620491 -60.068855   \n",
              "24 -55.809509 -54.627609 -53.187302 -53.998699 -53.535618 -57.204185   \n",
              "2  -68.049400 -68.049400 -68.049400 -68.049400 -68.049400 -68.049400   \n",
              "3  -41.471268 -42.716209 -45.725437 -47.005997 -48.263088 -51.830585   \n",
              "1  -55.103004 -55.482151 -52.952621 -51.402016 -54.073372 -52.639961   \n",
              "\n",
              "          215           0    \n",
              "22 -54.335529    male_happy  \n",
              "38 -35.934708  male_fearful  \n",
              "15 -67.736496      male_sad  \n",
              "37  -5.234003  male_fearful  \n",
              "19 -56.579109     male_calm  \n",
              "20 -57.351204    male_happy  \n",
              "24 -59.989414      male_sad  \n",
              "2  -68.049400      male_sad  \n",
              "3  -52.758736    male_angry  \n",
              "1  -52.664593    male_happy  \n",
              "\n",
              "[10 rows x 217 columns]"
            ],
            "text/html": [
              "\n",
              "  <div id=\"df-29884569-011a-4e3f-9a44-681a8824d33e\">\n",
              "    <div class=\"colab-df-container\">\n",
              "      <div>\n",
              "<style scoped>\n",
              "    .dataframe tbody tr th:only-of-type {\n",
              "        vertical-align: middle;\n",
              "    }\n",
              "\n",
              "    .dataframe tbody tr th {\n",
              "        vertical-align: top;\n",
              "    }\n",
              "\n",
              "    .dataframe thead th {\n",
              "        text-align: right;\n",
              "    }\n",
              "</style>\n",
              "<table border=\"1\" class=\"dataframe\">\n",
              "  <thead>\n",
              "    <tr style=\"text-align: right;\">\n",
              "      <th></th>\n",
              "      <th>0</th>\n",
              "      <th>1</th>\n",
              "      <th>2</th>\n",
              "      <th>3</th>\n",
              "      <th>4</th>\n",
              "      <th>5</th>\n",
              "      <th>6</th>\n",
              "      <th>7</th>\n",
              "      <th>8</th>\n",
              "      <th>9</th>\n",
              "      <th>...</th>\n",
              "      <th>207</th>\n",
              "      <th>208</th>\n",
              "      <th>209</th>\n",
              "      <th>210</th>\n",
              "      <th>211</th>\n",
              "      <th>212</th>\n",
              "      <th>213</th>\n",
              "      <th>214</th>\n",
              "      <th>215</th>\n",
              "      <th>0</th>\n",
              "    </tr>\n",
              "  </thead>\n",
              "  <tbody>\n",
              "    <tr>\n",
              "      <th>22</th>\n",
              "      <td>-56.733604</td>\n",
              "      <td>-56.752377</td>\n",
              "      <td>-56.415298</td>\n",
              "      <td>-55.715714</td>\n",
              "      <td>-55.817928</td>\n",
              "      <td>-55.832840</td>\n",
              "      <td>-55.889671</td>\n",
              "      <td>-55.116646</td>\n",
              "      <td>-54.244915</td>\n",
              "      <td>-56.211960</td>\n",
              "      <td>...</td>\n",
              "      <td>-39.932251</td>\n",
              "      <td>-43.064877</td>\n",
              "      <td>-46.631859</td>\n",
              "      <td>-48.998745</td>\n",
              "      <td>-46.068241</td>\n",
              "      <td>-45.294621</td>\n",
              "      <td>-47.657753</td>\n",
              "      <td>-51.417564</td>\n",
              "      <td>-54.335529</td>\n",
              "      <td>male_happy</td>\n",
              "    </tr>\n",
              "    <tr>\n",
              "      <th>38</th>\n",
              "      <td>-35.373291</td>\n",
              "      <td>-36.900837</td>\n",
              "      <td>-38.971413</td>\n",
              "      <td>-38.443699</td>\n",
              "      <td>-37.651573</td>\n",
              "      <td>-38.045456</td>\n",
              "      <td>-38.625210</td>\n",
              "      <td>-42.541420</td>\n",
              "      <td>-43.463486</td>\n",
              "      <td>-43.102806</td>\n",
              "      <td>...</td>\n",
              "      <td>-29.332130</td>\n",
              "      <td>-27.650618</td>\n",
              "      <td>-31.415056</td>\n",
              "      <td>-34.811867</td>\n",
              "      <td>-34.607536</td>\n",
              "      <td>-35.441376</td>\n",
              "      <td>-35.538944</td>\n",
              "      <td>-36.478264</td>\n",
              "      <td>-35.934708</td>\n",
              "      <td>male_fearful</td>\n",
              "    </tr>\n",
              "    <tr>\n",
              "      <th>15</th>\n",
              "      <td>-67.736496</td>\n",
              "      <td>-67.778366</td>\n",
              "      <td>-66.746597</td>\n",
              "      <td>-65.958344</td>\n",
              "      <td>-67.736496</td>\n",
              "      <td>-67.736496</td>\n",
              "      <td>-67.736496</td>\n",
              "      <td>-67.259155</td>\n",
              "      <td>-67.736496</td>\n",
              "      <td>-67.736496</td>\n",
              "      <td>...</td>\n",
              "      <td>-61.116722</td>\n",
              "      <td>-63.291748</td>\n",
              "      <td>-65.844711</td>\n",
              "      <td>-65.121506</td>\n",
              "      <td>-59.515804</td>\n",
              "      <td>-59.591988</td>\n",
              "      <td>-66.712601</td>\n",
              "      <td>-67.736496</td>\n",
              "      <td>-67.736496</td>\n",
              "      <td>male_sad</td>\n",
              "    </tr>\n",
              "    <tr>\n",
              "      <th>37</th>\n",
              "      <td>-44.590401</td>\n",
              "      <td>-45.006592</td>\n",
              "      <td>-45.195656</td>\n",
              "      <td>-43.043945</td>\n",
              "      <td>-43.083050</td>\n",
              "      <td>-44.333244</td>\n",
              "      <td>-44.626606</td>\n",
              "      <td>-44.436020</td>\n",
              "      <td>-43.748173</td>\n",
              "      <td>-45.732674</td>\n",
              "      <td>...</td>\n",
              "      <td>-29.290974</td>\n",
              "      <td>-26.936699</td>\n",
              "      <td>-26.975965</td>\n",
              "      <td>-27.146627</td>\n",
              "      <td>-26.252871</td>\n",
              "      <td>-26.814348</td>\n",
              "      <td>-26.261763</td>\n",
              "      <td>-12.775722</td>\n",
              "      <td>-5.234003</td>\n",
              "      <td>male_fearful</td>\n",
              "    </tr>\n",
              "    <tr>\n",
              "      <th>19</th>\n",
              "      <td>-73.841858</td>\n",
              "      <td>-73.841858</td>\n",
              "      <td>-73.841858</td>\n",
              "      <td>-73.720078</td>\n",
              "      <td>-73.841858</td>\n",
              "      <td>-73.841858</td>\n",
              "      <td>-73.841858</td>\n",
              "      <td>-73.304192</td>\n",
              "      <td>-72.807358</td>\n",
              "      <td>-73.841858</td>\n",
              "      <td>...</td>\n",
              "      <td>-50.570267</td>\n",
              "      <td>-53.508461</td>\n",
              "      <td>-54.224915</td>\n",
              "      <td>-51.547527</td>\n",
              "      <td>-52.576477</td>\n",
              "      <td>-54.788902</td>\n",
              "      <td>-56.346535</td>\n",
              "      <td>-57.509991</td>\n",
              "      <td>-56.579109</td>\n",
              "      <td>male_calm</td>\n",
              "    </tr>\n",
              "    <tr>\n",
              "      <th>20</th>\n",
              "      <td>-65.243805</td>\n",
              "      <td>-65.243805</td>\n",
              "      <td>-65.243805</td>\n",
              "      <td>-65.243805</td>\n",
              "      <td>-65.243805</td>\n",
              "      <td>-65.243805</td>\n",
              "      <td>-65.243805</td>\n",
              "      <td>-65.243805</td>\n",
              "      <td>-65.243805</td>\n",
              "      <td>-65.118050</td>\n",
              "      <td>...</td>\n",
              "      <td>-61.924801</td>\n",
              "      <td>-56.157463</td>\n",
              "      <td>-55.678505</td>\n",
              "      <td>-61.118351</td>\n",
              "      <td>-58.569290</td>\n",
              "      <td>-57.137386</td>\n",
              "      <td>-58.620491</td>\n",
              "      <td>-60.068855</td>\n",
              "      <td>-57.351204</td>\n",
              "      <td>male_happy</td>\n",
              "    </tr>\n",
              "    <tr>\n",
              "      <th>24</th>\n",
              "      <td>-61.560810</td>\n",
              "      <td>-61.560810</td>\n",
              "      <td>-61.560810</td>\n",
              "      <td>-61.560810</td>\n",
              "      <td>-61.560810</td>\n",
              "      <td>-61.560810</td>\n",
              "      <td>-61.560810</td>\n",
              "      <td>-61.560810</td>\n",
              "      <td>-61.560810</td>\n",
              "      <td>-61.560810</td>\n",
              "      <td>...</td>\n",
              "      <td>-53.845036</td>\n",
              "      <td>-54.261051</td>\n",
              "      <td>-55.809509</td>\n",
              "      <td>-54.627609</td>\n",
              "      <td>-53.187302</td>\n",
              "      <td>-53.998699</td>\n",
              "      <td>-53.535618</td>\n",
              "      <td>-57.204185</td>\n",
              "      <td>-59.989414</td>\n",
              "      <td>male_sad</td>\n",
              "    </tr>\n",
              "    <tr>\n",
              "      <th>2</th>\n",
              "      <td>-68.049400</td>\n",
              "      <td>-68.049400</td>\n",
              "      <td>-68.049400</td>\n",
              "      <td>-68.049400</td>\n",
              "      <td>-68.049400</td>\n",
              "      <td>-68.049400</td>\n",
              "      <td>-68.049400</td>\n",
              "      <td>-68.049400</td>\n",
              "      <td>-68.049400</td>\n",
              "      <td>-68.049400</td>\n",
              "      <td>...</td>\n",
              "      <td>-68.049400</td>\n",
              "      <td>-68.049400</td>\n",
              "      <td>-68.049400</td>\n",
              "      <td>-68.049400</td>\n",
              "      <td>-68.049400</td>\n",
              "      <td>-68.049400</td>\n",
              "      <td>-68.049400</td>\n",
              "      <td>-68.049400</td>\n",
              "      <td>-68.049400</td>\n",
              "      <td>male_sad</td>\n",
              "    </tr>\n",
              "    <tr>\n",
              "      <th>3</th>\n",
              "      <td>-55.507534</td>\n",
              "      <td>-55.729652</td>\n",
              "      <td>-55.716839</td>\n",
              "      <td>-55.835930</td>\n",
              "      <td>-55.932114</td>\n",
              "      <td>-55.932114</td>\n",
              "      <td>-55.932114</td>\n",
              "      <td>-55.932114</td>\n",
              "      <td>-55.932114</td>\n",
              "      <td>-55.932114</td>\n",
              "      <td>...</td>\n",
              "      <td>-42.141296</td>\n",
              "      <td>-42.019539</td>\n",
              "      <td>-41.471268</td>\n",
              "      <td>-42.716209</td>\n",
              "      <td>-45.725437</td>\n",
              "      <td>-47.005997</td>\n",
              "      <td>-48.263088</td>\n",
              "      <td>-51.830585</td>\n",
              "      <td>-52.758736</td>\n",
              "      <td>male_angry</td>\n",
              "    </tr>\n",
              "    <tr>\n",
              "      <th>1</th>\n",
              "      <td>-60.369228</td>\n",
              "      <td>-60.083897</td>\n",
              "      <td>-60.978966</td>\n",
              "      <td>-60.952496</td>\n",
              "      <td>-60.982536</td>\n",
              "      <td>-60.983990</td>\n",
              "      <td>-60.981300</td>\n",
              "      <td>-60.981300</td>\n",
              "      <td>-60.981300</td>\n",
              "      <td>-60.249794</td>\n",
              "      <td>...</td>\n",
              "      <td>-49.848812</td>\n",
              "      <td>-49.633385</td>\n",
              "      <td>-55.103004</td>\n",
              "      <td>-55.482151</td>\n",
              "      <td>-52.952621</td>\n",
              "      <td>-51.402016</td>\n",
              "      <td>-54.073372</td>\n",
              "      <td>-52.639961</td>\n",
              "      <td>-52.664593</td>\n",
              "      <td>male_happy</td>\n",
              "    </tr>\n",
              "  </tbody>\n",
              "</table>\n",
              "<p>10 rows × 217 columns</p>\n",
              "</div>\n",
              "      <button class=\"colab-df-convert\" onclick=\"convertToInteractive('df-29884569-011a-4e3f-9a44-681a8824d33e')\"\n",
              "              title=\"Convert this dataframe to an interactive table.\"\n",
              "              style=\"display:none;\">\n",
              "        \n",
              "  <svg xmlns=\"http://www.w3.org/2000/svg\" height=\"24px\"viewBox=\"0 0 24 24\"\n",
              "       width=\"24px\">\n",
              "    <path d=\"M0 0h24v24H0V0z\" fill=\"none\"/>\n",
              "    <path d=\"M18.56 5.44l.94 2.06.94-2.06 2.06-.94-2.06-.94-.94-2.06-.94 2.06-2.06.94zm-11 1L8.5 8.5l.94-2.06 2.06-.94-2.06-.94L8.5 2.5l-.94 2.06-2.06.94zm10 10l.94 2.06.94-2.06 2.06-.94-2.06-.94-.94-2.06-.94 2.06-2.06.94z\"/><path d=\"M17.41 7.96l-1.37-1.37c-.4-.4-.92-.59-1.43-.59-.52 0-1.04.2-1.43.59L10.3 9.45l-7.72 7.72c-.78.78-.78 2.05 0 2.83L4 21.41c.39.39.9.59 1.41.59.51 0 1.02-.2 1.41-.59l7.78-7.78 2.81-2.81c.8-.78.8-2.07 0-2.86zM5.41 20L4 18.59l7.72-7.72 1.47 1.35L5.41 20z\"/>\n",
              "  </svg>\n",
              "      </button>\n",
              "      \n",
              "  <style>\n",
              "    .colab-df-container {\n",
              "      display:flex;\n",
              "      flex-wrap:wrap;\n",
              "      gap: 12px;\n",
              "    }\n",
              "\n",
              "    .colab-df-convert {\n",
              "      background-color: #E8F0FE;\n",
              "      border: none;\n",
              "      border-radius: 50%;\n",
              "      cursor: pointer;\n",
              "      display: none;\n",
              "      fill: #1967D2;\n",
              "      height: 32px;\n",
              "      padding: 0 0 0 0;\n",
              "      width: 32px;\n",
              "    }\n",
              "\n",
              "    .colab-df-convert:hover {\n",
              "      background-color: #E2EBFA;\n",
              "      box-shadow: 0px 1px 2px rgba(60, 64, 67, 0.3), 0px 1px 3px 1px rgba(60, 64, 67, 0.15);\n",
              "      fill: #174EA6;\n",
              "    }\n",
              "\n",
              "    [theme=dark] .colab-df-convert {\n",
              "      background-color: #3B4455;\n",
              "      fill: #D2E3FC;\n",
              "    }\n",
              "\n",
              "    [theme=dark] .colab-df-convert:hover {\n",
              "      background-color: #434B5C;\n",
              "      box-shadow: 0px 1px 3px 1px rgba(0, 0, 0, 0.15);\n",
              "      filter: drop-shadow(0px 1px 2px rgba(0, 0, 0, 0.3));\n",
              "      fill: #FFFFFF;\n",
              "    }\n",
              "  </style>\n",
              "\n",
              "      <script>\n",
              "        const buttonEl =\n",
              "          document.querySelector('#df-29884569-011a-4e3f-9a44-681a8824d33e button.colab-df-convert');\n",
              "        buttonEl.style.display =\n",
              "          google.colab.kernel.accessAllowed ? 'block' : 'none';\n",
              "\n",
              "        async function convertToInteractive(key) {\n",
              "          const element = document.querySelector('#df-29884569-011a-4e3f-9a44-681a8824d33e');\n",
              "          const dataTable =\n",
              "            await google.colab.kernel.invokeFunction('convertToInteractive',\n",
              "                                                     [key], {});\n",
              "          if (!dataTable) return;\n",
              "\n",
              "          const docLinkHtml = 'Like what you see? Visit the ' +\n",
              "            '<a target=\"_blank\" href=https://colab.research.google.com/notebooks/data_table.ipynb>data table notebook</a>'\n",
              "            + ' to learn more about interactive tables.';\n",
              "          element.innerHTML = '';\n",
              "          dataTable['output_type'] = 'display_data';\n",
              "          await google.colab.output.renderOutput(dataTable, element);\n",
              "          const docLink = document.createElement('div');\n",
              "          docLink.innerHTML = docLinkHtml;\n",
              "          element.appendChild(docLink);\n",
              "        }\n",
              "      </script>\n",
              "    </div>\n",
              "  </div>\n",
              "  "
            ]
          },
          "metadata": {},
          "execution_count": 69
        }
      ]
    },
    {
      "cell_type": "code",
      "source": [
        "trainfeatures = train.iloc[:, :-1]"
      ],
      "metadata": {
        "id": "6y61eQOUUs5J"
      },
      "execution_count": 70,
      "outputs": []
    },
    {
      "cell_type": "code",
      "source": [
        "trainlabel = train.iloc[:, -1:]"
      ],
      "metadata": {
        "id": "z77AjTPIW5YS"
      },
      "execution_count": 71,
      "outputs": []
    },
    {
      "cell_type": "code",
      "source": [
        "testfeatures = test.iloc[:, :-1]"
      ],
      "metadata": {
        "id": "wAiFM1SdW9ok"
      },
      "execution_count": 72,
      "outputs": []
    },
    {
      "cell_type": "code",
      "source": [
        "trainlabel"
      ],
      "metadata": {
        "colab": {
          "base_uri": "https://localhost:8080/",
          "height": 1000
        },
        "id": "q1bTJDKnW-1C",
        "outputId": "e09263e9-77f9-4471-9d12-fb3bc8c817b9"
      },
      "execution_count": 73,
      "outputs": [
        {
          "output_type": "execute_result",
          "data": {
            "text/plain": [
              "               0\n",
              "23  male_fearful\n",
              "34     male_calm\n",
              "39  male_fearful\n",
              "0   male_fearful\n",
              "36  male_fearful\n",
              "17    male_angry\n",
              "33    male_angry\n",
              "14      male_sad\n",
              "7      male_calm\n",
              "5     male_angry\n",
              "27    male_angry\n",
              "30    male_happy\n",
              "16     male_calm\n",
              "31      male_sad\n",
              "35    male_happy\n",
              "25    male_happy\n",
              "29    male_happy\n",
              "9      male_calm\n",
              "21     male_calm\n",
              "10      male_sad\n",
              "26     male_calm\n",
              "4     male_angry\n",
              "11      male_sad\n",
              "28      male_sad\n",
              "22    male_happy\n",
              "38  male_fearful\n",
              "15      male_sad\n",
              "37  male_fearful\n",
              "19     male_calm\n",
              "20    male_happy\n",
              "24      male_sad\n",
              "2       male_sad\n",
              "3     male_angry\n",
              "1     male_happy\n",
              "32     male_calm"
            ],
            "text/html": [
              "\n",
              "  <div id=\"df-9f2aa533-22f5-4f9a-95fa-dd9c698cdc1e\">\n",
              "    <div class=\"colab-df-container\">\n",
              "      <div>\n",
              "<style scoped>\n",
              "    .dataframe tbody tr th:only-of-type {\n",
              "        vertical-align: middle;\n",
              "    }\n",
              "\n",
              "    .dataframe tbody tr th {\n",
              "        vertical-align: top;\n",
              "    }\n",
              "\n",
              "    .dataframe thead th {\n",
              "        text-align: right;\n",
              "    }\n",
              "</style>\n",
              "<table border=\"1\" class=\"dataframe\">\n",
              "  <thead>\n",
              "    <tr style=\"text-align: right;\">\n",
              "      <th></th>\n",
              "      <th>0</th>\n",
              "    </tr>\n",
              "  </thead>\n",
              "  <tbody>\n",
              "    <tr>\n",
              "      <th>23</th>\n",
              "      <td>male_fearful</td>\n",
              "    </tr>\n",
              "    <tr>\n",
              "      <th>34</th>\n",
              "      <td>male_calm</td>\n",
              "    </tr>\n",
              "    <tr>\n",
              "      <th>39</th>\n",
              "      <td>male_fearful</td>\n",
              "    </tr>\n",
              "    <tr>\n",
              "      <th>0</th>\n",
              "      <td>male_fearful</td>\n",
              "    </tr>\n",
              "    <tr>\n",
              "      <th>36</th>\n",
              "      <td>male_fearful</td>\n",
              "    </tr>\n",
              "    <tr>\n",
              "      <th>17</th>\n",
              "      <td>male_angry</td>\n",
              "    </tr>\n",
              "    <tr>\n",
              "      <th>33</th>\n",
              "      <td>male_angry</td>\n",
              "    </tr>\n",
              "    <tr>\n",
              "      <th>14</th>\n",
              "      <td>male_sad</td>\n",
              "    </tr>\n",
              "    <tr>\n",
              "      <th>7</th>\n",
              "      <td>male_calm</td>\n",
              "    </tr>\n",
              "    <tr>\n",
              "      <th>5</th>\n",
              "      <td>male_angry</td>\n",
              "    </tr>\n",
              "    <tr>\n",
              "      <th>27</th>\n",
              "      <td>male_angry</td>\n",
              "    </tr>\n",
              "    <tr>\n",
              "      <th>30</th>\n",
              "      <td>male_happy</td>\n",
              "    </tr>\n",
              "    <tr>\n",
              "      <th>16</th>\n",
              "      <td>male_calm</td>\n",
              "    </tr>\n",
              "    <tr>\n",
              "      <th>31</th>\n",
              "      <td>male_sad</td>\n",
              "    </tr>\n",
              "    <tr>\n",
              "      <th>35</th>\n",
              "      <td>male_happy</td>\n",
              "    </tr>\n",
              "    <tr>\n",
              "      <th>25</th>\n",
              "      <td>male_happy</td>\n",
              "    </tr>\n",
              "    <tr>\n",
              "      <th>29</th>\n",
              "      <td>male_happy</td>\n",
              "    </tr>\n",
              "    <tr>\n",
              "      <th>9</th>\n",
              "      <td>male_calm</td>\n",
              "    </tr>\n",
              "    <tr>\n",
              "      <th>21</th>\n",
              "      <td>male_calm</td>\n",
              "    </tr>\n",
              "    <tr>\n",
              "      <th>10</th>\n",
              "      <td>male_sad</td>\n",
              "    </tr>\n",
              "    <tr>\n",
              "      <th>26</th>\n",
              "      <td>male_calm</td>\n",
              "    </tr>\n",
              "    <tr>\n",
              "      <th>4</th>\n",
              "      <td>male_angry</td>\n",
              "    </tr>\n",
              "    <tr>\n",
              "      <th>11</th>\n",
              "      <td>male_sad</td>\n",
              "    </tr>\n",
              "    <tr>\n",
              "      <th>28</th>\n",
              "      <td>male_sad</td>\n",
              "    </tr>\n",
              "    <tr>\n",
              "      <th>22</th>\n",
              "      <td>male_happy</td>\n",
              "    </tr>\n",
              "    <tr>\n",
              "      <th>38</th>\n",
              "      <td>male_fearful</td>\n",
              "    </tr>\n",
              "    <tr>\n",
              "      <th>15</th>\n",
              "      <td>male_sad</td>\n",
              "    </tr>\n",
              "    <tr>\n",
              "      <th>37</th>\n",
              "      <td>male_fearful</td>\n",
              "    </tr>\n",
              "    <tr>\n",
              "      <th>19</th>\n",
              "      <td>male_calm</td>\n",
              "    </tr>\n",
              "    <tr>\n",
              "      <th>20</th>\n",
              "      <td>male_happy</td>\n",
              "    </tr>\n",
              "    <tr>\n",
              "      <th>24</th>\n",
              "      <td>male_sad</td>\n",
              "    </tr>\n",
              "    <tr>\n",
              "      <th>2</th>\n",
              "      <td>male_sad</td>\n",
              "    </tr>\n",
              "    <tr>\n",
              "      <th>3</th>\n",
              "      <td>male_angry</td>\n",
              "    </tr>\n",
              "    <tr>\n",
              "      <th>1</th>\n",
              "      <td>male_happy</td>\n",
              "    </tr>\n",
              "    <tr>\n",
              "      <th>32</th>\n",
              "      <td>male_calm</td>\n",
              "    </tr>\n",
              "  </tbody>\n",
              "</table>\n",
              "</div>\n",
              "      <button class=\"colab-df-convert\" onclick=\"convertToInteractive('df-9f2aa533-22f5-4f9a-95fa-dd9c698cdc1e')\"\n",
              "              title=\"Convert this dataframe to an interactive table.\"\n",
              "              style=\"display:none;\">\n",
              "        \n",
              "  <svg xmlns=\"http://www.w3.org/2000/svg\" height=\"24px\"viewBox=\"0 0 24 24\"\n",
              "       width=\"24px\">\n",
              "    <path d=\"M0 0h24v24H0V0z\" fill=\"none\"/>\n",
              "    <path d=\"M18.56 5.44l.94 2.06.94-2.06 2.06-.94-2.06-.94-.94-2.06-.94 2.06-2.06.94zm-11 1L8.5 8.5l.94-2.06 2.06-.94-2.06-.94L8.5 2.5l-.94 2.06-2.06.94zm10 10l.94 2.06.94-2.06 2.06-.94-2.06-.94-.94-2.06-.94 2.06-2.06.94z\"/><path d=\"M17.41 7.96l-1.37-1.37c-.4-.4-.92-.59-1.43-.59-.52 0-1.04.2-1.43.59L10.3 9.45l-7.72 7.72c-.78.78-.78 2.05 0 2.83L4 21.41c.39.39.9.59 1.41.59.51 0 1.02-.2 1.41-.59l7.78-7.78 2.81-2.81c.8-.78.8-2.07 0-2.86zM5.41 20L4 18.59l7.72-7.72 1.47 1.35L5.41 20z\"/>\n",
              "  </svg>\n",
              "      </button>\n",
              "      \n",
              "  <style>\n",
              "    .colab-df-container {\n",
              "      display:flex;\n",
              "      flex-wrap:wrap;\n",
              "      gap: 12px;\n",
              "    }\n",
              "\n",
              "    .colab-df-convert {\n",
              "      background-color: #E8F0FE;\n",
              "      border: none;\n",
              "      border-radius: 50%;\n",
              "      cursor: pointer;\n",
              "      display: none;\n",
              "      fill: #1967D2;\n",
              "      height: 32px;\n",
              "      padding: 0 0 0 0;\n",
              "      width: 32px;\n",
              "    }\n",
              "\n",
              "    .colab-df-convert:hover {\n",
              "      background-color: #E2EBFA;\n",
              "      box-shadow: 0px 1px 2px rgba(60, 64, 67, 0.3), 0px 1px 3px 1px rgba(60, 64, 67, 0.15);\n",
              "      fill: #174EA6;\n",
              "    }\n",
              "\n",
              "    [theme=dark] .colab-df-convert {\n",
              "      background-color: #3B4455;\n",
              "      fill: #D2E3FC;\n",
              "    }\n",
              "\n",
              "    [theme=dark] .colab-df-convert:hover {\n",
              "      background-color: #434B5C;\n",
              "      box-shadow: 0px 1px 3px 1px rgba(0, 0, 0, 0.15);\n",
              "      filter: drop-shadow(0px 1px 2px rgba(0, 0, 0, 0.3));\n",
              "      fill: #FFFFFF;\n",
              "    }\n",
              "  </style>\n",
              "\n",
              "      <script>\n",
              "        const buttonEl =\n",
              "          document.querySelector('#df-9f2aa533-22f5-4f9a-95fa-dd9c698cdc1e button.colab-df-convert');\n",
              "        buttonEl.style.display =\n",
              "          google.colab.kernel.accessAllowed ? 'block' : 'none';\n",
              "\n",
              "        async function convertToInteractive(key) {\n",
              "          const element = document.querySelector('#df-9f2aa533-22f5-4f9a-95fa-dd9c698cdc1e');\n",
              "          const dataTable =\n",
              "            await google.colab.kernel.invokeFunction('convertToInteractive',\n",
              "                                                     [key], {});\n",
              "          if (!dataTable) return;\n",
              "\n",
              "          const docLinkHtml = 'Like what you see? Visit the ' +\n",
              "            '<a target=\"_blank\" href=https://colab.research.google.com/notebooks/data_table.ipynb>data table notebook</a>'\n",
              "            + ' to learn more about interactive tables.';\n",
              "          element.innerHTML = '';\n",
              "          dataTable['output_type'] = 'display_data';\n",
              "          await google.colab.output.renderOutput(dataTable, element);\n",
              "          const docLink = document.createElement('div');\n",
              "          docLink.innerHTML = docLinkHtml;\n",
              "          element.appendChild(docLink);\n",
              "        }\n",
              "      </script>\n",
              "    </div>\n",
              "  </div>\n",
              "  "
            ]
          },
          "metadata": {},
          "execution_count": 73
        }
      ]
    },
    {
      "cell_type": "code",
      "source": [
        "testfeatures"
      ],
      "metadata": {
        "colab": {
          "base_uri": "https://localhost:8080/",
          "height": 299
        },
        "id": "l07U88lMXAXG",
        "outputId": "d775bbd3-5ea9-43cd-deed-4d58248f9a9d"
      },
      "execution_count": 74,
      "outputs": [
        {
          "output_type": "execute_result",
          "data": {
            "text/plain": [
              "          0          1          2          3          4          5    \\\n",
              "18 -63.523846 -63.523846 -63.523846 -63.523846 -63.523846 -63.377724   \n",
              "8  -55.624268 -55.624268 -55.570801 -53.939072 -52.901554 -54.381260   \n",
              "12 -65.427750 -65.427750 -65.262238 -65.427750 -65.427750 -65.427750   \n",
              "6  -40.796883 -40.789669 -40.808334 -40.876545 -40.619694 -40.420124   \n",
              "13 -61.087765 -61.579689 -61.581135 -61.288517 -61.081558 -60.592163   \n",
              "\n",
              "          6          7          8          9    ...        206        207  \\\n",
              "18 -61.596287 -63.160645 -63.523846 -63.523846  ... -39.336967 -39.848248   \n",
              "8  -54.381672 -55.479057 -55.612709 -55.889286  ... -33.353981 -31.432814   \n",
              "12 -65.028061 -65.404816 -65.427750 -58.999565  ... -59.589638 -60.775871   \n",
              "6  -40.692852 -40.931232 -40.967266 -40.788017  ... -23.363060 -21.875114   \n",
              "13 -59.902767 -59.478203 -60.251793 -61.044437  ... -56.197617 -53.662632   \n",
              "\n",
              "          208        209        210        211        212        213  \\\n",
              "18 -40.466457 -40.448551 -42.883549 -43.368042 -46.280754 -48.274254   \n",
              "8  -33.775841 -36.061859 -38.142685 -38.785854 -39.644894 -41.592964   \n",
              "12 -64.037216 -64.463974 -65.205452 -64.806198 -64.464417 -61.401047   \n",
              "6  -24.762779 -29.518728 -27.211124 -16.296978 -15.058404 -19.382408   \n",
              "13 -53.637329 -55.863945 -56.614754 -56.009781 -54.971310 -54.318119   \n",
              "\n",
              "          214        215  \n",
              "18 -49.745644 -50.473366  \n",
              "8  -45.737263 -42.882072  \n",
              "12 -60.954880 -62.738766  \n",
              "6  -19.939528 -16.054724  \n",
              "13 -56.101624 -56.823063  \n",
              "\n",
              "[5 rows x 216 columns]"
            ],
            "text/html": [
              "\n",
              "  <div id=\"df-8e8b6b07-d282-47cf-b59a-7891105c4d2e\">\n",
              "    <div class=\"colab-df-container\">\n",
              "      <div>\n",
              "<style scoped>\n",
              "    .dataframe tbody tr th:only-of-type {\n",
              "        vertical-align: middle;\n",
              "    }\n",
              "\n",
              "    .dataframe tbody tr th {\n",
              "        vertical-align: top;\n",
              "    }\n",
              "\n",
              "    .dataframe thead th {\n",
              "        text-align: right;\n",
              "    }\n",
              "</style>\n",
              "<table border=\"1\" class=\"dataframe\">\n",
              "  <thead>\n",
              "    <tr style=\"text-align: right;\">\n",
              "      <th></th>\n",
              "      <th>0</th>\n",
              "      <th>1</th>\n",
              "      <th>2</th>\n",
              "      <th>3</th>\n",
              "      <th>4</th>\n",
              "      <th>5</th>\n",
              "      <th>6</th>\n",
              "      <th>7</th>\n",
              "      <th>8</th>\n",
              "      <th>9</th>\n",
              "      <th>...</th>\n",
              "      <th>206</th>\n",
              "      <th>207</th>\n",
              "      <th>208</th>\n",
              "      <th>209</th>\n",
              "      <th>210</th>\n",
              "      <th>211</th>\n",
              "      <th>212</th>\n",
              "      <th>213</th>\n",
              "      <th>214</th>\n",
              "      <th>215</th>\n",
              "    </tr>\n",
              "  </thead>\n",
              "  <tbody>\n",
              "    <tr>\n",
              "      <th>18</th>\n",
              "      <td>-63.523846</td>\n",
              "      <td>-63.523846</td>\n",
              "      <td>-63.523846</td>\n",
              "      <td>-63.523846</td>\n",
              "      <td>-63.523846</td>\n",
              "      <td>-63.377724</td>\n",
              "      <td>-61.596287</td>\n",
              "      <td>-63.160645</td>\n",
              "      <td>-63.523846</td>\n",
              "      <td>-63.523846</td>\n",
              "      <td>...</td>\n",
              "      <td>-39.336967</td>\n",
              "      <td>-39.848248</td>\n",
              "      <td>-40.466457</td>\n",
              "      <td>-40.448551</td>\n",
              "      <td>-42.883549</td>\n",
              "      <td>-43.368042</td>\n",
              "      <td>-46.280754</td>\n",
              "      <td>-48.274254</td>\n",
              "      <td>-49.745644</td>\n",
              "      <td>-50.473366</td>\n",
              "    </tr>\n",
              "    <tr>\n",
              "      <th>8</th>\n",
              "      <td>-55.624268</td>\n",
              "      <td>-55.624268</td>\n",
              "      <td>-55.570801</td>\n",
              "      <td>-53.939072</td>\n",
              "      <td>-52.901554</td>\n",
              "      <td>-54.381260</td>\n",
              "      <td>-54.381672</td>\n",
              "      <td>-55.479057</td>\n",
              "      <td>-55.612709</td>\n",
              "      <td>-55.889286</td>\n",
              "      <td>...</td>\n",
              "      <td>-33.353981</td>\n",
              "      <td>-31.432814</td>\n",
              "      <td>-33.775841</td>\n",
              "      <td>-36.061859</td>\n",
              "      <td>-38.142685</td>\n",
              "      <td>-38.785854</td>\n",
              "      <td>-39.644894</td>\n",
              "      <td>-41.592964</td>\n",
              "      <td>-45.737263</td>\n",
              "      <td>-42.882072</td>\n",
              "    </tr>\n",
              "    <tr>\n",
              "      <th>12</th>\n",
              "      <td>-65.427750</td>\n",
              "      <td>-65.427750</td>\n",
              "      <td>-65.262238</td>\n",
              "      <td>-65.427750</td>\n",
              "      <td>-65.427750</td>\n",
              "      <td>-65.427750</td>\n",
              "      <td>-65.028061</td>\n",
              "      <td>-65.404816</td>\n",
              "      <td>-65.427750</td>\n",
              "      <td>-58.999565</td>\n",
              "      <td>...</td>\n",
              "      <td>-59.589638</td>\n",
              "      <td>-60.775871</td>\n",
              "      <td>-64.037216</td>\n",
              "      <td>-64.463974</td>\n",
              "      <td>-65.205452</td>\n",
              "      <td>-64.806198</td>\n",
              "      <td>-64.464417</td>\n",
              "      <td>-61.401047</td>\n",
              "      <td>-60.954880</td>\n",
              "      <td>-62.738766</td>\n",
              "    </tr>\n",
              "    <tr>\n",
              "      <th>6</th>\n",
              "      <td>-40.796883</td>\n",
              "      <td>-40.789669</td>\n",
              "      <td>-40.808334</td>\n",
              "      <td>-40.876545</td>\n",
              "      <td>-40.619694</td>\n",
              "      <td>-40.420124</td>\n",
              "      <td>-40.692852</td>\n",
              "      <td>-40.931232</td>\n",
              "      <td>-40.967266</td>\n",
              "      <td>-40.788017</td>\n",
              "      <td>...</td>\n",
              "      <td>-23.363060</td>\n",
              "      <td>-21.875114</td>\n",
              "      <td>-24.762779</td>\n",
              "      <td>-29.518728</td>\n",
              "      <td>-27.211124</td>\n",
              "      <td>-16.296978</td>\n",
              "      <td>-15.058404</td>\n",
              "      <td>-19.382408</td>\n",
              "      <td>-19.939528</td>\n",
              "      <td>-16.054724</td>\n",
              "    </tr>\n",
              "    <tr>\n",
              "      <th>13</th>\n",
              "      <td>-61.087765</td>\n",
              "      <td>-61.579689</td>\n",
              "      <td>-61.581135</td>\n",
              "      <td>-61.288517</td>\n",
              "      <td>-61.081558</td>\n",
              "      <td>-60.592163</td>\n",
              "      <td>-59.902767</td>\n",
              "      <td>-59.478203</td>\n",
              "      <td>-60.251793</td>\n",
              "      <td>-61.044437</td>\n",
              "      <td>...</td>\n",
              "      <td>-56.197617</td>\n",
              "      <td>-53.662632</td>\n",
              "      <td>-53.637329</td>\n",
              "      <td>-55.863945</td>\n",
              "      <td>-56.614754</td>\n",
              "      <td>-56.009781</td>\n",
              "      <td>-54.971310</td>\n",
              "      <td>-54.318119</td>\n",
              "      <td>-56.101624</td>\n",
              "      <td>-56.823063</td>\n",
              "    </tr>\n",
              "  </tbody>\n",
              "</table>\n",
              "<p>5 rows × 216 columns</p>\n",
              "</div>\n",
              "      <button class=\"colab-df-convert\" onclick=\"convertToInteractive('df-8e8b6b07-d282-47cf-b59a-7891105c4d2e')\"\n",
              "              title=\"Convert this dataframe to an interactive table.\"\n",
              "              style=\"display:none;\">\n",
              "        \n",
              "  <svg xmlns=\"http://www.w3.org/2000/svg\" height=\"24px\"viewBox=\"0 0 24 24\"\n",
              "       width=\"24px\">\n",
              "    <path d=\"M0 0h24v24H0V0z\" fill=\"none\"/>\n",
              "    <path d=\"M18.56 5.44l.94 2.06.94-2.06 2.06-.94-2.06-.94-.94-2.06-.94 2.06-2.06.94zm-11 1L8.5 8.5l.94-2.06 2.06-.94-2.06-.94L8.5 2.5l-.94 2.06-2.06.94zm10 10l.94 2.06.94-2.06 2.06-.94-2.06-.94-.94-2.06-.94 2.06-2.06.94z\"/><path d=\"M17.41 7.96l-1.37-1.37c-.4-.4-.92-.59-1.43-.59-.52 0-1.04.2-1.43.59L10.3 9.45l-7.72 7.72c-.78.78-.78 2.05 0 2.83L4 21.41c.39.39.9.59 1.41.59.51 0 1.02-.2 1.41-.59l7.78-7.78 2.81-2.81c.8-.78.8-2.07 0-2.86zM5.41 20L4 18.59l7.72-7.72 1.47 1.35L5.41 20z\"/>\n",
              "  </svg>\n",
              "      </button>\n",
              "      \n",
              "  <style>\n",
              "    .colab-df-container {\n",
              "      display:flex;\n",
              "      flex-wrap:wrap;\n",
              "      gap: 12px;\n",
              "    }\n",
              "\n",
              "    .colab-df-convert {\n",
              "      background-color: #E8F0FE;\n",
              "      border: none;\n",
              "      border-radius: 50%;\n",
              "      cursor: pointer;\n",
              "      display: none;\n",
              "      fill: #1967D2;\n",
              "      height: 32px;\n",
              "      padding: 0 0 0 0;\n",
              "      width: 32px;\n",
              "    }\n",
              "\n",
              "    .colab-df-convert:hover {\n",
              "      background-color: #E2EBFA;\n",
              "      box-shadow: 0px 1px 2px rgba(60, 64, 67, 0.3), 0px 1px 3px 1px rgba(60, 64, 67, 0.15);\n",
              "      fill: #174EA6;\n",
              "    }\n",
              "\n",
              "    [theme=dark] .colab-df-convert {\n",
              "      background-color: #3B4455;\n",
              "      fill: #D2E3FC;\n",
              "    }\n",
              "\n",
              "    [theme=dark] .colab-df-convert:hover {\n",
              "      background-color: #434B5C;\n",
              "      box-shadow: 0px 1px 3px 1px rgba(0, 0, 0, 0.15);\n",
              "      filter: drop-shadow(0px 1px 2px rgba(0, 0, 0, 0.3));\n",
              "      fill: #FFFFFF;\n",
              "    }\n",
              "  </style>\n",
              "\n",
              "      <script>\n",
              "        const buttonEl =\n",
              "          document.querySelector('#df-8e8b6b07-d282-47cf-b59a-7891105c4d2e button.colab-df-convert');\n",
              "        buttonEl.style.display =\n",
              "          google.colab.kernel.accessAllowed ? 'block' : 'none';\n",
              "\n",
              "        async function convertToInteractive(key) {\n",
              "          const element = document.querySelector('#df-8e8b6b07-d282-47cf-b59a-7891105c4d2e');\n",
              "          const dataTable =\n",
              "            await google.colab.kernel.invokeFunction('convertToInteractive',\n",
              "                                                     [key], {});\n",
              "          if (!dataTable) return;\n",
              "\n",
              "          const docLinkHtml = 'Like what you see? Visit the ' +\n",
              "            '<a target=\"_blank\" href=https://colab.research.google.com/notebooks/data_table.ipynb>data table notebook</a>'\n",
              "            + ' to learn more about interactive tables.';\n",
              "          element.innerHTML = '';\n",
              "          dataTable['output_type'] = 'display_data';\n",
              "          await google.colab.output.renderOutput(dataTable, element);\n",
              "          const docLink = document.createElement('div');\n",
              "          docLink.innerHTML = docLinkHtml;\n",
              "          element.appendChild(docLink);\n",
              "        }\n",
              "      </script>\n",
              "    </div>\n",
              "  </div>\n",
              "  "
            ]
          },
          "metadata": {},
          "execution_count": 74
        }
      ]
    },
    {
      "cell_type": "code",
      "source": [
        "testlabel = test.iloc[:, -1:]"
      ],
      "metadata": {
        "id": "4SQ8yvkSXBlf"
      },
      "execution_count": 75,
      "outputs": []
    },
    {
      "cell_type": "code",
      "source": [
        "from keras.utils import np_utils\n",
        "from sklearn.preprocessing import LabelEncoder\n",
        "\n",
        "X_train = np.array(trainfeatures)\n",
        "y_train = np.array(trainlabel)\n",
        "X_test = np.array(testfeatures)\n",
        "y_test = np.array(testlabel)\n",
        "\n",
        "lb = LabelEncoder()\n",
        "\n",
        "y_train = np_utils.to_categorical(lb.fit_transform(y_train))\n",
        "y_test = np_utils.to_categorical(lb.fit_transform(y_test))"
      ],
      "metadata": {
        "colab": {
          "base_uri": "https://localhost:8080/"
        },
        "id": "azxmu9ASXFOv",
        "outputId": "aeeddfb5-055b-467e-dcc6-33f092913297"
      },
      "execution_count": 76,
      "outputs": [
        {
          "output_type": "stream",
          "name": "stderr",
          "text": [
            "/usr/local/lib/python3.8/dist-packages/sklearn/preprocessing/_label.py:115: DataConversionWarning: A column-vector y was passed when a 1d array was expected. Please change the shape of y to (n_samples, ), for example using ravel().\n",
            "  y = column_or_1d(y, warn=True)\n"
          ]
        }
      ]
    },
    {
      "cell_type": "code",
      "source": [
        "y_train"
      ],
      "metadata": {
        "colab": {
          "base_uri": "https://localhost:8080/"
        },
        "id": "13p_9zWJXHJZ",
        "outputId": "6de19eaa-afa0-43b8-a4f8-0e047b8b18bd"
      },
      "execution_count": 77,
      "outputs": [
        {
          "output_type": "execute_result",
          "data": {
            "text/plain": [
              "array([[0., 0., 1., 0., 0.],\n",
              "       [0., 1., 0., 0., 0.],\n",
              "       [0., 0., 1., 0., 0.],\n",
              "       [0., 0., 1., 0., 0.],\n",
              "       [0., 0., 1., 0., 0.],\n",
              "       [1., 0., 0., 0., 0.],\n",
              "       [1., 0., 0., 0., 0.],\n",
              "       [0., 0., 0., 0., 1.],\n",
              "       [0., 1., 0., 0., 0.],\n",
              "       [1., 0., 0., 0., 0.],\n",
              "       [1., 0., 0., 0., 0.],\n",
              "       [0., 0., 0., 1., 0.],\n",
              "       [0., 1., 0., 0., 0.],\n",
              "       [0., 0., 0., 0., 1.],\n",
              "       [0., 0., 0., 1., 0.],\n",
              "       [0., 0., 0., 1., 0.],\n",
              "       [0., 0., 0., 1., 0.],\n",
              "       [0., 1., 0., 0., 0.],\n",
              "       [0., 1., 0., 0., 0.],\n",
              "       [0., 0., 0., 0., 1.],\n",
              "       [0., 1., 0., 0., 0.],\n",
              "       [1., 0., 0., 0., 0.],\n",
              "       [0., 0., 0., 0., 1.],\n",
              "       [0., 0., 0., 0., 1.],\n",
              "       [0., 0., 0., 1., 0.],\n",
              "       [0., 0., 1., 0., 0.],\n",
              "       [0., 0., 0., 0., 1.],\n",
              "       [0., 0., 1., 0., 0.],\n",
              "       [0., 1., 0., 0., 0.],\n",
              "       [0., 0., 0., 1., 0.],\n",
              "       [0., 0., 0., 0., 1.],\n",
              "       [0., 0., 0., 0., 1.],\n",
              "       [1., 0., 0., 0., 0.],\n",
              "       [0., 0., 0., 1., 0.],\n",
              "       [0., 1., 0., 0., 0.]], dtype=float32)"
            ]
          },
          "metadata": {},
          "execution_count": 77
        }
      ]
    },
    {
      "cell_type": "code",
      "source": [
        "X_train.shape"
      ],
      "metadata": {
        "colab": {
          "base_uri": "https://localhost:8080/"
        },
        "id": "vXHi-c8vXJHM",
        "outputId": "f1c60a50-90b9-4087-cd8e-1e1c54130f72"
      },
      "execution_count": 78,
      "outputs": [
        {
          "output_type": "execute_result",
          "data": {
            "text/plain": [
              "(35, 216)"
            ]
          },
          "metadata": {},
          "execution_count": 78
        }
      ]
    },
    {
      "cell_type": "markdown",
      "source": [
        "**Changing dimensions for CNN model**"
      ],
      "metadata": {
        "id": "X6KF6xBrXL9X"
      }
    },
    {
      "cell_type": "code",
      "source": [
        "x_traincnn =np.expand_dims(X_train, axis=2)\n",
        "x_testcnn= np.expand_dims(X_test, axis=2)"
      ],
      "metadata": {
        "id": "_AfGb_pHXKod"
      },
      "execution_count": 79,
      "outputs": []
    },
    {
      "cell_type": "code",
      "source": [
        "x_traincnn"
      ],
      "metadata": {
        "colab": {
          "base_uri": "https://localhost:8080/"
        },
        "id": "bwmVV35aY3t6",
        "outputId": "e80d6ac2-a051-4ccd-c40c-ab755b8d539a"
      },
      "execution_count": 80,
      "outputs": [
        {
          "output_type": "execute_result",
          "data": {
            "text/plain": [
              "array([[[-59.449753],\n",
              "        [-60.97631 ],\n",
              "        [-62.336704],\n",
              "        ...,\n",
              "        [-62.31964 ],\n",
              "        [-59.31334 ],\n",
              "        [-60.26567 ]],\n",
              "\n",
              "       [[-69.051476],\n",
              "        [-69.051476],\n",
              "        [-69.051476],\n",
              "        ...,\n",
              "        [-65.30859 ],\n",
              "        [-67.008865],\n",
              "        [-68.63649 ]],\n",
              "\n",
              "       [[-37.4982  ],\n",
              "        [-40.120876],\n",
              "        [-41.29917 ],\n",
              "        ...,\n",
              "        [-30.98387 ],\n",
              "        [-29.850712],\n",
              "        [-29.778206]],\n",
              "\n",
              "       ...,\n",
              "\n",
              "       [[-55.507534],\n",
              "        [-55.729652],\n",
              "        [-55.71684 ],\n",
              "        ...,\n",
              "        [-48.26309 ],\n",
              "        [-51.830585],\n",
              "        [-52.758736]],\n",
              "\n",
              "       [[-60.36923 ],\n",
              "        [-60.083897],\n",
              "        [-60.978966],\n",
              "        ...,\n",
              "        [-54.07337 ],\n",
              "        [-52.63996 ],\n",
              "        [-52.664593]],\n",
              "\n",
              "       [[-70.74667 ],\n",
              "        [-70.74667 ],\n",
              "        [-70.0256  ],\n",
              "        ...,\n",
              "        [-40.284622],\n",
              "        [-41.45613 ],\n",
              "        [-44.38417 ]]], dtype=float32)"
            ]
          },
          "metadata": {},
          "execution_count": 80
        }
      ]
    },
    {
      "cell_type": "code",
      "source": [
        "x_testcnn"
      ],
      "metadata": {
        "colab": {
          "base_uri": "https://localhost:8080/"
        },
        "id": "1w_sWCjYY7Xy",
        "outputId": "ee0c3167-d793-4199-b55a-0ff9c7c9fbbc"
      },
      "execution_count": 81,
      "outputs": [
        {
          "output_type": "execute_result",
          "data": {
            "text/plain": [
              "array([[[-63.523846],\n",
              "        [-63.523846],\n",
              "        [-63.523846],\n",
              "        ...,\n",
              "        [-48.274254],\n",
              "        [-49.745644],\n",
              "        [-50.473366]],\n",
              "\n",
              "       [[-55.624268],\n",
              "        [-55.624268],\n",
              "        [-55.5708  ],\n",
              "        ...,\n",
              "        [-41.592964],\n",
              "        [-45.737263],\n",
              "        [-42.882072]],\n",
              "\n",
              "       [[-65.42775 ],\n",
              "        [-65.42775 ],\n",
              "        [-65.26224 ],\n",
              "        ...,\n",
              "        [-61.401047],\n",
              "        [-60.95488 ],\n",
              "        [-62.738766]],\n",
              "\n",
              "       [[-40.796883],\n",
              "        [-40.78967 ],\n",
              "        [-40.808334],\n",
              "        ...,\n",
              "        [-19.382408],\n",
              "        [-19.939528],\n",
              "        [-16.054724]],\n",
              "\n",
              "       [[-61.087765],\n",
              "        [-61.57969 ],\n",
              "        [-61.581135],\n",
              "        ...,\n",
              "        [-54.31812 ],\n",
              "        [-56.101624],\n",
              "        [-56.823063]]], dtype=float32)"
            ]
          },
          "metadata": {},
          "execution_count": 81
        }
      ]
    },
    {
      "cell_type": "code",
      "source": [
        "print(\"x_traincnn shape: {}\".format(x_traincnn.shape))\n",
        "\n",
        "print(\"x_testcnn shape: {}\".format(x_testcnn.shape))"
      ],
      "metadata": {
        "colab": {
          "base_uri": "https://localhost:8080/"
        },
        "id": "ZDO1i6TiRjUG",
        "outputId": "4b8181b5-6b8d-4752-9969-2347a7e259da"
      },
      "execution_count": 82,
      "outputs": [
        {
          "output_type": "stream",
          "name": "stdout",
          "text": [
            "x_traincnn shape: (35, 216, 1)\n",
            "x_testcnn shape: (5, 216, 1)\n"
          ]
        }
      ]
    },
    {
      "cell_type": "code",
      "source": [
        "from tensorflow import keras\n",
        "#from keras import optimizers\n",
        "\n",
        "model = Sequential()\n",
        "\n",
        "model.add(Conv1D(256, 5,padding='same',\n",
        "                 input_shape=(216,1)))\n",
        "model.add(Activation('relu'))\n",
        "model.add(Conv1D(128, 5,padding='same'))\n",
        "model.add(Activation('relu'))\n",
        "model.add(Dropout(0.1))\n",
        "model.add(MaxPooling1D(pool_size=(8)))\n",
        "model.add(Conv1D(128, 5,padding='same',))\n",
        "model.add(Activation('relu'))\n",
        "#model.add(Conv1D(128, 5,padding='same',))\n",
        "#model.add(Activation('relu'))\n",
        "#model.add(Conv1D(128, 5,padding='same',))\n",
        "#model.add(Activation('relu'))\n",
        "#model.add(Dropout(0.2))\n",
        "model.add(Conv1D(128, 5,padding='same',))\n",
        "model.add(Activation('relu'))\n",
        "model.add(Flatten())\n",
        "model.add(Dense(10))\n",
        "model.add(Activation('softmax'))\n",
        "#opt = keras.optimizers.RMSprop(lr=0.00001, decay=1e-6)\n",
        "opt = keras.optimizers.legacy.Adam(lr=0.00001, decay=1e-6)"
      ],
      "metadata": {
        "colab": {
          "base_uri": "https://localhost:8080/"
        },
        "id": "SRyFN53PXP71",
        "outputId": "9a19c867-ca3a-41b1-e9cd-3c6d4cd3a457"
      },
      "execution_count": 83,
      "outputs": [
        {
          "output_type": "stream",
          "name": "stderr",
          "text": [
            "/usr/local/lib/python3.8/dist-packages/keras/optimizers/optimizer_v2/adam.py:117: UserWarning: The `lr` argument is deprecated, use `learning_rate` instead.\n",
            "  super().__init__(name, **kwargs)\n"
          ]
        }
      ]
    },
    {
      "cell_type": "code",
      "source": [
        "x_traincnn.shape"
      ],
      "metadata": {
        "colab": {
          "base_uri": "https://localhost:8080/"
        },
        "id": "gTuov93po3qd",
        "outputId": "737d35ab-f3ad-407b-ebc1-a19084520f34"
      },
      "execution_count": 84,
      "outputs": [
        {
          "output_type": "execute_result",
          "data": {
            "text/plain": [
              "(35, 216, 1)"
            ]
          },
          "metadata": {},
          "execution_count": 84
        }
      ]
    },
    {
      "cell_type": "code",
      "source": [
        "x_testcnn.shape"
      ],
      "metadata": {
        "colab": {
          "base_uri": "https://localhost:8080/"
        },
        "id": "CRzq1CSHo9CK",
        "outputId": "eddb410a-72f5-49a3-fa23-864c51dafea6"
      },
      "execution_count": 85,
      "outputs": [
        {
          "output_type": "execute_result",
          "data": {
            "text/plain": [
              "(5, 216, 1)"
            ]
          },
          "metadata": {},
          "execution_count": 85
        }
      ]
    },
    {
      "cell_type": "code",
      "source": [
        "model.summary()"
      ],
      "metadata": {
        "colab": {
          "base_uri": "https://localhost:8080/"
        },
        "id": "wncMLL7LXRbA",
        "outputId": "308b1f15-f7f7-4b14-8c2b-c9e4a2308f2f"
      },
      "execution_count": 86,
      "outputs": [
        {
          "output_type": "stream",
          "name": "stdout",
          "text": [
            "Model: \"sequential_1\"\n",
            "_________________________________________________________________\n",
            " Layer (type)                Output Shape              Param #   \n",
            "=================================================================\n",
            " conv1d_4 (Conv1D)           (None, 216, 256)          1536      \n",
            "                                                                 \n",
            " activation_5 (Activation)   (None, 216, 256)          0         \n",
            "                                                                 \n",
            " conv1d_5 (Conv1D)           (None, 216, 128)          163968    \n",
            "                                                                 \n",
            " activation_6 (Activation)   (None, 216, 128)          0         \n",
            "                                                                 \n",
            " dropout_1 (Dropout)         (None, 216, 128)          0         \n",
            "                                                                 \n",
            " max_pooling1d_1 (MaxPooling  (None, 27, 128)          0         \n",
            " 1D)                                                             \n",
            "                                                                 \n",
            " conv1d_6 (Conv1D)           (None, 27, 128)           82048     \n",
            "                                                                 \n",
            " activation_7 (Activation)   (None, 27, 128)           0         \n",
            "                                                                 \n",
            " conv1d_7 (Conv1D)           (None, 27, 128)           82048     \n",
            "                                                                 \n",
            " activation_8 (Activation)   (None, 27, 128)           0         \n",
            "                                                                 \n",
            " flatten_1 (Flatten)         (None, 3456)              0         \n",
            "                                                                 \n",
            " dense_1 (Dense)             (None, 10)                34570     \n",
            "                                                                 \n",
            " activation_9 (Activation)   (None, 10)                0         \n",
            "                                                                 \n",
            "=================================================================\n",
            "Total params: 364,170\n",
            "Trainable params: 364,170\n",
            "Non-trainable params: 0\n",
            "_________________________________________________________________\n"
          ]
        }
      ]
    },
    {
      "cell_type": "code",
      "source": [
        "model.compile(loss='categorical_crossentropy', optimizer=opt,metrics=['accuracy'])"
      ],
      "metadata": {
        "id": "UVnsAq30XTv0"
      },
      "execution_count": 87,
      "outputs": []
    },
    {
      "cell_type": "markdown",
      "source": [
        "**Removing training part to avoid long epochs list**"
      ],
      "metadata": {
        "id": "vagvgzBxYowE"
      }
    },
    {
      "cell_type": "code",
      "source": [
        "x_testcnn.shape"
      ],
      "metadata": {
        "colab": {
          "base_uri": "https://localhost:8080/"
        },
        "id": "IK_fXtPfcp4o",
        "outputId": "4b72db3f-e4c0-467e-b688-52b199682732"
      },
      "execution_count": 88,
      "outputs": [
        {
          "output_type": "execute_result",
          "data": {
            "text/plain": [
              "(5, 216, 1)"
            ]
          },
          "metadata": {},
          "execution_count": 88
        }
      ]
    },
    {
      "cell_type": "code",
      "source": [
        "x_testcnn"
      ],
      "metadata": {
        "colab": {
          "base_uri": "https://localhost:8080/"
        },
        "id": "qf4VRgBteyem",
        "outputId": "7598293a-a164-4227-c615-fa2f60ef68dd"
      },
      "execution_count": 89,
      "outputs": [
        {
          "output_type": "execute_result",
          "data": {
            "text/plain": [
              "array([[[-63.523846],\n",
              "        [-63.523846],\n",
              "        [-63.523846],\n",
              "        ...,\n",
              "        [-48.274254],\n",
              "        [-49.745644],\n",
              "        [-50.473366]],\n",
              "\n",
              "       [[-55.624268],\n",
              "        [-55.624268],\n",
              "        [-55.5708  ],\n",
              "        ...,\n",
              "        [-41.592964],\n",
              "        [-45.737263],\n",
              "        [-42.882072]],\n",
              "\n",
              "       [[-65.42775 ],\n",
              "        [-65.42775 ],\n",
              "        [-65.26224 ],\n",
              "        ...,\n",
              "        [-61.401047],\n",
              "        [-60.95488 ],\n",
              "        [-62.738766]],\n",
              "\n",
              "       [[-40.796883],\n",
              "        [-40.78967 ],\n",
              "        [-40.808334],\n",
              "        ...,\n",
              "        [-19.382408],\n",
              "        [-19.939528],\n",
              "        [-16.054724]],\n",
              "\n",
              "       [[-61.087765],\n",
              "        [-61.57969 ],\n",
              "        [-61.581135],\n",
              "        ...,\n",
              "        [-54.31812 ],\n",
              "        [-56.101624],\n",
              "        [-56.823063]]], dtype=float32)"
            ]
          },
          "metadata": {},
          "execution_count": 89
        }
      ]
    },
    {
      "cell_type": "code",
      "source": [
        "x_testcnn"
      ],
      "metadata": {
        "colab": {
          "base_uri": "https://localhost:8080/"
        },
        "id": "omO8rAI_zmfR",
        "outputId": "a274df0f-3834-4d12-8c8b-a4c50977851d"
      },
      "execution_count": 90,
      "outputs": [
        {
          "output_type": "execute_result",
          "data": {
            "text/plain": [
              "array([[[-63.523846],\n",
              "        [-63.523846],\n",
              "        [-63.523846],\n",
              "        ...,\n",
              "        [-48.274254],\n",
              "        [-49.745644],\n",
              "        [-50.473366]],\n",
              "\n",
              "       [[-55.624268],\n",
              "        [-55.624268],\n",
              "        [-55.5708  ],\n",
              "        ...,\n",
              "        [-41.592964],\n",
              "        [-45.737263],\n",
              "        [-42.882072]],\n",
              "\n",
              "       [[-65.42775 ],\n",
              "        [-65.42775 ],\n",
              "        [-65.26224 ],\n",
              "        ...,\n",
              "        [-61.401047],\n",
              "        [-60.95488 ],\n",
              "        [-62.738766]],\n",
              "\n",
              "       [[-40.796883],\n",
              "        [-40.78967 ],\n",
              "        [-40.808334],\n",
              "        ...,\n",
              "        [-19.382408],\n",
              "        [-19.939528],\n",
              "        [-16.054724]],\n",
              "\n",
              "       [[-61.087765],\n",
              "        [-61.57969 ],\n",
              "        [-61.581135],\n",
              "        ...,\n",
              "        [-54.31812 ],\n",
              "        [-56.101624],\n",
              "        [-56.823063]]], dtype=float32)"
            ]
          },
          "metadata": {},
          "execution_count": 90
        }
      ]
    },
    {
      "cell_type": "code",
      "source": [
        "x_testcnn.shape"
      ],
      "metadata": {
        "colab": {
          "base_uri": "https://localhost:8080/"
        },
        "id": "PrVAhix-zLa-",
        "outputId": "b444a477-e374-443a-b365-fbe275944265"
      },
      "execution_count": 91,
      "outputs": [
        {
          "output_type": "execute_result",
          "data": {
            "text/plain": [
              "(5, 216, 1)"
            ]
          },
          "metadata": {},
          "execution_count": 91
        }
      ]
    },
    {
      "cell_type": "code",
      "source": [
        "y_test.shape"
      ],
      "metadata": {
        "colab": {
          "base_uri": "https://localhost:8080/"
        },
        "id": "Uvi1ciA5cw2d",
        "outputId": "5838ef2f-eea8-45dc-b0da-e28d8458ae49"
      },
      "execution_count": 92,
      "outputs": [
        {
          "output_type": "execute_result",
          "data": {
            "text/plain": [
              "(5, 3)"
            ]
          },
          "metadata": {},
          "execution_count": 92
        }
      ]
    },
    {
      "cell_type": "code",
      "source": [
        "y_test"
      ],
      "metadata": {
        "colab": {
          "base_uri": "https://localhost:8080/"
        },
        "id": "5N4FT5URqOrK",
        "outputId": "fbd78ec1-b82f-404d-dd46-01ea3c049192"
      },
      "execution_count": 93,
      "outputs": [
        {
          "output_type": "execute_result",
          "data": {
            "text/plain": [
              "array([[0., 1., 0.],\n",
              "       [1., 0., 0.],\n",
              "       [0., 0., 1.],\n",
              "       [1., 0., 0.],\n",
              "       [0., 1., 0.]], dtype=float32)"
            ]
          },
          "metadata": {},
          "execution_count": 93
        }
      ]
    },
    {
      "cell_type": "code",
      "source": [
        "y_test.shape"
      ],
      "metadata": {
        "colab": {
          "base_uri": "https://localhost:8080/"
        },
        "id": "QvoBj98TqRQj",
        "outputId": "3178e355-9e18-45f3-e110-f6e176a5c7e7"
      },
      "execution_count": 94,
      "outputs": [
        {
          "output_type": "execute_result",
          "data": {
            "text/plain": [
              "(5, 3)"
            ]
          },
          "metadata": {},
          "execution_count": 94
        }
      ]
    },
    {
      "cell_type": "code",
      "source": [
        "model"
      ],
      "metadata": {
        "colab": {
          "base_uri": "https://localhost:8080/"
        },
        "id": "AZ5qyRBgOplQ",
        "outputId": "b475a7f0-6daa-4d44-a034-8492fd35628f"
      },
      "execution_count": 95,
      "outputs": [
        {
          "output_type": "execute_result",
          "data": {
            "text/plain": [
              "<keras.engine.sequential.Sequential at 0x7fdca82d2a90>"
            ]
          },
          "metadata": {},
          "execution_count": 95
        }
      ]
    },
    {
      "cell_type": "code",
      "source": [
        "print(\"x_testcnn shape: {}\".format(x_testcnn.shape))\n",
        "print(\"y_test shape: {}\".format(y_test.shape))"
      ],
      "metadata": {
        "colab": {
          "base_uri": "https://localhost:8080/"
        },
        "id": "e_PytpY4b-7A",
        "outputId": "cd9dbae8-ab03-4bcb-8cd4-91e6f180bb64"
      },
      "execution_count": 96,
      "outputs": [
        {
          "output_type": "stream",
          "name": "stdout",
          "text": [
            "x_testcnn shape: (5, 216, 1)\n",
            "y_test shape: (5, 3)\n"
          ]
        }
      ]
    },
    {
      "cell_type": "code",
      "source": [
        "cnnhistory = model.fit(x_traincnn, y_train, batch_size=16, epochs=700, validation_data=(x_testcnn, y_test))"
      ],
      "metadata": {
        "colab": {
          "base_uri": "https://localhost:8080/",
          "height": 745
        },
        "id": "BPDJwtERQOPI",
        "outputId": "cf2af6df-dc9a-4121-ca1a-00c3850da6c3"
      },
      "execution_count": 97,
      "outputs": [
        {
          "output_type": "stream",
          "name": "stdout",
          "text": [
            "Epoch 1/700\n"
          ]
        },
        {
          "output_type": "error",
          "ename": "ValueError",
          "evalue": "ignored",
          "traceback": [
            "\u001b[0;31m---------------------------------------------------------------------------\u001b[0m",
            "\u001b[0;31mValueError\u001b[0m                                Traceback (most recent call last)",
            "\u001b[0;32m<ipython-input-97-bd5fc6744319>\u001b[0m in \u001b[0;36m<module>\u001b[0;34m\u001b[0m\n\u001b[0;32m----> 1\u001b[0;31m \u001b[0mcnnhistory\u001b[0m \u001b[0;34m=\u001b[0m \u001b[0mmodel\u001b[0m\u001b[0;34m.\u001b[0m\u001b[0mfit\u001b[0m\u001b[0;34m(\u001b[0m\u001b[0mx_traincnn\u001b[0m\u001b[0;34m,\u001b[0m \u001b[0my_train\u001b[0m\u001b[0;34m,\u001b[0m \u001b[0mbatch_size\u001b[0m\u001b[0;34m=\u001b[0m\u001b[0;36m16\u001b[0m\u001b[0;34m,\u001b[0m \u001b[0mepochs\u001b[0m\u001b[0;34m=\u001b[0m\u001b[0;36m700\u001b[0m\u001b[0;34m,\u001b[0m \u001b[0mvalidation_data\u001b[0m\u001b[0;34m=\u001b[0m\u001b[0;34m(\u001b[0m\u001b[0mx_testcnn\u001b[0m\u001b[0;34m,\u001b[0m \u001b[0my_test\u001b[0m\u001b[0;34m)\u001b[0m\u001b[0;34m)\u001b[0m\u001b[0;34m\u001b[0m\u001b[0;34m\u001b[0m\u001b[0m\n\u001b[0m",
            "\u001b[0;32m/usr/local/lib/python3.8/dist-packages/keras/utils/traceback_utils.py\u001b[0m in \u001b[0;36merror_handler\u001b[0;34m(*args, **kwargs)\u001b[0m\n\u001b[1;32m     68\u001b[0m             \u001b[0;31m# To get the full stack trace, call:\u001b[0m\u001b[0;34m\u001b[0m\u001b[0;34m\u001b[0m\u001b[0;34m\u001b[0m\u001b[0m\n\u001b[1;32m     69\u001b[0m             \u001b[0;31m# `tf.debugging.disable_traceback_filtering()`\u001b[0m\u001b[0;34m\u001b[0m\u001b[0;34m\u001b[0m\u001b[0;34m\u001b[0m\u001b[0m\n\u001b[0;32m---> 70\u001b[0;31m             \u001b[0;32mraise\u001b[0m \u001b[0me\u001b[0m\u001b[0;34m.\u001b[0m\u001b[0mwith_traceback\u001b[0m\u001b[0;34m(\u001b[0m\u001b[0mfiltered_tb\u001b[0m\u001b[0;34m)\u001b[0m \u001b[0;32mfrom\u001b[0m \u001b[0;32mNone\u001b[0m\u001b[0;34m\u001b[0m\u001b[0;34m\u001b[0m\u001b[0m\n\u001b[0m\u001b[1;32m     71\u001b[0m         \u001b[0;32mfinally\u001b[0m\u001b[0;34m:\u001b[0m\u001b[0;34m\u001b[0m\u001b[0;34m\u001b[0m\u001b[0m\n\u001b[1;32m     72\u001b[0m             \u001b[0;32mdel\u001b[0m \u001b[0mfiltered_tb\u001b[0m\u001b[0;34m\u001b[0m\u001b[0;34m\u001b[0m\u001b[0m\n",
            "\u001b[0;32m/usr/local/lib/python3.8/dist-packages/keras/engine/training.py\u001b[0m in \u001b[0;36mtf__train_function\u001b[0;34m(iterator)\u001b[0m\n\u001b[1;32m     13\u001b[0m                 \u001b[0;32mtry\u001b[0m\u001b[0;34m:\u001b[0m\u001b[0;34m\u001b[0m\u001b[0;34m\u001b[0m\u001b[0m\n\u001b[1;32m     14\u001b[0m                     \u001b[0mdo_return\u001b[0m \u001b[0;34m=\u001b[0m \u001b[0;32mTrue\u001b[0m\u001b[0;34m\u001b[0m\u001b[0;34m\u001b[0m\u001b[0m\n\u001b[0;32m---> 15\u001b[0;31m                     \u001b[0mretval_\u001b[0m \u001b[0;34m=\u001b[0m \u001b[0mag__\u001b[0m\u001b[0;34m.\u001b[0m\u001b[0mconverted_call\u001b[0m\u001b[0;34m(\u001b[0m\u001b[0mag__\u001b[0m\u001b[0;34m.\u001b[0m\u001b[0mld\u001b[0m\u001b[0;34m(\u001b[0m\u001b[0mstep_function\u001b[0m\u001b[0;34m)\u001b[0m\u001b[0;34m,\u001b[0m \u001b[0;34m(\u001b[0m\u001b[0mag__\u001b[0m\u001b[0;34m.\u001b[0m\u001b[0mld\u001b[0m\u001b[0;34m(\u001b[0m\u001b[0mself\u001b[0m\u001b[0;34m)\u001b[0m\u001b[0;34m,\u001b[0m \u001b[0mag__\u001b[0m\u001b[0;34m.\u001b[0m\u001b[0mld\u001b[0m\u001b[0;34m(\u001b[0m\u001b[0miterator\u001b[0m\u001b[0;34m)\u001b[0m\u001b[0;34m)\u001b[0m\u001b[0;34m,\u001b[0m \u001b[0;32mNone\u001b[0m\u001b[0;34m,\u001b[0m \u001b[0mfscope\u001b[0m\u001b[0;34m)\u001b[0m\u001b[0;34m\u001b[0m\u001b[0;34m\u001b[0m\u001b[0m\n\u001b[0m\u001b[1;32m     16\u001b[0m                 \u001b[0;32mexcept\u001b[0m\u001b[0;34m:\u001b[0m\u001b[0;34m\u001b[0m\u001b[0;34m\u001b[0m\u001b[0m\n\u001b[1;32m     17\u001b[0m                     \u001b[0mdo_return\u001b[0m \u001b[0;34m=\u001b[0m \u001b[0;32mFalse\u001b[0m\u001b[0;34m\u001b[0m\u001b[0;34m\u001b[0m\u001b[0m\n",
            "\u001b[0;31mValueError\u001b[0m: in user code:\n\n    File \"/usr/local/lib/python3.8/dist-packages/keras/engine/training.py\", line 1249, in train_function  *\n        return step_function(self, iterator)\n    File \"/usr/local/lib/python3.8/dist-packages/keras/engine/training.py\", line 1233, in step_function  **\n        outputs = model.distribute_strategy.run(run_step, args=(data,))\n    File \"/usr/local/lib/python3.8/dist-packages/keras/engine/training.py\", line 1222, in run_step  **\n        outputs = model.train_step(data)\n    File \"/usr/local/lib/python3.8/dist-packages/keras/engine/training.py\", line 1024, in train_step\n        loss = self.compute_loss(x, y, y_pred, sample_weight)\n    File \"/usr/local/lib/python3.8/dist-packages/keras/engine/training.py\", line 1082, in compute_loss\n        return self.compiled_loss(\n    File \"/usr/local/lib/python3.8/dist-packages/keras/engine/compile_utils.py\", line 265, in __call__\n        loss_value = loss_obj(y_t, y_p, sample_weight=sw)\n    File \"/usr/local/lib/python3.8/dist-packages/keras/losses.py\", line 152, in __call__\n        losses = call_fn(y_true, y_pred)\n    File \"/usr/local/lib/python3.8/dist-packages/keras/losses.py\", line 284, in call  **\n        return ag_fn(y_true, y_pred, **self._fn_kwargs)\n    File \"/usr/local/lib/python3.8/dist-packages/keras/losses.py\", line 2004, in categorical_crossentropy\n        return backend.categorical_crossentropy(\n    File \"/usr/local/lib/python3.8/dist-packages/keras/backend.py\", line 5532, in categorical_crossentropy\n        target.shape.assert_is_compatible_with(output.shape)\n\n    ValueError: Shapes (None, 5) and (None, 10) are incompatible\n"
          ]
        }
      ]
    },
    {
      "cell_type": "code",
      "source": [
        "plt.plot(cnnhistory.history['loss'])\n",
        "plt.plot(cnnhistory.history['val_loss'])\n",
        "plt.title('model loss')\n",
        "plt.ylabel('loss')\n",
        "plt.xlabel('epoch')\n",
        "plt.legend(['train', 'test'], loc='upper left')\n",
        "plt.show()"
      ],
      "metadata": {
        "colab": {
          "base_uri": "https://localhost:8080/",
          "height": 240
        },
        "id": "BoOwA2frYwHq",
        "outputId": "cfb38d8f-aab9-4584-ed60-de5866ad082d"
      },
      "execution_count": 87,
      "outputs": [
        {
          "output_type": "error",
          "ename": "NameError",
          "evalue": "ignored",
          "traceback": [
            "\u001b[0;31m---------------------------------------------------------------------------\u001b[0m",
            "\u001b[0;31mNameError\u001b[0m                                 Traceback (most recent call last)",
            "\u001b[0;32m<ipython-input-87-19928e0d98c9>\u001b[0m in \u001b[0;36m<module>\u001b[0;34m\u001b[0m\n\u001b[0;32m----> 1\u001b[0;31m \u001b[0mplt\u001b[0m\u001b[0;34m.\u001b[0m\u001b[0mplot\u001b[0m\u001b[0;34m(\u001b[0m\u001b[0mcnnhistory\u001b[0m\u001b[0;34m.\u001b[0m\u001b[0mhistory\u001b[0m\u001b[0;34m[\u001b[0m\u001b[0;34m'loss'\u001b[0m\u001b[0;34m]\u001b[0m\u001b[0;34m)\u001b[0m\u001b[0;34m\u001b[0m\u001b[0;34m\u001b[0m\u001b[0m\n\u001b[0m\u001b[1;32m      2\u001b[0m \u001b[0mplt\u001b[0m\u001b[0;34m.\u001b[0m\u001b[0mplot\u001b[0m\u001b[0;34m(\u001b[0m\u001b[0mcnnhistory\u001b[0m\u001b[0;34m.\u001b[0m\u001b[0mhistory\u001b[0m\u001b[0;34m[\u001b[0m\u001b[0;34m'val_loss'\u001b[0m\u001b[0;34m]\u001b[0m\u001b[0;34m)\u001b[0m\u001b[0;34m\u001b[0m\u001b[0;34m\u001b[0m\u001b[0m\n\u001b[1;32m      3\u001b[0m \u001b[0mplt\u001b[0m\u001b[0;34m.\u001b[0m\u001b[0mtitle\u001b[0m\u001b[0;34m(\u001b[0m\u001b[0;34m'model loss'\u001b[0m\u001b[0;34m)\u001b[0m\u001b[0;34m\u001b[0m\u001b[0;34m\u001b[0m\u001b[0m\n\u001b[1;32m      4\u001b[0m \u001b[0mplt\u001b[0m\u001b[0;34m.\u001b[0m\u001b[0mylabel\u001b[0m\u001b[0;34m(\u001b[0m\u001b[0;34m'loss'\u001b[0m\u001b[0;34m)\u001b[0m\u001b[0;34m\u001b[0m\u001b[0;34m\u001b[0m\u001b[0m\n\u001b[1;32m      5\u001b[0m \u001b[0mplt\u001b[0m\u001b[0;34m.\u001b[0m\u001b[0mxlabel\u001b[0m\u001b[0;34m(\u001b[0m\u001b[0;34m'epoch'\u001b[0m\u001b[0;34m)\u001b[0m\u001b[0;34m\u001b[0m\u001b[0;34m\u001b[0m\u001b[0m\n",
            "\u001b[0;31mNameError\u001b[0m: name 'cnnhistory' is not defined"
          ]
        }
      ]
    },
    {
      "cell_type": "markdown",
      "source": [
        "**Saving the Model**"
      ],
      "metadata": {
        "id": "u-_il1n5jeJ0"
      }
    },
    {
      "cell_type": "code",
      "source": [
        "model_name = 'Emotion_Voice_Detection_Model.h5'\n",
        "save_dir = os.path.join(os.getcwd(), 'saved_models')\n",
        "# Save model and weights\n",
        "if not os.path.isdir(save_dir):\n",
        "    os.makedirs(save_dir)\n",
        "model_path = os.path.join(save_dir, model_name)\n",
        "model.save(model_path)\n",
        "print('Saved trained model at %s ' % model_path)"
      ],
      "metadata": {
        "colab": {
          "base_uri": "https://localhost:8080/"
        },
        "id": "7NHxbT0UeRde",
        "outputId": "cb8bdb9b-e6bd-4a63-c0eb-b041367f3783"
      },
      "execution_count": 51,
      "outputs": [
        {
          "output_type": "stream",
          "name": "stdout",
          "text": [
            "Saved trained model at /content/saved_models/Emotion_Voice_Detection_Model.h5 \n"
          ]
        }
      ]
    },
    {
      "cell_type": "code",
      "source": [
        "import json\n",
        "model_json = model.to_json()\n",
        "with open(\"model.json\", \"w\") as json_file:\n",
        "    json_file.write(model_json)"
      ],
      "metadata": {
        "id": "fZ-HoLAvjjPf"
      },
      "execution_count": 52,
      "outputs": []
    },
    {
      "cell_type": "markdown",
      "source": [
        "**Load the model**"
      ],
      "metadata": {
        "id": "pYJvHMgsjnty"
      }
    },
    {
      "cell_type": "code",
      "source": [
        "# loading json and creating model\n",
        "from keras.models import model_from_json\n",
        "json_file = open('model.json', 'r')\n",
        "loaded_model_json = json_file.read()\n",
        "json_file.close()\n",
        "loaded_model = model_from_json(loaded_model_json)\n",
        "# load weights into new model\n",
        "loaded_model.load_weights(\"saved_models/Emotion_Voice_Detection_Model.h5\")\n",
        "print(\"Loaded model from disk\")\n",
        " \n",
        "# evaluate loaded model on test data\n",
        "loaded_model.compile(loss='categorical_crossentropy', optimizer=opt, metrics=['accuracy'])\n",
        "score = loaded_model.evaluate(x_testcnn, y_test, verbose=0)\n",
        "print(\"%s: %.2f%%\" % (loaded_model.metrics_names[1], score[1]*100))"
      ],
      "metadata": {
        "colab": {
          "base_uri": "https://localhost:8080/",
          "height": 799
        },
        "id": "ux4sjyQPjnah",
        "outputId": "36a0db39-e581-45f4-95ba-8ef6dea2f92d"
      },
      "execution_count": 53,
      "outputs": [
        {
          "output_type": "stream",
          "name": "stdout",
          "text": [
            "Loaded model from disk\n"
          ]
        },
        {
          "output_type": "error",
          "ename": "ValueError",
          "evalue": "ignored",
          "traceback": [
            "\u001b[0;31m---------------------------------------------------------------------------\u001b[0m",
            "\u001b[0;31mValueError\u001b[0m                                Traceback (most recent call last)",
            "\u001b[0;32m<ipython-input-53-b1466ac52bb8>\u001b[0m in \u001b[0;36m<module>\u001b[0;34m\u001b[0m\n\u001b[1;32m     11\u001b[0m \u001b[0;31m# evaluate loaded model on test data\u001b[0m\u001b[0;34m\u001b[0m\u001b[0;34m\u001b[0m\u001b[0;34m\u001b[0m\u001b[0m\n\u001b[1;32m     12\u001b[0m \u001b[0mloaded_model\u001b[0m\u001b[0;34m.\u001b[0m\u001b[0mcompile\u001b[0m\u001b[0;34m(\u001b[0m\u001b[0mloss\u001b[0m\u001b[0;34m=\u001b[0m\u001b[0;34m'categorical_crossentropy'\u001b[0m\u001b[0;34m,\u001b[0m \u001b[0moptimizer\u001b[0m\u001b[0;34m=\u001b[0m\u001b[0mopt\u001b[0m\u001b[0;34m,\u001b[0m \u001b[0mmetrics\u001b[0m\u001b[0;34m=\u001b[0m\u001b[0;34m[\u001b[0m\u001b[0;34m'accuracy'\u001b[0m\u001b[0;34m]\u001b[0m\u001b[0;34m)\u001b[0m\u001b[0;34m\u001b[0m\u001b[0;34m\u001b[0m\u001b[0m\n\u001b[0;32m---> 13\u001b[0;31m \u001b[0mscore\u001b[0m \u001b[0;34m=\u001b[0m \u001b[0mloaded_model\u001b[0m\u001b[0;34m.\u001b[0m\u001b[0mevaluate\u001b[0m\u001b[0;34m(\u001b[0m\u001b[0mx_testcnn\u001b[0m\u001b[0;34m,\u001b[0m \u001b[0my_test\u001b[0m\u001b[0;34m,\u001b[0m \u001b[0mverbose\u001b[0m\u001b[0;34m=\u001b[0m\u001b[0;36m0\u001b[0m\u001b[0;34m)\u001b[0m\u001b[0;34m\u001b[0m\u001b[0;34m\u001b[0m\u001b[0m\n\u001b[0m\u001b[1;32m     14\u001b[0m \u001b[0mprint\u001b[0m\u001b[0;34m(\u001b[0m\u001b[0;34m\"%s: %.2f%%\"\u001b[0m \u001b[0;34m%\u001b[0m \u001b[0;34m(\u001b[0m\u001b[0mloaded_model\u001b[0m\u001b[0;34m.\u001b[0m\u001b[0mmetrics_names\u001b[0m\u001b[0;34m[\u001b[0m\u001b[0;36m1\u001b[0m\u001b[0;34m]\u001b[0m\u001b[0;34m,\u001b[0m \u001b[0mscore\u001b[0m\u001b[0;34m[\u001b[0m\u001b[0;36m1\u001b[0m\u001b[0;34m]\u001b[0m\u001b[0;34m*\u001b[0m\u001b[0;36m100\u001b[0m\u001b[0;34m)\u001b[0m\u001b[0;34m)\u001b[0m\u001b[0;34m\u001b[0m\u001b[0;34m\u001b[0m\u001b[0m\n",
            "\u001b[0;32m/usr/local/lib/python3.8/dist-packages/keras/utils/traceback_utils.py\u001b[0m in \u001b[0;36merror_handler\u001b[0;34m(*args, **kwargs)\u001b[0m\n\u001b[1;32m     68\u001b[0m             \u001b[0;31m# To get the full stack trace, call:\u001b[0m\u001b[0;34m\u001b[0m\u001b[0;34m\u001b[0m\u001b[0;34m\u001b[0m\u001b[0m\n\u001b[1;32m     69\u001b[0m             \u001b[0;31m# `tf.debugging.disable_traceback_filtering()`\u001b[0m\u001b[0;34m\u001b[0m\u001b[0;34m\u001b[0m\u001b[0;34m\u001b[0m\u001b[0m\n\u001b[0;32m---> 70\u001b[0;31m             \u001b[0;32mraise\u001b[0m \u001b[0me\u001b[0m\u001b[0;34m.\u001b[0m\u001b[0mwith_traceback\u001b[0m\u001b[0;34m(\u001b[0m\u001b[0mfiltered_tb\u001b[0m\u001b[0;34m)\u001b[0m \u001b[0;32mfrom\u001b[0m \u001b[0;32mNone\u001b[0m\u001b[0;34m\u001b[0m\u001b[0;34m\u001b[0m\u001b[0m\n\u001b[0m\u001b[1;32m     71\u001b[0m         \u001b[0;32mfinally\u001b[0m\u001b[0;34m:\u001b[0m\u001b[0;34m\u001b[0m\u001b[0;34m\u001b[0m\u001b[0m\n\u001b[1;32m     72\u001b[0m             \u001b[0;32mdel\u001b[0m \u001b[0mfiltered_tb\u001b[0m\u001b[0;34m\u001b[0m\u001b[0;34m\u001b[0m\u001b[0m\n",
            "\u001b[0;32m/usr/local/lib/python3.8/dist-packages/keras/engine/training.py\u001b[0m in \u001b[0;36mtf__test_function\u001b[0;34m(iterator)\u001b[0m\n\u001b[1;32m     13\u001b[0m                 \u001b[0;32mtry\u001b[0m\u001b[0;34m:\u001b[0m\u001b[0;34m\u001b[0m\u001b[0;34m\u001b[0m\u001b[0m\n\u001b[1;32m     14\u001b[0m                     \u001b[0mdo_return\u001b[0m \u001b[0;34m=\u001b[0m \u001b[0;32mTrue\u001b[0m\u001b[0;34m\u001b[0m\u001b[0;34m\u001b[0m\u001b[0m\n\u001b[0;32m---> 15\u001b[0;31m                     \u001b[0mretval_\u001b[0m \u001b[0;34m=\u001b[0m \u001b[0mag__\u001b[0m\u001b[0;34m.\u001b[0m\u001b[0mconverted_call\u001b[0m\u001b[0;34m(\u001b[0m\u001b[0mag__\u001b[0m\u001b[0;34m.\u001b[0m\u001b[0mld\u001b[0m\u001b[0;34m(\u001b[0m\u001b[0mstep_function\u001b[0m\u001b[0;34m)\u001b[0m\u001b[0;34m,\u001b[0m \u001b[0;34m(\u001b[0m\u001b[0mag__\u001b[0m\u001b[0;34m.\u001b[0m\u001b[0mld\u001b[0m\u001b[0;34m(\u001b[0m\u001b[0mself\u001b[0m\u001b[0;34m)\u001b[0m\u001b[0;34m,\u001b[0m \u001b[0mag__\u001b[0m\u001b[0;34m.\u001b[0m\u001b[0mld\u001b[0m\u001b[0;34m(\u001b[0m\u001b[0miterator\u001b[0m\u001b[0;34m)\u001b[0m\u001b[0;34m)\u001b[0m\u001b[0;34m,\u001b[0m \u001b[0;32mNone\u001b[0m\u001b[0;34m,\u001b[0m \u001b[0mfscope\u001b[0m\u001b[0;34m)\u001b[0m\u001b[0;34m\u001b[0m\u001b[0;34m\u001b[0m\u001b[0m\n\u001b[0m\u001b[1;32m     16\u001b[0m                 \u001b[0;32mexcept\u001b[0m\u001b[0;34m:\u001b[0m\u001b[0;34m\u001b[0m\u001b[0;34m\u001b[0m\u001b[0m\n\u001b[1;32m     17\u001b[0m                     \u001b[0mdo_return\u001b[0m \u001b[0;34m=\u001b[0m \u001b[0;32mFalse\u001b[0m\u001b[0;34m\u001b[0m\u001b[0;34m\u001b[0m\u001b[0m\n",
            "\u001b[0;31mValueError\u001b[0m: in user code:\n\n    File \"/usr/local/lib/python3.8/dist-packages/keras/engine/training.py\", line 1820, in test_function  *\n        return step_function(self, iterator)\n    File \"/usr/local/lib/python3.8/dist-packages/keras/engine/training.py\", line 1804, in step_function  **\n        outputs = model.distribute_strategy.run(run_step, args=(data,))\n    File \"/usr/local/lib/python3.8/dist-packages/keras/engine/training.py\", line 1792, in run_step  **\n        outputs = model.test_step(data)\n    File \"/usr/local/lib/python3.8/dist-packages/keras/engine/training.py\", line 1758, in test_step\n        self.compute_loss(x, y, y_pred, sample_weight)\n    File \"/usr/local/lib/python3.8/dist-packages/keras/engine/training.py\", line 1082, in compute_loss\n        return self.compiled_loss(\n    File \"/usr/local/lib/python3.8/dist-packages/keras/engine/compile_utils.py\", line 265, in __call__\n        loss_value = loss_obj(y_t, y_p, sample_weight=sw)\n    File \"/usr/local/lib/python3.8/dist-packages/keras/losses.py\", line 152, in __call__\n        losses = call_fn(y_true, y_pred)\n    File \"/usr/local/lib/python3.8/dist-packages/keras/losses.py\", line 284, in call  **\n        return ag_fn(y_true, y_pred, **self._fn_kwargs)\n    File \"/usr/local/lib/python3.8/dist-packages/keras/losses.py\", line 2004, in categorical_crossentropy\n        return backend.categorical_crossentropy(\n    File \"/usr/local/lib/python3.8/dist-packages/keras/backend.py\", line 5532, in categorical_crossentropy\n        target.shape.assert_is_compatible_with(output.shape)\n\n    ValueError: Shapes (None, 4) and (None, 10) are incompatible\n"
          ]
        }
      ]
    },
    {
      "cell_type": "markdown",
      "source": [
        "**Predicting emotions on the test dataset**"
      ],
      "metadata": {
        "id": "M4c3p9Ukjr7G"
      }
    },
    {
      "cell_type": "code",
      "source": [
        "preds = loaded_model.predict(x_testcnn, \n",
        "                         batch_size=32, \n",
        "                         verbose=1)"
      ],
      "metadata": {
        "colab": {
          "base_uri": "https://localhost:8080/",
          "height": 205
        },
        "id": "1Jqg2fG2j0I0",
        "outputId": "2c4f4103-2290-4cb5-c3d9-84afa5c07ffb"
      },
      "execution_count": 97,
      "outputs": [
        {
          "output_type": "error",
          "ename": "NameError",
          "evalue": "ignored",
          "traceback": [
            "\u001b[0;31m---------------------------------------------------------------------------\u001b[0m",
            "\u001b[0;31mNameError\u001b[0m                                 Traceback (most recent call last)",
            "\u001b[0;32m<ipython-input-97-acc875209841>\u001b[0m in \u001b[0;36m<module>\u001b[0;34m\u001b[0m\n\u001b[0;32m----> 1\u001b[0;31m preds = loaded_model.predict(x_testcnn, \n\u001b[0m\u001b[1;32m      2\u001b[0m                          \u001b[0mbatch_size\u001b[0m\u001b[0;34m=\u001b[0m\u001b[0;36m32\u001b[0m\u001b[0;34m,\u001b[0m\u001b[0;34m\u001b[0m\u001b[0;34m\u001b[0m\u001b[0m\n\u001b[1;32m      3\u001b[0m                          verbose=1)\n",
            "\u001b[0;31mNameError\u001b[0m: name 'loaded_model' is not defined"
          ]
        }
      ]
    },
    {
      "cell_type": "code",
      "source": [
        "preds"
      ],
      "metadata": {
        "id": "pGykFwSvj1eu"
      },
      "execution_count": null,
      "outputs": []
    },
    {
      "cell_type": "code",
      "source": [
        "preds1=preds.argmax(axis=1)"
      ],
      "metadata": {
        "id": "dZDRM6Fij3E2"
      },
      "execution_count": null,
      "outputs": []
    },
    {
      "cell_type": "code",
      "source": [
        "preds1"
      ],
      "metadata": {
        "id": "NJ4Prh4aj5NV"
      },
      "execution_count": null,
      "outputs": []
    },
    {
      "cell_type": "code",
      "source": [
        "abc = preds1.astype(int).flatten()"
      ],
      "metadata": {
        "id": "S6wI6Tovj7wZ"
      },
      "execution_count": null,
      "outputs": []
    },
    {
      "cell_type": "code",
      "source": [
        "predictions = (lb.inverse_transform((abc)))"
      ],
      "metadata": {
        "id": "Vt8iZem6j88a"
      },
      "execution_count": null,
      "outputs": []
    },
    {
      "cell_type": "code",
      "source": [
        "preddf = pd.DataFrame({'predictedvalues': predictions})\n",
        "preddf[:10]"
      ],
      "metadata": {
        "id": "A9rd5ITIkAdj"
      },
      "execution_count": null,
      "outputs": []
    },
    {
      "cell_type": "code",
      "source": [
        "actual=y_test.argmax(axis=1)\n",
        "abc123 = actual.astype(int).flatten()\n",
        "actualvalues = (lb.inverse_transform((abc123)))"
      ],
      "metadata": {
        "id": "B28WkKk4kB9T"
      },
      "execution_count": null,
      "outputs": []
    },
    {
      "cell_type": "code",
      "source": [
        "actualdf = pd.DataFrame({'actualvalues': actualvalues})\n",
        "actualdf[:10]"
      ],
      "metadata": {
        "id": "FXGwnGFgkDZy"
      },
      "execution_count": null,
      "outputs": []
    },
    {
      "cell_type": "code",
      "source": [
        "finaldf = actualdf.join(preddf)"
      ],
      "metadata": {
        "id": "t4_z1CUokFXu"
      },
      "execution_count": null,
      "outputs": []
    },
    {
      "cell_type": "markdown",
      "source": [
        "**Actual vs Predicted Emotions**"
      ],
      "metadata": {
        "id": "dLff3aBakGqi"
      }
    },
    {
      "cell_type": "code",
      "source": [
        "finaldf[170:180]"
      ],
      "metadata": {
        "id": "dBwLH2nKkJaV"
      },
      "execution_count": null,
      "outputs": []
    },
    {
      "cell_type": "code",
      "source": [
        "finaldf.groupby('actualvalues').count()"
      ],
      "metadata": {
        "id": "JYTj_iRAkM1C"
      },
      "execution_count": null,
      "outputs": []
    },
    {
      "cell_type": "code",
      "source": [
        "finaldf.groupby('predictedvalues').count()"
      ],
      "metadata": {
        "id": "kvHROz2skOoe"
      },
      "execution_count": null,
      "outputs": []
    },
    {
      "cell_type": "code",
      "source": [
        "finaldf.to_csv('Predictions.csv', index=False)"
      ],
      "metadata": {
        "id": "iQWUAYIlkREK"
      },
      "execution_count": null,
      "outputs": []
    },
    {
      "cell_type": "markdown",
      "source": [
        "**Predicting emotions for Sun Life Financials**"
      ],
      "metadata": {
        "id": "GgHbVKkWkTz7"
      }
    },
    {
      "cell_type": "code",
      "source": [
        "data, sampling_rate = librosa.load('output10.wav') # change the .wav file"
      ],
      "metadata": {
        "id": "OQ_rYymAkSqR"
      },
      "execution_count": null,
      "outputs": []
    },
    {
      "cell_type": "code",
      "source": [
        "import os\n",
        "import pandas as pd\n",
        "import librosa\n",
        "import glob \n",
        "\n",
        "plt.figure(figsize=(15, 5))\n",
        "librosa.display.waveplot(data, sr=sampling_rate)"
      ],
      "metadata": {
        "id": "bEKwXilckfJN"
      },
      "execution_count": null,
      "outputs": []
    },
    {
      "cell_type": "code",
      "source": [
        "#livedf= pd.DataFrame(columns=['feature'])\n",
        "X, sample_rate = librosa.load('output10.wav', res_type='kaiser_fast',duration=2.5,sr=22050*2,offset=0.5)\n",
        "sample_rate = np.array(sample_rate)\n",
        "mfccs = np.mean(librosa.feature.mfcc(y=X, sr=sample_rate, n_mfcc=13),axis=0)\n",
        "featurelive = mfccs\n",
        "livedf2 = featurelive"
      ],
      "metadata": {
        "id": "dGLHDzxBkhXZ"
      },
      "execution_count": null,
      "outputs": []
    },
    {
      "cell_type": "code",
      "source": [
        "livedf2= pd.DataFrame(data=livedf2)"
      ],
      "metadata": {
        "id": "qiLZeMmikjso"
      },
      "execution_count": null,
      "outputs": []
    },
    {
      "cell_type": "code",
      "source": [
        "livedf2= pd.DataFrame(data=livedf2)"
      ],
      "metadata": {
        "id": "8k7bkY-Ikld5"
      },
      "execution_count": null,
      "outputs": []
    },
    {
      "cell_type": "code",
      "source": [
        "livedf2"
      ],
      "metadata": {
        "id": "rgnuPBGEkmtE"
      },
      "execution_count": null,
      "outputs": []
    },
    {
      "cell_type": "code",
      "source": [
        "twodim= np.expand_dims(livedf2, axis=2)"
      ],
      "metadata": {
        "id": "Pzd0c35KkpAe"
      },
      "execution_count": null,
      "outputs": []
    },
    {
      "cell_type": "code",
      "source": [
        "livepreds = loaded_model.predict(twodim, \n",
        "                         batch_size=32, \n",
        "                         verbose=1)"
      ],
      "metadata": {
        "id": "qG3hN_oOkqX-"
      },
      "execution_count": null,
      "outputs": []
    },
    {
      "cell_type": "code",
      "source": [
        "livepreds"
      ],
      "metadata": {
        "id": "bb3jxyLUkuJX"
      },
      "execution_count": null,
      "outputs": []
    },
    {
      "cell_type": "code",
      "source": [
        "livepreds1=livepreds.argmax(axis=1)"
      ],
      "metadata": {
        "id": "ca0M-CDWkwnr"
      },
      "execution_count": null,
      "outputs": []
    },
    {
      "cell_type": "code",
      "source": [
        "liveabc = livepreds1.astype(int).flatten()"
      ],
      "metadata": {
        "id": "FCJBlrGjkyV7"
      },
      "execution_count": null,
      "outputs": []
    },
    {
      "cell_type": "code",
      "source": [
        "livepredictions = (lb.inverse_transform((liveabc)))\n",
        "livepredictions"
      ],
      "metadata": {
        "id": "9dAQ63DOk2Yu"
      },
      "execution_count": null,
      "outputs": []
    }
  ]
}